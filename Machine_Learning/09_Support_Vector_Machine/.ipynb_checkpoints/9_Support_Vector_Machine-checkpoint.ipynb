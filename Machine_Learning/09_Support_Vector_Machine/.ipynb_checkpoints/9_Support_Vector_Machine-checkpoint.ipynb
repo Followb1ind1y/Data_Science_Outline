{
 "cells": [
  {
   "cell_type": "markdown",
   "id": "9c62b300",
   "metadata": {},
   "source": [
    "# <div align=\"right\">Machine Learning\n",
    "### <div align=\"right\"> *Followblindly*"
   ]
  },
  {
   "cell_type": "markdown",
   "id": "e09f571b",
   "metadata": {},
   "source": [
    "# 9 - Support Vector Machine"
   ]
  },
  {
   "cell_type": "markdown",
   "id": "7b71e120",
   "metadata": {},
   "source": [
    "**Support Vector Machine(SVM)** is a supervised machine learning algorithm which can be used for both **classification** or **regression** challenges. However,  it is mostly used in classification problems. In the SVM algorithm, we plot each data item as a point in n-dimensional space (where n is number of features you have) with the value of each feature being the value of a particular coordinate. Then, we perform classification by finding the hyper-plane that differentiates the two classes very well."
   ]
  },
  {
   "cell_type": "markdown",
   "id": "8b14afb3",
   "metadata": {},
   "source": [
    "The goal is to learn a hyperplane that discriminates between classes; we find a decision boundary which maximum separation between two classes. We consider two cases:\n",
    "\n",
    "* **Hard Margin:** Classes are linear separable. We find a hyperplane with margin that maxmally seperates the twp classes.\n",
    "\n",
    "* **Soft Margin:** Classes are not linear separable. We allow error (slack) in the model fitting and find a decision boundary with the minimum slack required to discriminate between two classes."
   ]
  },
  {
   "cell_type": "markdown",
   "id": "c6eeab3e",
   "metadata": {},
   "source": [
    "<img src=\"9_images/9_Hard_and_Soft.PNG\" width=600px/>"
   ]
  },
  {
   "cell_type": "markdown",
   "id": "2e70fa4b",
   "metadata": {},
   "source": [
    "## Hard Margin SVM"
   ]
  },
  {
   "cell_type": "markdown",
   "id": "05bd9f5a",
   "metadata": {},
   "source": [
    "**Illustration:** If the data is linear separable, there exist an infinite number of hyperplanes that can separate the two classes. The algorithm looks for the best hyperplane; the one with largest margin.\n",
    "\n",
    "* Hyperplane separating the two classes: $\\beta^{T}x+\\beta_{0}=0$\n",
    "* Set the labels: $y_{i}\\in\\{-1,1\\}$\n",
    "* We can classify points as $sign\\{d_{i}\\}$ where $d_{i} = \\beta^{T}x_{i}+\\beta_{0}$"
   ]
  },
  {
   "cell_type": "markdown",
   "id": "eb7243ff",
   "metadata": {},
   "source": [
    "**Margin:** The distance between the hyperplane and the closest points.\n",
    "\n",
    "**Goal:** Maximize the Magin\n",
    "\n",
    "$$\n",
    "Margin = min\\{y_{i}d_{i}\\}, \\ \\ \\ \\ i=1,2,3,...,n\n",
    "$$\n",
    "\n",
    "* Where $y_{i}$ is label and $d_{i}$ is distance"
   ]
  },
  {
   "cell_type": "markdown",
   "id": "9e5ccef9",
   "metadata": {},
   "source": [
    "<img src=\"9_images/9_Distance.PNG\" width=400px/>"
   ]
  },
  {
   "cell_type": "markdown",
   "id": "7ca43f7a",
   "metadata": {},
   "source": [
    "**(1).** $\\beta$ is orthogonal to the hyperplane. Consider $x_{1}$ and $x_{2}$ not on the hyperplane. Then, \n",
    "\n",
    "$$\n",
    "\\beta^{T}x_{1}+\\beta_{0} = \\beta^{T}x_{2}+\\beta_{0} = 0 \\\\\n",
    "\\Rightarrow \\beta^{T}(x_{1}-x_{2}) = 0  \\\\\n",
    "\\Rightarrow \\beta \\ is \\ orthogonal \\ to \\ (x_{1}-x_{2}).\n",
    "$$"
   ]
  },
  {
   "cell_type": "markdown",
   "id": "6e87c4ac",
   "metadata": {},
   "source": [
    "**(2).** For any $x_{0}$ on the hyperplane,\n",
    "\n",
    "$$\n",
    "\\beta^{T}x_{0}+\\beta_{0}=0 \\Rightarrow \\beta^{T}x_{0} = -\\beta_{0}\n",
    "$$"
   ]
  },
  {
   "cell_type": "markdown",
   "id": "ba6159b1",
   "metadata": {},
   "source": [
    "**(3).** The distance $d_{i}$ is the projection of $(x_{i}-x_{0})$ to the direction of $\\beta$.\n",
    "\n",
    "$$\n",
    "\\begin{align*}\n",
    "d_{i}&=\\frac{\\beta^{T}(x_{i}-x_{0})}{\\parallel\\beta\\parallel} \\\\\n",
    "&=\\frac{\\beta^{T}x_{i}-\\beta^{T}x_{0}}{\\parallel\\beta\\parallel} \\\\\n",
    "&=\\frac{\\beta^{T}x_{i}-\\beta_{0}}{\\parallel\\beta\\parallel} \\\\\n",
    "\\end{align*}\n",
    "$$\n",
    "\n",
    "Thus, \n",
    "\n",
    "$$\n",
    "Margin = min\\{y_{i}d_{i}\\} = min\\{\\frac{y_{i}\\beta^{T}x_{i}-\\beta_{0}}{\\parallel\\beta\\parallel}\\}\n",
    "$$"
   ]
  },
  {
   "cell_type": "markdown",
   "id": "0ff1d601",
   "metadata": {},
   "source": [
    "**(4).** If the point is not on the hyperplane, then\n",
    "\n",
    "$$\n",
    "y_{i}(\\beta^{T}x_{i}+\\beta_{0}) > 0 \\\\\n",
    "\\Rightarrow \\ y_{i}(\\beta^{T}x_{i}+\\beta_{0}) \\geq c \\\\\n",
    "\\Rightarrow \\ y_{i}\\frac{(\\beta^{T}x_{i}+\\beta_{0})}{c} \\geq 1 \\\\\n",
    "\\Rightarrow \\ There \\ exist \\ \\beta \\ and \\ \\beta_{0} \\ such \\ that \\ y_{i}(\\beta^{T}x_{i}+\\beta_{0}) \\geq 1 \\\\\n",
    "$$\n",
    "\n",
    "Therefore, \n",
    "\n",
    "$$\n",
    "Margin = \\frac{1}{\\parallel\\beta\\parallel}\n",
    "$$"
   ]
  },
  {
   "cell_type": "markdown",
   "id": "7249a9f1",
   "metadata": {},
   "source": [
    "<img src=\"9_images/9_Hard_Margin.PNG\" width=400px/>"
   ]
  },
  {
   "cell_type": "markdown",
   "id": "c558845e",
   "metadata": {},
   "source": [
    "The original problem can be reduced now to:\n",
    "\n",
    "$$\n",
    "min_{\\beta,\\beta_{0}}\\frac{1}{2}{\\parallel\\beta\\parallel}^{2} \\\\\n",
    "Subject \\ to \\ y_{i}(\\beta^{T}x_{i}+\\beta_{0}) \\geq 1, i =1,2,...,n\n",
    "$$"
   ]
  },
  {
   "cell_type": "markdown",
   "id": "1e0f8de0",
   "metadata": {},
   "source": [
    "### Lagrange Method\n",
    "\n",
    "From the lagrangian, we can have:\n",
    "\n",
    "$$\n",
    "\\begin{align*}\n",
    "L_{p}&=\\frac{1}{2}{\\parallel\\beta\\parallel}^{2}-\\sum_{i=1}^{n}\\alpha_{i}[ y_{i}(\\beta^{T}x_{i}+\\beta_{0})-1] \\\\\n",
    "&= \\frac{1}{2}\\beta^{T}\\beta - \\beta^{T}\\sum_{i=1}^{n}\\alpha_{i}y_{i}x_{i}-\\beta_{0}\\sum_{i=1}^{n}\\alpha_{i}y_{i}+\\sum_{i=1}^{n}\\alpha_{i}\n",
    "\\end{align*}\n",
    "$$"
   ]
  },
  {
   "cell_type": "markdown",
   "id": "a921df3e",
   "metadata": {},
   "source": [
    "$$ \n",
    "\\frac{\\partial L_{p}}{\\partial \\beta}=\\beta - \\sum_{i=0}^{n}\\alpha_{i}y_{i}x_{i} = 0 \\Rightarrow \\beta = \\sum_{i=0}^{n}\\alpha_{i}y_{i}x_{i} \\\\\n",
    "\\frac{\\partial L_{p}}{\\partial \\beta_{0}}=-\\sum_{i=0}^{n}\\alpha_{i}y_{i} = 0 \\Rightarrow \\sum_{i=0}^{n}\\alpha_{i}y_{i} = 0\n",
    "$$"
   ]
  },
  {
   "cell_type": "markdown",
   "id": "2237a030",
   "metadata": {},
   "source": [
    "Substituting this in the lagrangian we obtain:\n",
    "\n",
    "$$\n",
    "\\begin{align*}\n",
    "max_{\\alpha_{i}}\\sum_{i=1}^{n}\\alpha_{i} - \\frac{1}{2}\\sum_{i=1}^{n}&\\sum_{j=1}^{n}\\alpha_{i}\\alpha_{j}y_{i}y_{j}x_{i}^{T}x_{j} \\\\\n",
    "Subject \\ to \\ \\alpha_{i} &\\geq 0 \\\\\n",
    "\\sum_{i=1}^{n}\\alpha_{i}y_{i}&=0\n",
    "\\end{align*}\n",
    "$$"
   ]
  },
  {
   "cell_type": "markdown",
   "id": "b37fdce7",
   "metadata": {},
   "source": [
    "Our **primal optimization problem** with the Lagrangian becomes the following: \n",
    "\n",
    "$$\n",
    "min_{\\beta,\\beta_{0}}(max_{\\alpha_{i}}L(\\beta,\\beta_{0},\\alpha))\n",
    "$$"
   ]
  },
  {
   "cell_type": "markdown",
   "id": "a9bf86f5",
   "metadata": {},
   "source": [
    "### Dual Problem\n",
    "\n",
    "What @Antoni and Prof. Patrick Winston have done in their derivation is assume that the optimization function and the constraints meet some technical conditions such that we can do the following:\n",
    "\n",
    "$$\n",
    "min_{\\beta,\\beta_{0}}(max_{\\alpha_{i}}L(\\beta,\\beta_{0},\\alpha))=max_{\\alpha_{i}}(min_{\\beta,\\beta_{0}}L(\\beta,\\beta_{0},\\alpha))\n",
    "$$"
   ]
  },
  {
   "cell_type": "markdown",
   "id": "3707e99c",
   "metadata": {},
   "source": [
    "This allows us to take the partial derivatives of $L(\\beta,\\beta_{0},\\alpha)$ with respect to $\\beta$ and $\\beta_{0}$, equate to zero and then plug the results back into the original equation of the Lagrangian, hence generating an equivalent **dual** optimization problem of the form\n",
    "\n",
    "$$\n",
    "\\begin{align*}\n",
    "&max_{\\alpha_{i}}(min_{\\beta,\\beta_{0}}L(\\beta,\\beta_{0},\\alpha)) \\\\\n",
    "&max_{\\alpha_{i}}\\sum_{i=1}^{n}\\alpha_{i} - \\frac{1}{2}\\sum_{i=1}^{n}\\sum_{j=1}^{n}\\alpha_{i}\\alpha_{j}y_{i}y_{j}<x_{i},x_{j}> \\\\\n",
    "&s.t. \\ \\alpha_{i} \\geq 0 \\\\\n",
    "&s.t. \\ \\sum_{i=1}^{n}\\alpha_{i}y_{i}=0\n",
    "\\end{align*}\n",
    "$$"
   ]
  },
  {
   "cell_type": "markdown",
   "id": "cc6121a4",
   "metadata": {},
   "source": [
    "### Optimization – Karush–Kuhn–Tucker (KKT) conditions\n",
    "\n",
    "Without going into excessive mathematical technicalities, these conditions are a combination of the Duality and the Karush Kuhn Tucker (KTT) conditions and allow us to solve the **dual** problem instead of the **primal** one, while ensuring that the optimal solution is the same. In our case the conditions are the following:\n",
    "\n",
    "* The primal objective and inequality constraint functions must be convex\n",
    "* The equality constraint function must be affine\n",
    "* The constraints must be strictly feasible\n",
    "\n",
    "Then there exists $x^{*}$,$\\alpha^{*}$ which are solutions to the primal and dual problems.\n",
    "\n",
    "$$\n",
    "min_{x}f(x) \\\\\n",
    "subject \\ to \\ g(x)\\leq 0\n",
    "$$\n",
    "\n",
    "* If $x^{*}$ is a local optimum, subject to regularity conditions, then there exist constant multipliers $\\alpha_{i}^{*}$ such that\n",
    "\n",
    "$$\n",
    "\\begin{align*}\n",
    "&\\frac{\\partial}{\\partial x}L(x^{*}) = 0 \\\\\n",
    "&g(x^{*}) \\leq 0 \\\\\n",
    "&\\alpha_{i}^{*} \\geq 0 \\\\\n",
    "&\\alpha_{i}^{*}g(x^{*})=0, \\forall i\n",
    "\\end{align*}\n",
    "$$"
   ]
  },
  {
   "cell_type": "markdown",
   "id": "400bed08",
   "metadata": {},
   "source": [
    "From the complementary slackness (**KKT Conditions**), we have $\\alpha_{i}^{*}g(x^{*})=\\alpha_{i}^{*}[y_{i}(\\beta^{T}x_{i}+\\beta_{0})-1] = 0$ we can see that\n",
    "\n",
    "* if $\\alpha_{i}^{*} > 0$, then $y_{i}(\\beta^{T}x_{i}+\\beta_{0})-1 = 0$, i.e. $x_{i}$ is on the margin. This point is called **support vector**.\n",
    "* if $y_{i}(\\beta^{T}x_{i}+\\beta_{0}) > 1$, $x_{i}$ is not on the margin, and $\\alpha_{i}^{*}=0$\n",
    "\n",
    "This is a convex optimization and can be solved by quadratic programming. "
   ]
  },
  {
   "cell_type": "markdown",
   "id": "4e6c8a12",
   "metadata": {},
   "source": [
    "## Soft Margin SVM\n",
    "\n",
    "Having a dataset with linear separable classes is very unlikely in practice, so we remove this requirement. We now consider a dataset where both classes overlap such that no hyperplane exists that can completely seperate the two classes on the training data. Instead, the **goal** becomes to find a hyperplane which minimizes the amount of datapoints that \"spill\" over to the opposite sides.\n",
    "\n",
    "We allow points to violate our previous constraint by some error $\\zeta$, but penalize the objective function the more it is violated. Our new optimization problem becomes:\n",
    "\n",
    "$$\n",
    "min_{\\beta,\\beta_{0}}\\frac{1}{2}{\\parallel\\beta\\parallel}^{2}+\\gamma\\sum_{i=1}^{n}\\zeta_{i} \\\\\n",
    "Subject \\ to \\ y_{i}(\\beta^{T}x_{i}+\\beta_{0}) \\geq 1-\\zeta_{i}, \\forall i \\\\\n",
    "\\zeta_{i} \\geq 0, \\forall i\n",
    "$$"
   ]
  },
  {
   "cell_type": "markdown",
   "id": "bf13599d",
   "metadata": {},
   "source": [
    "### Lagrange Method\n",
    "We formulate the lagrangian function:\n",
    "\n",
    "$$\n",
    "L(\\beta_{0},\\beta,\\alpha,\\zeta,\\lambda)=\\frac{1}{2}{\\parallel\\beta\\parallel}^{2}+\\gamma\\sum_{i=1}^{n}\\zeta_{i}-\\sum_{i=1}^{n}\\alpha_{i}[y_{i}(\\beta^{T}x_{i}+\\beta_{0})-(1-\\zeta_{i})] - \\sum_{i=1}^{n}\\lambda_{i}\\zeta_{i}\n",
    "$$"
   ]
  },
  {
   "cell_type": "markdown",
   "id": "1d0c1e06",
   "metadata": {},
   "source": [
    "$$ \n",
    "\\begin{align*}\n",
    "&\\frac{\\partial L}{\\partial \\beta}=\\beta - \\sum_{i=0}^{n}\\alpha_{i}y_{i}x_{i} = 0 \\Rightarrow \\beta = \\sum_{i=0}^{n}\\alpha_{i}y_{i}x_{i} \\\\\n",
    "&\\frac{\\partial L}{\\partial \\beta_{0}}=-\\sum_{i=0}^{n}\\alpha_{i}y_{i} = 0 \\Rightarrow  \\sum_{i=0}^{n}\\alpha_{i}y_{i} = 0 \\\\\n",
    "&\\frac{\\partial L}{\\partial \\zeta_{i}} \\Rightarrow \\gamma - \\alpha_{i} - \\lambda_{i} = 0\n",
    "\\end{align*}\n",
    "$$"
   ]
  },
  {
   "cell_type": "markdown",
   "id": "43c8e668",
   "metadata": {},
   "source": [
    "Substituting this in the lagrangian we obtain:\n",
    "\n",
    "$$\n",
    "\\begin{align*}\n",
    "L(\\beta_{0},\\beta,\\alpha,\\zeta,\\lambda)&=\\sum_{i=1}^{n}\\alpha_{i} - \\frac{1}{2}\\sum_{i=1}^{n}\\sum_{j=1}^{n}\\alpha_{i}\\alpha_{j}y_{i}y_{j}x_{i}^{T}x_{j} \\\\\n",
    "&s.t. \\ \\alpha_{i} \\geq 0 \\\\\n",
    "&s.t. \\ \\sum_{i=1}^{n}\\alpha_{i}y_{i}=0 \\\\\n",
    "&s.t. \\ \\gamma - \\alpha_{i} - \\lambda_{i} = 0\n",
    "\\end{align*}\n",
    "$$"
   ]
  },
  {
   "cell_type": "markdown",
   "id": "5c342fbf",
   "metadata": {},
   "source": [
    "Since $\\lambda_{i}$ is a lagrangian multiplayer, we know that $\\lambda_{i}\\geq0$\n",
    "\n",
    "$$\n",
    "\\lambda_{i} = 0 \\Rightarrow \\alpha_{i} = \\gamma \\\\\n",
    "\\lambda_{i} > 0 \\Rightarrow \\alpha_{i} < \\gamma \\\\\n",
    "$$"
   ]
  },
  {
   "cell_type": "markdown",
   "id": "ea91e7d4",
   "metadata": {},
   "source": [
    "Thus, we need to\n",
    "\n",
    "$$\n",
    "\\begin{align*}\n",
    "max\\sum_{i=1}^{n}\\alpha_{i} - &\\frac{1}{2}\\sum_{i=1}^{n}\\sum_{j=1}^{n}\\alpha_{i}\\alpha_{j}y_{i}y_{j}<x_{i},{T}x_{j}> \\\\\n",
    "&s.t. \\ 0 \\leq \\alpha_{i} \\leq \\gamma \\\\\n",
    "&s.t. \\ 0 \\sum_{i=1}^{n}\\alpha_{i}y_{i}=0 \\\\\n",
    "\\end{align*}\n",
    "$$"
   ]
  },
  {
   "cell_type": "markdown",
   "id": "f2461384",
   "metadata": {},
   "source": [
    "### Optimization – Karush–Kuhn–Tucker (KKT) conditions\n",
    "From the complementary slackness (**KKT Conditions**), we have \n",
    "\n",
    "$$\n",
    "\\alpha_{i}g(x^{*})=\\alpha_{i}[y_{i}(\\beta^{T}x_{i}+\\beta_{0})-(1-\\zeta_{i})] = 0, \\\\\n",
    "\\lambda_{i}\\zeta_{i}=0\n",
    "$$\n",
    "\n",
    "* if $\\alpha_{i}^{*} > 0$, then $y_{i}(\\beta^{T}x_{i}+\\beta_{0}) = 1-\\zeta_{i}$, $x_{i}$ is a **support vector**.\n",
    "    * $\\lambda_{i}>0$, then $\\zeta_{i}=0$. This point is on the margin. We know that $\\gamma - \\alpha_{i}^{*} - \\lambda_{i} = 0$ $\\ \\Rightarrow \\ $ $\\alpha_{i}^{*}<\\gamma$\n",
    "    * $\\zeta_{i}>0$, then $\\lambda_{i}=0$. This point is over the margin.\n",
    "    \n",
    "* if $\\alpha_{i}^{*}=0$, then this point is NOT **support vector**.\n",
    "$$\n",
    "y_{i}(\\beta^{T}x_{i}+\\beta_{0})-(1-\\zeta_{i})> 0 \\\\\n",
    "y_{i}(\\beta^{T}x_{i}+\\beta_{0})> 1-\\zeta_{i} \\\\\n",
    "Since \\ \\gamma - \\alpha_{i}^{*} - \\lambda_{i} = 0 \\ and \\ \\alpha_{i}^{*}=0 \\\\ \n",
    "\\Rightarrow \\lambda_{i}=\\gamma \\Rightarrow \\zeta_{i}=0 \\\\\n",
    "\\Rightarrow y_{i}(\\beta^{T}x_{i}+\\beta_{0})> 1\\\\\n",
    "$$\n",
    "\n",
    "This is a convex optimization and can be solved by quadratic programming. "
   ]
  },
  {
   "cell_type": "markdown",
   "id": "39a02667",
   "metadata": {},
   "source": [
    "## Kernel Methods\n",
    "\n",
    "Kernels or kernel methods (also called Kernel functions) are sets of different types of algorithms that are being used for pattern analysis. They are used to solve a non-linear problem by using a linear classifier. Kernels are a convenient way of expanding the feature space. The fact that kernels expand the feature space will not be obvious.\n",
    "\n",
    "The predicted value for a new vector x can be written as:\n",
    "\n",
    "$$\n",
    "\\hat{f}(x) = \\hat{\\beta_{0}}+ \\sum_{i\\in S}\\hat{\\alpha_{i}}y_{i}<x,x_{i}>\n",
    "$$\n",
    "Where\n",
    "\n",
    "* $x_{i}$ is a vector, $y_{i}$ is scalar(+1 or -1), $\\alpha_{i}$ is a scalar.\n",
    "* alpha’s are the Lagrange multipliers arising during optimization\n",
    "* S is the set of support vectors, and\n",
    "* the inner product $<.,.>$ is defined as $<x_{i},x_{i}'> = \\sum_{j=1}^{p}x_{ij}x_{ij}'$\n",
    "\n",
    "Remarkably, the solution depends only on the inner product of the observations, not on the observations themselves."
   ]
  },
  {
   "cell_type": "markdown",
   "id": "b6ff4b6c",
   "metadata": {},
   "source": [
    "Rather than changing the number of x‐variables to include the quadratic terms, it is possible to expand the feature space as a function of the original x‐variables\n",
    "\n",
    "$$\n",
    "\\hat{f}(x) = \\hat{\\beta_{0}}+ \\sum_{i\\in S}\\hat{\\alpha_{i}}y_{i}<h(x),h(x_{i})>\n",
    "$$\n",
    "\n",
    "Where $h(.)$ is a function that maps the set of original $x$‐variables to an expanded set (including derived variables)\n",
    "\n",
    "$$\n",
    "h(x)=(h_{1}(x),h_{2}(x),...,h_{p_{new}}(x))\n",
    "$$\n",
    "\n",
    "Again, this formulation implies that the solution only depends on the inner product of the expanded set of variables(not on the variables themselves)."
   ]
  },
  {
   "cell_type": "markdown",
   "id": "714016be",
   "metadata": {},
   "source": [
    "Kernels expand this idea:\n",
    "\n",
    "$$\n",
    "\\begin{align*}\n",
    "\\hat{f}(x) &= \\hat{\\beta_{0}}+ \\sum_{i\\in S}\\hat{\\alpha_{i}}y_{i}<h(x),h(x_{i})> \\\\\n",
    "&= \\hat{\\beta_{0}}+ \\sum_{i\\in S}\\hat{\\alpha_{i}}y_{i}K(x,x_{i})\n",
    "\\end{align*}\n",
    "$$\n",
    "\n",
    "Where $K$ is a Kernel function. The Kernel function implies an expanded set of variables(though this is not obvious).\n",
    "\n",
    "The solution to the optimization problem depends only on the inner (dot) product, not on the observations themselves."
   ]
  },
  {
   "cell_type": "markdown",
   "id": "7a1842a3",
   "metadata": {},
   "source": [
    "<img src=\"9_images/9_Kernel.PNG\" width=600px/>"
   ]
  },
  {
   "cell_type": "markdown",
   "id": "b08d5f86",
   "metadata": {},
   "source": [
    "### Classical Example:\n",
    "\n",
    "$$\n",
    "\\begin{align*}\n",
    "<\\phi(x),\\phi(x')> &= (x^{2}_{1},x^{2}_{2}\\sqrt{2}x_{1}x_{2})(x'^{2}_{1},x'^{2}_{2}\\sqrt{2}x'_{1}x'_{2})^{T} \\\\\n",
    "&= ((x_{1},x_{2}),(x'_{1},x'_{2})^{T})^{2} \\\\\n",
    "&= <x,x'> \\\\\n",
    "&=: K(x,x') \\\\\n",
    "\\end{align*}\n",
    "$$"
   ]
  },
  {
   "cell_type": "markdown",
   "id": "1b1ec711",
   "metadata": {},
   "source": [
    "### Kernel trick:\n",
    "* Computing the kernel is sufficient\n",
    "* Derived variables need not be explicitly computed"
   ]
  },
  {
   "cell_type": "markdown",
   "id": "16483308",
   "metadata": {},
   "source": [
    "### Linear Kernel\n",
    "\n",
    "$$\n",
    "K(x_{i},x_{i}') = \\ <x_{i},x_{i}'> \\ = \\sum_{j=1}^{d}x_{ij}x_{i'j}\n",
    "$$\n",
    "\n",
    "* No additional tuning parameters\n",
    "* Nonlinear kernels have more flexibility, but this is not always needed\n",
    "* Often the preferred choice in text mining applications\n",
    "    * Sparse matrices (mostly 0’s)\n",
    "    * Indicator variables (or counts) rather than continuous variables"
   ]
  },
  {
   "cell_type": "markdown",
   "id": "ce6deb9a",
   "metadata": {},
   "source": [
    "### Polynomial Kernel\n",
    "\n",
    "$$\n",
    "K(x_{i},x_{i}') = (1+ <x_{i},x_{i}'>)^{p} = (\\beta_{0}+ \\gamma\\sum_{j=1}^{d}x_{ij}x_{i'j})^{p}\n",
    "$$\n",
    "\n",
    "* A polynomial kernel of order $d=2$ corresponds to adding all possible quadratic variables\n",
    "* $\\beta_{0}, \\gamma>0$ and $d$ (>0, integer) are tuning parameters\n",
    "* In practice, often $\\beta_{0}=0$, $d=2$ or $d=3$ are often sufficient. Set $d=2$ or $d=3$ and tune gamma and $C$"
   ]
  },
  {
   "cell_type": "markdown",
   "id": "9a61b1a4",
   "metadata": {},
   "source": [
    "### Radial Basis function (RBF) Kernel (or Gaussian Kernel)\n",
    "\n",
    "$$\n",
    "K(x_{i},x_{i}') = exp(-\\gamma\\parallel x_{i}-x_{i}'\\parallel^{2}) = exp(-\\gamma\\sum_{j=1}^{d}(x_{ij}x_{i'j})^{2})\n",
    "$$\n",
    "\n",
    "* $\\gamma>0$ is a tuning parameter\n",
    "* The kernel is very small for points far apart\n",
    "* Most popular choice\n",
    "* It can be shown this kernel corresponds to an infinite number of x‐variables"
   ]
  },
  {
   "cell_type": "markdown",
   "id": "70b73a24",
   "metadata": {},
   "source": [
    "## Implementing SVM from sklearn"
   ]
  },
  {
   "cell_type": "code",
   "execution_count": 5,
   "id": "75061a3f",
   "metadata": {},
   "outputs": [],
   "source": [
    "import numpy as np\n",
    "import pandas as pd\n",
    "from matplotlib import pyplot as plt\n",
    "import seaborn as sns\n",
    "from sklearn.model_selection import train_test_split"
   ]
  },
  {
   "cell_type": "code",
   "execution_count": 2,
   "id": "c83dc78e",
   "metadata": {},
   "outputs": [
    {
     "data": {
      "text/html": [
       "<div>\n",
       "<style scoped>\n",
       "    .dataframe tbody tr th:only-of-type {\n",
       "        vertical-align: middle;\n",
       "    }\n",
       "\n",
       "    .dataframe tbody tr th {\n",
       "        vertical-align: top;\n",
       "    }\n",
       "\n",
       "    .dataframe thead th {\n",
       "        text-align: right;\n",
       "    }\n",
       "</style>\n",
       "<table border=\"1\" class=\"dataframe\">\n",
       "  <thead>\n",
       "    <tr style=\"text-align: right;\">\n",
       "      <th></th>\n",
       "      <th>Id</th>\n",
       "      <th>SepalLengthCm</th>\n",
       "      <th>SepalWidthCm</th>\n",
       "      <th>PetalLengthCm</th>\n",
       "      <th>PetalWidthCm</th>\n",
       "      <th>Species</th>\n",
       "    </tr>\n",
       "  </thead>\n",
       "  <tbody>\n",
       "    <tr>\n",
       "      <th>0</th>\n",
       "      <td>1</td>\n",
       "      <td>5.1</td>\n",
       "      <td>3.5</td>\n",
       "      <td>1.4</td>\n",
       "      <td>0.2</td>\n",
       "      <td>Iris-setosa</td>\n",
       "    </tr>\n",
       "    <tr>\n",
       "      <th>1</th>\n",
       "      <td>2</td>\n",
       "      <td>4.9</td>\n",
       "      <td>3.0</td>\n",
       "      <td>1.4</td>\n",
       "      <td>0.2</td>\n",
       "      <td>Iris-setosa</td>\n",
       "    </tr>\n",
       "    <tr>\n",
       "      <th>2</th>\n",
       "      <td>3</td>\n",
       "      <td>4.7</td>\n",
       "      <td>3.2</td>\n",
       "      <td>1.3</td>\n",
       "      <td>0.2</td>\n",
       "      <td>Iris-setosa</td>\n",
       "    </tr>\n",
       "    <tr>\n",
       "      <th>3</th>\n",
       "      <td>4</td>\n",
       "      <td>4.6</td>\n",
       "      <td>3.1</td>\n",
       "      <td>1.5</td>\n",
       "      <td>0.2</td>\n",
       "      <td>Iris-setosa</td>\n",
       "    </tr>\n",
       "    <tr>\n",
       "      <th>4</th>\n",
       "      <td>5</td>\n",
       "      <td>5.0</td>\n",
       "      <td>3.6</td>\n",
       "      <td>1.4</td>\n",
       "      <td>0.2</td>\n",
       "      <td>Iris-setosa</td>\n",
       "    </tr>\n",
       "  </tbody>\n",
       "</table>\n",
       "</div>"
      ],
      "text/plain": [
       "   Id  SepalLengthCm  SepalWidthCm  PetalLengthCm  PetalWidthCm      Species\n",
       "0   1            5.1           3.5            1.4           0.2  Iris-setosa\n",
       "1   2            4.9           3.0            1.4           0.2  Iris-setosa\n",
       "2   3            4.7           3.2            1.3           0.2  Iris-setosa\n",
       "3   4            4.6           3.1            1.5           0.2  Iris-setosa\n",
       "4   5            5.0           3.6            1.4           0.2  Iris-setosa"
      ]
     },
     "execution_count": 2,
     "metadata": {},
     "output_type": "execute_result"
    }
   ],
   "source": [
    "iris = pd.read_csv('iris.csv')\n",
    "iris.head()"
   ]
  },
  {
   "cell_type": "code",
   "execution_count": 3,
   "id": "9d5c21b1",
   "metadata": {},
   "outputs": [],
   "source": [
    "iris['SepalLengthCm'] = pd.to_numeric(iris['SepalLengthCm'])\n",
    "iris['SepalWidthCm'] = pd.to_numeric(iris['SepalWidthCm'])\n",
    "iris['PetalLengthCm'] = pd.to_numeric(iris['PetalLengthCm'])\n",
    "iris['PetalWidthCm'] = pd.to_numeric(iris['PetalWidthCm'])"
   ]
  },
  {
   "cell_type": "code",
   "execution_count": 4,
   "id": "ea9bbcb1",
   "metadata": {},
   "outputs": [
    {
     "data": {
      "text/plain": [
       "<AxesSubplot:xlabel='SepalLengthCm', ylabel='SepalWidthCm'>"
      ]
     },
     "execution_count": 4,
     "metadata": {},
     "output_type": "execute_result"
    },
    {
     "data": {
      "image/png": "[encoded data removed]",
      "text/plain": [
       "<Figure size 432x288 with 1 Axes>"
      ]
     },
     "metadata": {
      "needs_background": "light"
     },
     "output_type": "display_data"
    }
   ],
   "source": [
    "sns.scatterplot(x='SepalLengthCm', y='SepalWidthCm', hue='Species', data=iris)"
   ]
  },
  {
   "cell_type": "code",
   "execution_count": 10,
   "id": "66e26431",
   "metadata": {},
   "outputs": [],
   "source": [
    "df1 = iris[['SepalLengthCm', 'SepalWidthCm','Species']]\n",
    "X = df1.iloc[:,0:2]\n",
    "Y = df1.iloc[:,2].replace({'Iris-setosa':0,'Iris-versicolor':1,'Iris-virginica':2}).copy()"
   ]
  },
  {
   "cell_type": "code",
   "execution_count": 11,
   "id": "6e6b7786",
   "metadata": {},
   "outputs": [],
   "source": [
    "x_train, x_test, y_train, y_test = train_test_split(X, Y, random_state=4)"
   ]
  },
  {
   "cell_type": "code",
   "execution_count": 16,
   "id": "4324571d",
   "metadata": {},
   "outputs": [
    {
     "name": "stdout",
     "output_type": "stream",
     "text": [
      "Accuracy_score with Linear Kernel is 0.868421052631579\n"
     ]
    }
   ],
   "source": [
    "from sklearn.svm import SVC\n",
    "from sklearn.metrics import accuracy_score\n",
    "\n",
    "clf = SVC(kernel='linear')\n",
    "clf.fit(x_train,y_train)\n",
    "y_pred = clf.predict(x_test)\n",
    "print('Accuracy Score for Linear Kernel is', accuracy_score(y_test,y_pred))"
   ]
  },
  {
   "cell_type": "code",
   "execution_count": 17,
   "id": "8a44d484",
   "metadata": {},
   "outputs": [
    {
     "name": "stdout",
     "output_type": "stream",
     "text": [
      "Accuracy Score for RBF kernel is 0.868421052631579\n"
     ]
    }
   ],
   "source": [
    "clf = SVC(kernel='rbf', gamma=0.7, C=C)\n",
    "clf.fit(x_train,y_train)\n",
    "y_pred = clf.predict(x_test)\n",
    "print('Accuracy Score for RBF kernel is', accuracy_score(y_test,y_pred))"
   ]
  },
  {
   "cell_type": "code",
   "execution_count": 20,
   "id": "cf6975b1",
   "metadata": {},
   "outputs": [
    {
     "name": "stdout",
     "output_type": "stream",
     "text": [
      "Accuracy Score for polynomial (degree 3) kernel is 0.8157894736842105\n"
     ]
    }
   ],
   "source": [
    "clf = SVC(kernel='poly', degree=3, gamma='auto', C=C)\n",
    "clf.fit(x_train,y_train)\n",
    "y_pred = clf.predict(x_test)\n",
    "print('Accuracy Score for polynomial (degree 3) kernel is', accuracy_score(y_test,y_pred))"
   ]
  },
  {
   "cell_type": "markdown",
   "id": "e5967397",
   "metadata": {},
   "source": [
    "<img src=\"9_images/9_Implement_Kernels.PNG\" width=600px/>"
   ]
  },
  {
   "cell_type": "markdown",
   "id": "5933a4d7",
   "metadata": {},
   "source": [
    "##  SVM – More than 2 Classes\n",
    "\n",
    "### One vs all (more common)\n",
    "* With K classes apply SVM once for each class\n",
    "    * Class k vs all remaining classes\n",
    "* Each SVM classifier gives a score for class k (vs all others)\n",
    "    * The score is the estimated function value\n",
    "* Predict the class k that has the highest score\n",
    "\n",
    "### One vs One (All pairs)\n",
    "* K classes give (K choose 2) possible pairs\n",
    "* Conduct an SVM for each pair\n",
    "* Keep track of which class wins each time\n",
    "* Predict the class with the most wins"
   ]
  },
  {
   "cell_type": "markdown",
   "id": "0e50efa3",
   "metadata": {},
   "source": [
    "##  Pros and Cons of SVM\n",
    "\n",
    "### Pros:\n",
    "* Works well with when the number of features is large\n",
    "* Works well when number of features exceeds the number of observations\n",
    "* Memory efficient for prediction because only support vectors (not all observations) are needed\n",
    "\n",
    "### Cons:\n",
    "* When the data sets are really large, training time can be very long\n",
    "* Does not work as well when there is a lot of noise\n",
    "* Probability estimates are ad‐hoc\n",
    "* SVM is sensitive to scaling of x‐variables"
   ]
  },
  {
   "cell_type": "markdown",
   "id": "bda4258f",
   "metadata": {},
   "source": [
    "## Reference"
   ]
  },
  {
   "cell_type": "markdown",
   "id": "221bb47c",
   "metadata": {},
   "source": [
    "[1]$\\ \\ \\ \\$ Polamuri, S. (2017, February 19). Support vector machine (Svm classifier) implemenation in python with Scikit-learn. Dataaspirant. https://dataaspirant.com/svm-classifier-implemenation-python-scikit-learn/. "
   ]
  }
 ],
 "metadata": {
  "kernelspec": {
   "display_name": "Python 3",
   "language": "python",
   "name": "python3"
  },
  "language_info": {
   "codemirror_mode": {
    "name": "ipython",
    "version": 3
   },
   "file_extension": ".py",
   "mimetype": "text/x-python",
   "name": "python",
   "nbconvert_exporter": "python",
   "pygments_lexer": "ipython3",
   "version": "3.7.10"
  }
 },
 "nbformat": 4,
 "nbformat_minor": 5
}
