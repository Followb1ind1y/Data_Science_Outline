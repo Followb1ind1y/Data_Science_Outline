{
 "cells": [
  {
   "cell_type": "markdown",
   "id": "55006249",
   "metadata": {},
   "source": [
    "# <div align=\"right\">Machine Learning\n",
    "### <div align=\"right\"> *Followblindly*"
   ]
  },
  {
   "cell_type": "markdown",
   "id": "9a8671aa",
   "metadata": {},
   "source": [
    "# 3 - Logistic Regression"
   ]
  },
  {
   "cell_type": "markdown",
   "id": "da63228c",
   "metadata": {},
   "source": [
    "Binary Logistic Regression is one of the most simple and commonly used Machine Learning algorithms for **two-class classification**. It is easy to implement and can be used as the baseline for any binary classification problem. Its basic fundamental concepts are also constructive in deep learning. Logistic regression describes and estimates the relationship between one dependent binary variable and independent variables."
   ]
  },
  {
   "cell_type": "markdown",
   "id": "f1b46165",
   "metadata": {},
   "source": [
    "$$\n",
    "P(y = 1) = p \\ , \\ P(y = 0) = 1 - p \\\\\n",
    "$$"
   ]
  },
  {
   "cell_type": "markdown",
   "id": "991ce3cf",
   "metadata": {},
   "source": [
    "$$\n",
    "log\\frac{p}{1-p} = \\beta_{0} + \\beta_{1}x_{1} + \\beta_{2}x_{2} + \\beta_{3}x_{3} + \\cdot\\cdot\\cdot + \\beta_{n}x_{n} = \\beta^{T}x \\\\\n",
    "$$"
   ]
  },
  {
   "cell_type": "markdown",
   "id": "8872ec7d",
   "metadata": {},
   "source": [
    "$$\n",
    "p = \\frac{e^{\\beta^{T}x}}{1-e^{\\beta^{T}x}}\n",
    "$$"
   ]
  },
  {
   "cell_type": "markdown",
   "id": "bd90d060",
   "metadata": {},
   "source": [
    "The classification problem is just like the regression problem, except that the values we now want to predict take on only a small number of discrete values. For now, we will focus on the binary classification problem in which y can take on only two values, 0 and 1. (Most of what we say here will also generalize to the multiple-class case.) We could approach the classification problem ignoring the fact that y is discrete-valued, and use our old linear regression algorithm to try to predict y given x. However, it is easy to construct examples where this method performs very poorly. Intuitively, it also doesn’t make sense for $h_{\\theta}(x)$ to take values larger than 1 or smaller than 0 when we know that y ∈ {0, 1}. To fix this, let’s change the form for our hypotheses $h_{\\theta}(x)$ to satisfy $0 \\leq h_{\\theta}(x) \\leq 1$ This is accomplished by plugging $\\theta^{T}x$ into the Logistic Function. Our new form uses the \"**Sigmoid Function**,\" also called the \"**Logistic Function**\":"
   ]
  },
  {
   "cell_type": "markdown",
   "id": "4eee19fa",
   "metadata": {},
   "source": [
    "$$\n",
    "f(x) = \\frac{1}{1+e^{-(x)}}\n",
    "$$"
   ]
  },
  {
   "cell_type": "markdown",
   "id": "ed978378",
   "metadata": {},
   "source": [
    "<img src=\"3_images/3_Sigmoid_Function.PNG\" width=600px/>"
   ]
  },
  {
   "cell_type": "markdown",
   "id": "b1a5782c",
   "metadata": {},
   "source": [
    "First we need to define a **Probability Mass Function:**"
   ]
  },
  {
   "cell_type": "markdown",
   "id": "54bc8627",
   "metadata": {},
   "source": [
    "$$\n",
    "\\begin{align*} \n",
    "&\\ \\ \\ \\ \\ \\ \\ \\ \\ \\ P(Y=1|X=x) = \\frac{e^{\\beta^{T}x}}{1+e^{\\beta^{T}x}} \\\\\n",
    "&\\ \\ \\ \\ \\ \\ \\ \\ \\ \\ P(Y=0|X=x) = 1 - \\frac{e^{\\beta^{T}x}}{1+e^{\\beta^{T}x}} = \\frac{1}{1+e^{\\beta^{T}x}} \\\\\n",
    "&\\Rightarrow \\ \\ \\ \\ P(Y \\ |X=x_{i}) = (\\frac{e^{\\beta^{T}x_{i}}}{1-e^{\\beta^{T}x_{i}}})^{y_{i}} (\\frac{1}{1+e^{\\beta^{T}x_{i}}})^{1-y_{i}}\n",
    "\\end{align*} \n",
    "$$"
   ]
  },
  {
   "cell_type": "markdown",
   "id": "47fba832",
   "metadata": {},
   "source": [
    "Naturally, we want to maximize the right-hand-side of the above statement. We will use **Maximun Likelihood Estimation(MLE)** to find $\\beta$:"
   ]
  },
  {
   "cell_type": "markdown",
   "id": "eae07e06",
   "metadata": {},
   "source": [
    "$$\n",
    "\\hat{\\beta}_{MLE}= argmax_{\\beta} L(\\beta) \\\\\n",
    "$$"
   ]
  },
  {
   "cell_type": "markdown",
   "id": "b9b550bb",
   "metadata": {},
   "source": [
    "$$\n",
    "L(\\beta) = \\prod_{i=1}^n P(Y=y_{i} |x_{i}) = \\prod_{i=1}^n (\\frac{e^{\\beta^{T}x_{i}}}{1+e^{\\beta^{T}x_{i}}})^{y_{i}} (\\frac{1}{1+e^{\\beta^{T}x_{i}}})^{1-y_{i}} \\\\\n",
    "$$"
   ]
  },
  {
   "cell_type": "markdown",
   "id": "8090464e",
   "metadata": {},
   "source": [
    "$$\n",
    "\\begin{align*} \n",
    "l(\\beta) = log\\ L(\\beta) &= \\sum_{i=1}^n y_{i}[\\beta^{T}x_{i} - log(1+e^{\\beta^{T}x_{i}})] + (1-y_{i})[-log(1+e^{\\beta^{T}x_{i}})] \\\\\n",
    "&=\\sum_{i=1}^n y_{i}\\beta^{T}x_{i}- log(1+e^{\\beta^{T}x_{i}})\n",
    "\\end{align*} \n",
    "$$"
   ]
  },
  {
   "cell_type": "markdown",
   "id": "81aa3bdc",
   "metadata": {},
   "source": [
    "## Newton‐Raphson Method for Binary Logistic Regression\n",
    "\n",
    "Newton’s Method is an iterative equation solver: it is an algorithm to find the roots of a convex function. Equivalently, the method solves for root of the derivative of the convex function. The idea behind this method is ro use a quadratic approximate of the convex function and solve for its minimum at each step. For a convex function $f(x)$, the step taken in each iteration is $-(\\nabla^{2}f(x))^{-1}\\nabla f(x)$. while $\\lVert\\nabla f(\\beta)\\rVert > \\varepsilon$:"
   ]
  },
  {
   "cell_type": "markdown",
   "id": "dea0d767",
   "metadata": {},
   "source": [
    "$$\n",
    "\\beta^{new} = \\beta^{old}-(\\nabla^{2}f(x))^{-1}\\nabla f(x)\n",
    "$$"
   ]
  },
  {
   "cell_type": "markdown",
   "id": "091f1dd0",
   "metadata": {},
   "source": [
    "Where $\\nabla f(x)$ is the Gradient of $f(x)$ and $\\nabla^{2} f(x)$ is the Hessian Matrix of $f(x)$."
   ]
  },
  {
   "cell_type": "markdown",
   "id": "39fb9897",
   "metadata": {},
   "source": [
    "$$\n",
    "\\begin{align*} \n",
    "\\nabla f(x) = \\frac{\\partial l}{\\partial \\beta} &= \\sum_{i=1}^n y_{i}x_{i}- (\\frac{e^{\\beta^{T}x_{i}}}{1+e^{\\beta^{T}x_{i}}})\\cdot x_{i}^{T} \\\\\n",
    "&= \\sum_{i=1}^n (y_{i}- \\underbrace{\\frac{e^{\\beta^{T}x_{i}}}{1+e^{\\beta^{T}x_{i}}}}_{p_{i}})\\cdot x_{i}^{T} = X(y-p)\n",
    "\\end{align*} \n",
    "$$"
   ]
  },
  {
   "cell_type": "markdown",
   "id": "9579eecf",
   "metadata": {},
   "source": [
    "$$\n",
    "\\nabla^{2}f(x) = \\frac{\\partial^{2} l}{\\partial \\beta \\partial \\beta^{T}} = \\sum_{i=1}^n - \\underbrace{\\frac{e^{\\beta^{T}x_{i}}}{1+e^{\\beta^{T}x_{i}}}}_{p_{i}}\\cdot \\underbrace{\\frac{1}{1+e^{\\beta^{T}x_{i}}}}_{1-p_{i}}x_{i} \\cdot x_{i}^{T} = -XWX^{T}\n",
    "$$"
   ]
  },
  {
   "cell_type": "markdown",
   "id": "3ee09c18",
   "metadata": {},
   "source": [
    "Where W is a diagonal (n,n) matrix with the $i^{th}$ diagonal element defined as \n",
    "$\n",
    "W = \\begin{bmatrix}\n",
    "p_{i}(1-p_{i}) &  &     \\\\\n",
    "  & ... &  &   \\\\\n",
    "  &  &  &   \\\\\n",
    "  &  &   &   \\\\\n",
    "\\end{bmatrix}_{\\ n x n}\n",
    "$"
   ]
  },
  {
   "cell_type": "markdown",
   "id": "b5846d3c",
   "metadata": {},
   "source": [
    "The Newton‐Raphson algorithm can now be expressed as:"
   ]
  },
  {
   "cell_type": "markdown",
   "id": "11fd1718",
   "metadata": {},
   "source": [
    "$$\n",
    "\\begin{align*} \n",
    "\\beta^{new} &= \\beta^{old}-(\\nabla^{2}f(x))^{-1}\\nabla f(x) \\\\\n",
    "&= \\beta^{old}+ (XWX^{T})^{-1}X(y-p) \\\\\n",
    "&= \\beta^{old}+ (XWX^{T})^{-1}[XWX^{T}\\beta^{t}+ X(y-p)] \\\\\n",
    "&= \\beta^{old}+ (XWX^{T})^{-1}XWZ\n",
    "\\end{align*} \n",
    "$$"
   ]
  },
  {
   "cell_type": "markdown",
   "id": "edcfe337",
   "metadata": {},
   "source": [
    "Where z can be expressed as: $Z = X^{T}\\beta^{t}+ W^{-1}(y-p) $. This algorithm is also known as **Iteratively Reweighted Least Squares(IRLS)**."
   ]
  },
  {
   "cell_type": "markdown",
   "id": "f8df0cdd",
   "metadata": {},
   "source": [
    "$$ \\beta^{t+1} = argmin_{\\beta}(Z - X\\beta)^{T}W(Z-X\\beta) \\\\ $$"
   ]
  },
  {
   "cell_type": "markdown",
   "id": "6510b0ca",
   "metadata": {},
   "source": [
    "## Implementing Binary Logistic Regression from scratch"
   ]
  },
  {
   "cell_type": "code",
   "execution_count": 92,
   "id": "198c382a",
   "metadata": {},
   "outputs": [],
   "source": [
    "import numpy as np\n",
    "import seaborn as sns\n",
    "import pandas as pd\n",
    "import matplotlib.pyplot as plt\n",
    "from numpy.linalg import norm\n",
    "from scipy.io import loadmat\n",
    "from sklearn.model_selection import train_test_split"
   ]
  },
  {
   "cell_type": "code",
   "execution_count": 93,
   "id": "29306b2d",
   "metadata": {},
   "outputs": [
    {
     "data": {
      "text/html": [
       "<div>\n",
       "<style scoped>\n",
       "    .dataframe tbody tr th:only-of-type {\n",
       "        vertical-align: middle;\n",
       "    }\n",
       "\n",
       "    .dataframe tbody tr th {\n",
       "        vertical-align: top;\n",
       "    }\n",
       "\n",
       "    .dataframe thead th {\n",
       "        text-align: right;\n",
       "    }\n",
       "</style>\n",
       "<table border=\"1\" class=\"dataframe\">\n",
       "  <thead>\n",
       "    <tr style=\"text-align: right;\">\n",
       "      <th></th>\n",
       "      <th>Self_Study_Daily</th>\n",
       "      <th>Tution_Monthly</th>\n",
       "      <th>Pass_Or_Fail</th>\n",
       "    </tr>\n",
       "  </thead>\n",
       "  <tbody>\n",
       "    <tr>\n",
       "      <th>0</th>\n",
       "      <td>7</td>\n",
       "      <td>27</td>\n",
       "      <td>1</td>\n",
       "    </tr>\n",
       "    <tr>\n",
       "      <th>1</th>\n",
       "      <td>2</td>\n",
       "      <td>43</td>\n",
       "      <td>0</td>\n",
       "    </tr>\n",
       "    <tr>\n",
       "      <th>2</th>\n",
       "      <td>7</td>\n",
       "      <td>26</td>\n",
       "      <td>1</td>\n",
       "    </tr>\n",
       "    <tr>\n",
       "      <th>3</th>\n",
       "      <td>8</td>\n",
       "      <td>29</td>\n",
       "      <td>1</td>\n",
       "    </tr>\n",
       "    <tr>\n",
       "      <th>4</th>\n",
       "      <td>3</td>\n",
       "      <td>42</td>\n",
       "      <td>0</td>\n",
       "    </tr>\n",
       "  </tbody>\n",
       "</table>\n",
       "</div>"
      ],
      "text/plain": [
       "   Self_Study_Daily  Tution_Monthly  Pass_Or_Fail\n",
       "0                 7              27             1\n",
       "1                 2              43             0\n",
       "2                 7              26             1\n",
       "3                 8              29             1\n",
       "4                 3              42             0"
      ]
     },
     "execution_count": 93,
     "metadata": {},
     "output_type": "execute_result"
    }
   ],
   "source": [
    "df = pd.read_csv('Student_Pass_Fail_Data.csv')\n",
    "df.head()"
   ]
  },
  {
   "cell_type": "code",
   "execution_count": 94,
   "id": "5aa7c6c3",
   "metadata": {},
   "outputs": [
    {
     "data": {
      "text/plain": [
       "<AxesSubplot:xlabel='Self_Study_Daily', ylabel='Tution_Monthly'>"
      ]
     },
     "execution_count": 94,
     "metadata": {},
     "output_type": "execute_result"
    },
    {
     "data": {
      "image/png": "[encoded data removed]",
      "text/plain": [
       "<Figure size 432x288 with 1 Axes>"
      ]
     },
     "metadata": {
      "needs_background": "light"
     },
     "output_type": "display_data"
    }
   ],
   "source": [
    "sns.scatterplot(x='Self_Study_Daily', y='Tution_Monthly', hue='Pass_Or_Fail', data=df)"
   ]
  },
  {
   "cell_type": "code",
   "execution_count": 95,
   "id": "09a02bd2",
   "metadata": {},
   "outputs": [],
   "source": [
    "x = df.drop('Pass_Or_Fail',axis = 1)\n",
    "y = df.Pass_Or_Fail\n",
    "x_train, x_test, y_train, y_test = train_test_split(x, y, random_state=4)\n",
    "y_train = np.asmatrix(y_train)\n",
    "y_test = np.asmatrix(y_test)"
   ]
  },
  {
   "cell_type": "code",
   "execution_count": 96,
   "id": "d50b422b",
   "metadata": {},
   "outputs": [],
   "source": [
    "class LogisticRegressionUsingNR:\n",
    "    def __init__(self, tol=0.0001, max_iterations=100):\n",
    "        self.tol = tol\n",
    "        self.max_iterations = max_iterations\n",
    "        \n",
    "    def p_matrix(self, x, beta):\n",
    "        return 1 - (1 / (1+np.exp(np.dot(beta.T, x.T))))\n",
    "\n",
    "    def fit(self, x, y):\n",
    "        self.iterations = 0\n",
    "        self.beta = np.zeros((x.shape[1], 1)) # Parameter initialization beta matrix d x 1\n",
    "        \n",
    "        for i in range(self.max_iterations):\n",
    "            w_vec = self.p_matrix(x,self.beta) - np.square(self.p_matrix(x,self.beta))\n",
    "            w_matrix = np.diagflat(w_vec) # W matrix n x n\n",
    "            sec_dev = np.linalg.inv(np.dot(np.dot(x.T,w_matrix),x)) # d x d\n",
    "            Newton = np.dot(np.dot(sec_dev,x.T),(y.T - self.p_matrix(x,self.beta).T))\n",
    "            self.beta += Newton\n",
    "            \n",
    "        return self\n",
    "\n",
    "    def predict(self, x):\n",
    "        new_pi_matrix = p_matrix(x, self.beta)\n",
    "        new_pi_matrix[new_pi_matrix >= 0.5] = 1\n",
    "        new_pi_matrix[new_pi_matrix < 0.5] = 0\n",
    "        return new_pi_matrix"
   ]
  },
  {
   "cell_type": "code",
   "execution_count": 97,
   "id": "4e3aef28",
   "metadata": {},
   "outputs": [],
   "source": [
    "# Model initialization\n",
    "Logistic_Regression_NR = LogisticRegressionUsingNR()\n",
    "# Fit the data(train the model)\n",
    "Logistic_Regression_NR.fit(x_train, y_train)\n",
    "# Predict\n",
    "y_pred = Logistic_Regression_NR.predict(x_test)"
   ]
  },
  {
   "cell_type": "code",
   "execution_count": 98,
   "id": "7e24678d",
   "metadata": {},
   "outputs": [
    {
     "data": {
      "text/plain": [
       "96.8"
      ]
     },
     "execution_count": 98,
     "metadata": {},
     "output_type": "execute_result"
    }
   ],
   "source": [
    "test_accuracy_percentage = (1 - (np.sum(np.square(y_pred-y_test))) / np.int(y_test.shape[1])) * 100\n",
    "test_accuracy_percentage"
   ]
  },
  {
   "cell_type": "markdown",
   "id": "7d80b322",
   "metadata": {},
   "source": [
    "## Implementing Binary Logistic Regression from Scikit-learn"
   ]
  },
  {
   "cell_type": "code",
   "execution_count": 99,
   "id": "e29b15de",
   "metadata": {},
   "outputs": [],
   "source": [
    "from sklearn import metrics \n",
    "from sklearn.linear_model import LogisticRegression\n",
    "from sklearn.metrics import classification_report"
   ]
  },
  {
   "cell_type": "code",
   "execution_count": 100,
   "id": "6f21786e",
   "metadata": {},
   "outputs": [],
   "source": [
    "x_train, x_test, y_train, y_test = train_test_split(x, y, random_state=4)\n",
    "logistic_regression = LogisticRegression()\n",
    "logistic_regression.fit(x_train,y_train)\n",
    "y_pred = logistic_regression.predict(x_test)"
   ]
  },
  {
   "cell_type": "code",
   "execution_count": 101,
   "id": "d7efbca7",
   "metadata": {},
   "outputs": [
    {
     "data": {
      "text/plain": [
       "96.8"
      ]
     },
     "execution_count": 101,
     "metadata": {},
     "output_type": "execute_result"
    }
   ],
   "source": [
    "accuracy = metrics.accuracy_score(y_test, y_pred)\n",
    "accuracy_percentage = 100 * accuracy\n",
    "accuracy_percentage"
   ]
  },
  {
   "cell_type": "code",
   "execution_count": 102,
   "id": "bb172802",
   "metadata": {},
   "outputs": [
    {
     "name": "stdout",
     "output_type": "stream",
     "text": [
      "              precision    recall  f1-score   support\n",
      "\n",
      "           0       1.00      0.94      0.97       128\n",
      "           1       0.94      1.00      0.97       122\n",
      "\n",
      "    accuracy                           0.97       250\n",
      "   macro avg       0.97      0.97      0.97       250\n",
      "weighted avg       0.97      0.97      0.97       250\n",
      "\n"
     ]
    }
   ],
   "source": [
    "print(classification_report(y_test, y_pred))"
   ]
  },
  {
   "cell_type": "markdown",
   "id": "fbac876b",
   "metadata": {},
   "source": [
    "### Plot the Decision Boundary for the Model"
   ]
  },
  {
   "cell_type": "code",
   "execution_count": 103,
   "id": "9e8de425",
   "metadata": {},
   "outputs": [
    {
     "data": {
      "text/plain": [
       "Text(0.5, 1.0, 'Decision boundary for the Logistic Regression Model')"
      ]
     },
     "execution_count": 103,
     "metadata": {},
     "output_type": "execute_result"
    },
    {
     "data": {
      "image/png": "[encoded data removed]",
      "text/plain": [
       "<Figure size 432x288 with 1 Axes>"
      ]
     },
     "metadata": {
      "needs_background": "light"
     },
     "output_type": "display_data"
    }
   ],
   "source": [
    "beta_1, beta_2 =logistic_regression.coef_.T\n",
    "beta_0 = logistic_regression.intercept_[0]\n",
    "\n",
    "# Calculate the intercept and gradient of the decision boundary.\n",
    "c = -beta_0/beta_2\n",
    "m = -beta_1/beta_2\n",
    "\n",
    "xd = np.array([0, 10])\n",
    "yd = m*xd + c\n",
    "\n",
    "g =sns.scatterplot(x='Self_Study_Daily', y='Tution_Monthly', hue='Pass_Or_Fail', data=df)\n",
    "plt.plot(xd, yd, color='red', ls='--')\n",
    "g.set_xlim([-1.0, 11.0])\n",
    "g.set_ylim([19.0, 51.0])\n",
    "g.set_title('Decision boundary for the Logistic Regression Model')"
   ]
  },
  {
   "cell_type": "markdown",
   "id": "2a63577d",
   "metadata": {},
   "source": [
    "### ROC Curve\n",
    "\n",
    "The **receiver operating characteristic (ROC) curve** is another common tool used with binary classifiers. The dotted line represents the ROC curve of a purely random classifier; a good classifier stays as far away from that line as possible (toward the top-left corner)."
   ]
  },
  {
   "cell_type": "code",
   "execution_count": 104,
   "id": "3b486228",
   "metadata": {},
   "outputs": [
    {
     "data": {
      "text/plain": [
       "[Text(0.5, 0, 'False Positive Rate'),\n",
       " Text(0, 0.5, 'True Positive Rate'),\n",
       " Text(0.5, 1.0, 'Receiver operating characteristic')]"
      ]
     },
     "execution_count": 104,
     "metadata": {},
     "output_type": "execute_result"
    },
    {
     "data": {
      "image/png": "[encoded data removed]",
      "text/plain": [
       "<Figure size 432x288 with 1 Axes>"
      ]
     },
     "metadata": {
      "needs_background": "light"
     },
     "output_type": "display_data"
    }
   ],
   "source": [
    "from sklearn.metrics import roc_auc_score\n",
    "from sklearn.metrics import roc_curve\n",
    "logit_roc_auc = roc_auc_score(y_test, logistic_regression.predict(x_test))\n",
    "fpr, tpr, thresholds = roc_curve(y_test, logistic_regression.predict_proba(x_test)[:,1])\n",
    "\n",
    "g = sns.lineplot(x=fpr, y=tpr, palette = 'blue', label = 'Logistic Regression (area = 0.97)')\n",
    "sns.lineplot(x=[0, 1], y=[0, 1], palette = 'r')\n",
    "g.lines[1].set_linestyle(\"--\")\n",
    "g.set_xlim([0.0, 1.0])\n",
    "g.set_ylim([0.0, 1.05])\n",
    "g.legend(loc=\"lower right\")\n",
    "g.set(xlabel='False Positive Rate', ylabel='True Positive Rate', title='Receiver operating characteristic')"
   ]
  },
  {
   "cell_type": "markdown",
   "id": "c225d76e",
   "metadata": {},
   "source": [
    "## Other types of Logistic Regression\n",
    "\n",
    "### Multinomial Logistic Regression\n",
    "\n",
    "Three or more categories without ordering. Example: Predicting which food is preferred more (Veg, Non-Veg, Vegan).\n",
    "\n",
    "### Ordinal Logistic Regression\n",
    "\n",
    "Three or more categories with ordering. Example: Movie rating from 1 to 5."
   ]
  },
  {
   "cell_type": "markdown",
   "id": "074d9766",
   "metadata": {},
   "source": [
    "## References"
   ]
  },
  {
   "cell_type": "markdown",
   "id": "68c2fd84",
   "metadata": {},
   "source": [
    "$[1] \\ \\ \\ \\ K, D. (2021, April 8). Logistic Regression in Python using Scikit-learn. Medium. https://heartbeat.fritz.ai/logistic-regression-in-python-using-scikit-learn-d34e882eebb1. $"
   ]
  },
  {
   "cell_type": "markdown",
   "id": "83bb419c",
   "metadata": {},
   "source": [
    "$[2] \\ \\ \\ \\ Li, S. (2019, February 27). Building A Logistic Regression in Python, Step by Step. Medium. https://towardsdatascience.com/building-a-logistic-regression-in-python-step-by-step-becd4d56c9c8. $ "
   ]
  },
  {
   "cell_type": "markdown",
   "id": "8944df69",
   "metadata": {},
   "source": [
    "$[3] \\ \\ \\ \\ Christian. (2020, September 17). Plotting the decision boundary of a logistic regression model. https://scipython.com/blog/plotting-the-decision-boundary-of-a-logistic-regression-model/. $"
   ]
  }
 ],
 "metadata": {
  "kernelspec": {
   "display_name": "Python 3",
   "language": "python",
   "name": "python3"
  },
  "language_info": {
   "codemirror_mode": {
    "name": "ipython",
    "version": 3
   },
   "file_extension": ".py",
   "mimetype": "text/x-python",
   "name": "python",
   "nbconvert_exporter": "python",
   "pygments_lexer": "ipython3",
   "version": "3.7.10"
  }
 },
 "nbformat": 4,
 "nbformat_minor": 5
}
