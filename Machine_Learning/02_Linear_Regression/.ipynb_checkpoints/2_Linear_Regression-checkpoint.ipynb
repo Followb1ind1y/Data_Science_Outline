{
 "cells": [
  {
   "cell_type": "markdown",
   "metadata": {},
   "source": [
    "# <div align=\"right\">Machine Learning\n",
    "### <div align=\"right\"> *Followblindly*"
   ]
  },
  {
   "cell_type": "markdown",
   "metadata": {},
   "source": [
    "# 2 - Linear Regression"
   ]
  },
  {
   "cell_type": "markdown",
   "metadata": {},
   "source": [
    "Regression is a method of modelling a target value based on independent predictors. This method is mostly used for forecasting and finding out **cause and effect relationship between variables**. Regression techniques mostly differ based on the number of independent variables and the type of relationship between the independent and dependent variables. Regression problems usually have one continuous and unbounded dependent variable. The inputs, however, can be continuous, discrete, or even categorical data such as gender, nationality, brand, and so on.\n",
    "\n",
    "<img src=\"2_images/2_Regression.SVG\" width=500px/>\n",
    "\n",
    "Linear regression with multiple variables is also known as \"**multivariate linear regression**\". The multivariable form of the hypothesis function accommodating these multiple features is as follows:\n",
    "\n",
    "$$\n",
    "\\begin{align*} \n",
    "&Hypothesis: h_{\\theta}(x) = \\theta_{0} + \\theta_{1}x_{1} + \\theta_{2}x_{2} + \\theta_{3}x_{3} + \\cdot\\cdot\\cdot + \\theta_{n}x_{n} \\\\\n",
    "&Cost Function: J(\\theta) = \\frac{1}{2m}\\sum_{i=1}^{m}(h_{\\theta}(x^{(i)})-y^{(i)})^2 \\\\\n",
    "&Goal: \\min_{\\theta}J(\\theta)\n",
    "\\end{align*}\n",
    "$$\n",
    "\n",
    "Using the definition of matrix multiplication, our multivariable hypothesis function can be concisely represented as:\n",
    "\n",
    "$$ h_{\\theta}(x) = \n",
    "\\begin{bmatrix}\n",
    "\\theta_{0} & \\theta_{1} & \\cdot\\cdot\\cdot & \\theta_{n}\n",
    "\\end{bmatrix}\n",
    "\\begin{bmatrix}\n",
    "x_{0} \\\\\n",
    "x_{1} \\\\\n",
    "\\cdot\\cdot\\cdot \\\\\n",
    "x_{n}\n",
    "\\end{bmatrix}\n",
    "= \\theta^{T}x\n",
    "$$"
   ]
  },
  {
   "cell_type": "markdown",
   "metadata": {},
   "source": [
    "### Gradient Descent for Linear Regression\n",
    "\n",
    "Gradient descent is a generic optimization algorithm used in many machine learning algorithms. It iteratively tweaks the parameters of the model in order to minimize the cost function. We do this is by taking the **derivative** (the tangential line to a function) of our cost function. The slope of the tangent is the derivative at that point and it will give us a direction to move towards. We make steps down the cost function in the direction with the steepest descent. The size of each step is determined by the parameter **$\\alpha$**, which is called the **learning rate**. The **gradient descent algorithm** can be represented as:"
   ]
  },
  {
   "cell_type": "markdown",
   "metadata": {},
   "source": [
    "$$\\begin{align*}  \n",
    "&\\frac{\\partial J(\\theta)}{\\partial \\theta_{0}}= \\frac{1}{m}\\sum_{i=1}^{m}(h_{\\theta}(x^{(i)})-y^{(i)}) \\\\\n",
    "&\\frac{\\partial J(\\theta)}{\\partial \\theta_{j}}= \\frac{1}{m}\\sum_{i=1}^{m}(h_{\\theta}(x^{(i)})-y^{(i)})x_{j}^{(i)} \\\\\n",
    "\\end{align*}\n",
    "$$"
   ]
  },
  {
   "cell_type": "markdown",
   "metadata": {},
   "source": [
    "$$\n",
    "\\begin{bmatrix}\n",
    "\\frac{\\partial J(\\theta)}{\\partial \\theta_{0}} \\\\\n",
    "\\frac{\\partial J(\\theta)}{\\partial \\theta_{1}} \\\\\n",
    "\\cdot\\cdot\\cdot \\\\\n",
    "\\frac{\\partial J(\\theta)}{\\partial \\theta_{n}}\n",
    "\\end{bmatrix}\n",
    "=\n",
    "\\frac{1}{m}x^{T}(h_{\\theta}(x)-y)\n",
    "$$"
   ]
  },
  {
   "cell_type": "markdown",
   "metadata": {},
   "source": [
    "$$\n",
    "\\begin{bmatrix}\n",
    "\\theta_{0} \\\\\n",
    "\\theta_{1} \\\\\n",
    "\\cdot\\cdot\\cdot \\\\\n",
    "\\theta_{n}\n",
    "\\end{bmatrix}\n",
    "= \n",
    "\\begin{bmatrix}\n",
    "\\theta_{0} \\\\\n",
    "\\theta_{1} \\\\\n",
    "\\cdot\\cdot\\cdot \\\\\n",
    "\\theta_{n}\n",
    "\\end{bmatrix} \n",
    "-\n",
    "\\alpha\n",
    "\\begin{bmatrix}\n",
    "\\frac{\\partial J(\\theta)}{\\partial \\theta_{0}} \\\\\n",
    "\\frac{\\partial J(\\theta)}{\\partial \\theta_{1}} \\\\\n",
    "\\cdot\\cdot\\cdot \\\\\n",
    "\\frac{\\partial J(\\theta)}{\\partial \\theta_{n}}\n",
    "\\end{bmatrix}\n",
    "$$"
   ]
  },
  {
   "cell_type": "markdown",
   "metadata": {},
   "source": [
    "$$\\begin{align*}  \n",
    "&repect\\ until \\ convergence\\{ \\\\\n",
    "&\\ \\ \\ \\ \\theta_{j} :=\\theta_{j} - \\alpha\\frac{1}{m}\\sum_{i=1}^{m}(h_{\\theta}(x^{(i)})-y^{(i)})x_{j}^{(i)}) \\ \\ \\ \\ for \\ j := 0 \\cdot\\cdot\\cdot n \\\\\n",
    "&\\} \\\\\n",
    "\\end{align*}\n",
    "$$"
   ]
  },
  {
   "cell_type": "markdown",
   "metadata": {},
   "source": [
    "To demonstrate the gradient descent algorithm, we initialize the model parameters with 0. The equation becomes $h_{\\theta}(x) = 0$. Gradient descent algorithm now tries to update the value of the parameters so that we arrive at the best fit line.\n",
    "\n",
    "We should adjust our parameter $\\alpha$ to ensure that the gradient descent algorithm converges in a reasonable time. **If $\\alpha$ is too small**, gradient descent can be slow. **If $\\alpha$ is too large**, gradient descent can overshoot the minimum. It may fail to converge, or even diverge. Failure to converge or too much time to obtain the minimum value imply that our step size is wrong.\n",
    "\n",
    "<img src=\"2_images/2_Gradient_Descent.PNG\" width=500px/>"
   ]
  },
  {
   "cell_type": "markdown",
   "metadata": {},
   "source": [
    "We can **speed up gradient descent** by having each of our input values in roughly the same range. This is because $\\theta$ will descend quickly on small ranges and slowly on large ranges, and so will oscillate inefficiently down to the optimum when the variables are very uneven.\n",
    "\n",
    "Two techniques to help with this are feature scaling and mean normalization. **Feature scaling** involves dividing the input values by the range (i.e. the maximum value minus the minimum value) of the input variable, resulting in a new range of just 1. **Mean normalization** involves subtracting the average value for an input variable from the values for that input variable resulting in a new average value for the input variable of just zero. To implement both of these techniques, adjust your input values as shown in this formula:\n",
    "\n",
    "$$ x_{i} := \\frac{(x_{i}-\\mu_{i})}{s_{i}} $$\n",
    "\n",
    "Where $\\mu_{i}$ is the average of all the values for feature (i) and $s_{i}$ is the range of values (max - min), or $s_{i}$ is the standard deviation. Note that dividing by the range, or dividing by the standard deviation, give different results."
   ]
  },
  {
   "cell_type": "markdown",
   "metadata": {},
   "source": [
    "### Normal Equation for Linear Regression\n",
    "\n",
    "Gradient descent gives one way of minimizing J. In the \"**Normal Equation**\" method, we will minimize J by explicitly taking its derivatives with respect to the $\\theta_{j}$ ’s, and setting them to zero. This allows us to find the optimum theta without iteration. The normal equation formula is given below: \n",
    "\n",
    " \n",
    "$$ \\theta = (X^{T}X)^{-1}X^{T}y $$\n",
    "\n",
    "The following is a comparison of gradient descent and the normal equation:"
   ]
  },
  {
   "cell_type": "markdown",
   "metadata": {},
   "source": [
    "| Gradient Descent      | Normal Equation |\n",
    "| :-------------------------------------------- | :-------------------------------------------- |\n",
    "| Need to choose alpha            | No need to choose alpha       |\n",
    "| Needs many iterations   | No need to iterate        |\n",
    "| $O(kn^{2})$      | $O(n^{3})$, need to calculate inverse of $X^{T}X$       |\n",
    "| Works well when n is large     | Slow if n is very large       |"
   ]
  },
  {
   "cell_type": "markdown",
   "metadata": {},
   "source": [
    "With the normal equation, computing the inversion has complexity $O(n^{3})$. So if we have a very large number of features, the normal equation will be **slow**. In practice, when n exceeds 10,000 it might be a good time to go from a normal solution to an iterative process.\n",
    "\n",
    "If $X^{T}X$ is **noninvertible**, the common causes might be having :\n",
    "* Redundant features, where two features are very closely related (i.e. they are linearly dependent)\n",
    "* Too many features (e.g. m ≤ n). In this case, delete some features or use \"regularization\".\n",
    "\n",
    "Solutions to the above problems include deleting a feature that is linearly dependent with another or deleting one or more features when there are too many features."
   ]
  },
  {
   "cell_type": "markdown",
   "metadata": {},
   "source": [
    "### Evaluating the performance of the Linear Regression Model\n",
    "\n",
    "We will be using **Root mean squared error(RMSE)** and **Coefficient of Determination(R² score)** to evaluate our model. RMSE is the square root of the average of the sum of the squares of residuals. RMSE is defined by:\n",
    "\n",
    "$$ RMSE = \\sqrt{\\frac{1}{m}\\sum_{i=1}^{m}(h(x^{(i)})-y^{(i)})^2}$$"
   ]
  },
  {
   "cell_type": "markdown",
   "metadata": {},
   "source": [
    "R² score or the coefficient of determination explains how much the total variance of the dependent variable can be reduced by using the least square regression. It can be defined by:\n",
    "\n",
    "$$ R^{2} = 1- \\frac{SS_{r}}{SS{t}} $$"
   ]
  },
  {
   "cell_type": "markdown",
   "metadata": {},
   "source": [
    "Where $SS_{t}$ is the total sum of errors if we take the mean of the observed values as the predicted value and $SS_{r}$ is the sum of the square of residuals.\n",
    "\n",
    "$$ SS_{t} = \\sum_{i=1}^{m}(y^{(i)}-\\bar{y})^2 \\\\\n",
    "SS_{r} = \\sum_{i=1}^{m}(h(x^{(i)})-y^{(i)})^2\n",
    "$$"
   ]
  },
  {
   "cell_type": "markdown",
   "metadata": {},
   "source": [
    "### Dataset Initialization "
   ]
  },
  {
   "cell_type": "code",
   "execution_count": 8,
   "metadata": {},
   "outputs": [],
   "source": [
    "import numpy as np\n",
    "import matplotlib.pyplot as plt"
   ]
  },
  {
   "cell_type": "code",
   "execution_count": 9,
   "metadata": {},
   "outputs": [
    {
     "data": {
      "image/png": "[encoded data removed]",
      "text/plain": [
       "<Figure size 432x288 with 1 Axes>"
      ]
     },
     "metadata": {
      "needs_background": "light"
     },
     "output_type": "display_data"
    }
   ],
   "source": [
    "# generate random data-set\n",
    "np.random.seed(0)\n",
    "x = np.random.rand(100, 1)\n",
    "y = 2 + 3 * x + np.random.rand(100, 1)\n",
    "\n",
    "# plot\n",
    "plt.scatter(x,y,s=10)\n",
    "plt.title('Linear Regression Random Data')\n",
    "plt.xlabel('x')\n",
    "plt.ylabel('y')\n",
    "plt.show()"
   ]
  },
  {
   "cell_type": "markdown",
   "metadata": {},
   "source": [
    "### Implementing Linear Regression from scratch"
   ]
  },
  {
   "cell_type": "code",
   "execution_count": 10,
   "metadata": {},
   "outputs": [],
   "source": [
    "class LinearRegressionUsingGD:\n",
    "    def __init__(self, learning_rate=0.05, n_iterations=1000):\n",
    "        self.learning_rate = learning_rate\n",
    "        self.n_iterations = n_iterations\n",
    "\n",
    "    def fit(self, x, y):\n",
    "        self.cost = [] # record the cost function\n",
    "        self.theta = np.zeros((x.shape[1], 1)) # Parameter initialization\n",
    "        self.m = x.shape[0]\n",
    "\n",
    "        for i in range(self.n_iterations):\n",
    "            y_pred = np.dot(x, self.theta) # h_{\\theta}(x)\n",
    "            residuals = y_pred - y # (h_{\\theta}(x) - y)\n",
    "            gradient_vector = np.dot(x.T, residuals) # x^{T}.(h_{\\theta}(x) - y)\n",
    "            self.theta -= (self.learning_rate / self.m) * gradient_vector\n",
    "            cost = np.sum((residuals ** 2)) / (2 * self.m) # cost function (1/2m).sum(h_{\\theta}(x) - y)^2)\n",
    "            self.cost.append(cost)   \n",
    "        return self\n",
    "\n",
    "    def predict(self, x):\n",
    "        return np.dot(x, self.theta)"
   ]
  },
  {
   "cell_type": "code",
   "execution_count": 11,
   "metadata": {},
   "outputs": [
    {
     "data": {
      "image/png": "[encoded data removed]",
      "text/plain": [
       "<Figure size 432x288 with 1 Axes>"
      ]
     },
     "metadata": {
      "needs_background": "light"
     },
     "output_type": "display_data"
    }
   ],
   "source": [
    "# Model initialization\n",
    "Linear_Regression_GD = LinearRegressionUsingGD()\n",
    "# Fit the data(train the model)\n",
    "Linear_Regression_GD.fit(x, y)\n",
    "# Predict\n",
    "y_pred = Linear_Regression_GD.predict(x)\n",
    "\n",
    "# plotting cost function vs the number of iterations\n",
    "\n",
    "plt.title('Cost function vs the number of iterations')\n",
    "plt.xlabel('number of iterations')\n",
    "plt.ylabel('cost function')\n",
    "\n",
    "plt.plot(range(0, Linear_Regression_GD.n_iterations), Linear_Regression_GD.fit(x, y).cost, color='b')\n",
    "plt.show()"
   ]
  },
  {
   "cell_type": "markdown",
   "metadata": {},
   "source": [
    "### Implementing Linear Regression from Scikit-learn"
   ]
  },
  {
   "cell_type": "code",
   "execution_count": 12,
   "metadata": {},
   "outputs": [],
   "source": [
    "from sklearn.linear_model import LinearRegression\n",
    "from sklearn.metrics import mean_squared_error, r2_score"
   ]
  },
  {
   "cell_type": "code",
   "execution_count": 13,
   "metadata": {},
   "outputs": [
    {
     "name": "stdout",
     "output_type": "stream",
     "text": [
      "Slope: [[2.93655106]]\n",
      "Intercept: [2.55808002]\n",
      "Root mean squared error:  0.07623324582875007\n",
      "R2 score:  0.9038655568672764\n"
     ]
    },
    {
     "data": {
      "image/png": "[encoded data removed]",
      "text/plain": [
       "<Figure size 432x288 with 1 Axes>"
      ]
     },
     "metadata": {
      "needs_background": "light"
     },
     "output_type": "display_data"
    }
   ],
   "source": [
    "# sckit-learn implementation\n",
    "\n",
    "# Model initialization\n",
    "regression_model = LinearRegression()\n",
    "# Fit the data(train the model)\n",
    "regression_model.fit(x, y)\n",
    "# Predict\n",
    "y_predicted = regression_model.predict(x)\n",
    "\n",
    "# model evaluation\n",
    "rmse = mean_squared_error(y, y_predicted)\n",
    "r2 = r2_score(y, y_predicted)\n",
    "\n",
    "# printing values\n",
    "print('Slope:' ,regression_model.coef_)\n",
    "print('Intercept:', regression_model.intercept_)\n",
    "print('Root mean squared error: ', rmse)\n",
    "print('R2 score: ', r2)\n",
    "\n",
    "# plotting values\n",
    "\n",
    "# data points\n",
    "plt.scatter(x, y, s=10)\n",
    "plt.xlabel('x')\n",
    "plt.ylabel('y')\n",
    "\n",
    "# predicted values\n",
    "plt.plot(x, y_predicted, color='r')\n",
    "plt.show()"
   ]
  },
  {
   "cell_type": "markdown",
   "metadata": {},
   "source": [
    "### References:"
   ]
  },
  {
   "cell_type": "markdown",
   "metadata": {},
   "source": [
    "$[1] \\ \\ \\ \\ Agarwal, A. (2018, November 14). Linear Regression using Python. Medium. https://towardsdatascience.com/linear-regression-using-python-b136c91bf0a2. $"
   ]
  },
  {
   "cell_type": "markdown",
   "metadata": {},
   "source": [
    "$[2] \\ \\ \\ \\ Ng, A. (n.d.). Machine Learning. Coursera. https://www.coursera.org/learn/machine-learning. $"
   ]
  }
 ],
 "metadata": {
  "kernelspec": {
   "display_name": "Python 3",
   "language": "python",
   "name": "python3"
  },
  "language_info": {
   "codemirror_mode": {
    "name": "ipython",
    "version": 3
   },
   "file_extension": ".py",
   "mimetype": "text/x-python",
   "name": "python",
   "nbconvert_exporter": "python",
   "pygments_lexer": "ipython3",
   "version": "3.7.10"
  }
 },
 "nbformat": 4,
 "nbformat_minor": 2
}
