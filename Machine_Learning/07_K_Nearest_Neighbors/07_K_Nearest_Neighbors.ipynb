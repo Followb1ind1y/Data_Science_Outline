{
 "cells": [
  {
   "cell_type": "markdown",
   "id": "fc557ff5",
   "metadata": {},
   "source": [
    "# <div align=\"right\">Machine Learning\n",
    "### <div align=\"right\"> *Followblindly*"
   ]
  },
  {
   "cell_type": "markdown",
   "id": "6bf7e69d",
   "metadata": {},
   "source": [
    "# 07 - K-Nearest Neighbors"
   ]
  },
  {
   "cell_type": "markdown",
   "id": "41ad244f",
   "metadata": {},
   "source": [
    "K Nearest Neighbor(KNN) is a very simple, easy to understand, versatile and one of the topmost machine learning algorithms. KNN used in the variety of applications such as finance, healthcare, political science, handwriting detection, image recognition and video recognition. KNN algorithm used for both **classification** and **regression** problems.\n",
    "\n",
    "We say that KNN is a non-parametric and lazy learning algorithm. **Non-parametric** means there is no assumption for underlying data distribution. In other words, the model structure determined from the dataset. This will be very helpful in practice where most of the real world datasets do not follow mathematical theoretical assumptions. **Lazy algorithm** means it does not need any training data points for model generation. All training data used in the testing phase. This makes training faster and testing phase slower and costlier. Costly testing phase means time and memory. In the worst case, KNN needs more time to scan all data points and scanning all data points will require more memory for storing training data."
   ]
  },
  {
   "cell_type": "markdown",
   "id": "3a60669d",
   "metadata": {},
   "source": [
    "* Training example in Euclidean space: $x\\in\\mathbf{R}^{d}$\n",
    "\n",
    "* **Idea:** The value of the target function for a new query is estimated from the known value(s) of the nearest training example(s)\n",
    "\n",
    "* Distance typically defined to be Euclidean:\n",
    "\n",
    "$$\n",
    "\\parallel x^{(a)}-x^{(b)} \\parallel_{2} = \\sqrt{\\sum_{j=1}^{d}(x_{j}^{(a)} - x_{j}^{(b)})^{2}}\n",
    "$$"
   ]
  },
  {
   "cell_type": "markdown",
   "id": "eb74238f",
   "metadata": {},
   "source": [
    "### kNN Algorithom\n",
    "\n",
    "1. Load the training and test data \n",
    "2. Choose the value of K \n",
    "3. For each point in test data:\n",
    "       - find the Euclidean distance to all training data points\n",
    "       - store the Euclidean distances in a list and sort it \n",
    "       - choose the first k points \n",
    "       - assign a class to the test point based on the majority of classes present in the chosen points\n",
    "4. End "
   ]
  },
  {
   "cell_type": "markdown",
   "id": "9416d27b",
   "metadata": {},
   "source": [
    "<img src=\"07_images/7_knn_algorithom.PNG\" width=800px/>"
   ]
  },
  {
   "cell_type": "markdown",
   "id": "760740a5",
   "metadata": {},
   "source": [
    "### Choice of k\n",
    "\n",
    "* $k=1$ can be unstable, particularly if the data are noisy\n",
    "* Better to choose an odd number to avoid ties, e.g. $k=3$ or $k=5$\n",
    "* Larger $k$ may lead to better performance. But if we set $k$ too large we may end up looking at samples that are not neighbors (are far away from the query)\n",
    "* Rule of thumb is $k < sqrt(n)$, where $n$ is the number of training examples\n",
    "* Choose $k$ that yields the smallest error on the test data"
   ]
  },
  {
   "cell_type": "markdown",
   "id": "eca68eb7",
   "metadata": {},
   "source": [
    "## Pros and Cons of K-Nearest Neighbors\n",
    "\n",
    "### Pros:\n",
    "* It is extremely easy to implement\n",
    "* It is lazy learning algorithm and therefore requires no training prior to making real time predictions. This makes the KNN algorithm much faster than other algorithms that require training e.g SVM, linear regression, etc.\n",
    "* Since the algorithm requires no training before making predictions, new data can be added seamlessly.\n",
    "* There are only two parameters required to implement KNN i.e. the value of K and the distance function (e.g. Euclidean or Manhattan etc.)\n",
    "\n",
    "### Cons:\n",
    "* Accuracy depends on the quality of the data.\n",
    "* Poor at classifying data points in a boundary where they can be classified one way or another.\n",
    "* Doesn't work well with high dimensional data because with large number of dimensions, it becomes difficult for the algorithm to calculate distance in each dimension.\n",
    "* Has a high prediction cost for large datasets. This is because in large datasets the cost of calculating distance between new point and each existing point becomes higher.\n",
    "* Doesn't work well with categorical features since it is difficult to find the distance between dimensions with categorical features."
   ]
  },
  {
   "cell_type": "markdown",
   "id": "c0c09d29",
   "metadata": {},
   "source": [
    "### Issues & Remedies\n",
    "\n",
    "* If some attributes (coordinates of x) have **larger ranges**, they are treated as more important\n",
    "    * Normalize scale\n",
    "         - Simple option: Linearly scale the range of each feature to be, e.g., in range $[0,1]$\n",
    "         - Linearly scale each dimension to have 0 mean and variance 1 (compute mean $\\mu$ and variance $\\sigma^{2}$ for an attribute $x_{j}$ and scale: $\\frac{(x_{j} - m)}{\\sigma}$)\n",
    "    * Be careful: sometimes scale matters\n",
    "\n",
    "* **Irrelevant**, **correlated** attributes add noise to distance measure\n",
    "    * eliminate some attributes\n",
    "    * or vary and possibly adapt weight of attributes\n",
    "    \n",
    "* **Non-metric** attributes (symbols)\n",
    "    * Hamming distance\n",
    "\n",
    "* **Expensive at test time:** To find one nearest neighbor of a query point $x$, we must compute the distance to all $N$ training examples. Complexity: $O(kdN)$ for kNN\n",
    "    * Use subset of dimensions\n",
    "    * Pre-sort training examples into fast data structures (e.g., kd-trees)\n",
    "    * Compute only an approximate distance (e.g., LSH)\n",
    "    * Remove redundant data (e.g., condensing)\n",
    "\n",
    "* **Storage Requirements:** Must store all training data\n",
    "    * Remove redundant data (e.g., condensing)\n",
    "    * Pre-sorting often increases the storage requirements\n",
    "\n",
    "* **High Dimensional Data:** “Curse of Dimensionality”\n",
    "    * Required amount of training data increases exponentially with dimension\n",
    "    * Computational cost also increases"
   ]
  },
  {
   "cell_type": "markdown",
   "id": "78e0569c",
   "metadata": {},
   "source": [
    "## Implementing KNN Algorithm with Sklearn"
   ]
  },
  {
   "cell_type": "code",
   "execution_count": 38,
   "id": "2492fe57",
   "metadata": {},
   "outputs": [],
   "source": [
    "import numpy as np\n",
    "import pandas as pd\n",
    "from matplotlib import pyplot as plt\n",
    "import seaborn as sns\n",
    "from sklearn.model_selection import train_test_split"
   ]
  },
  {
   "cell_type": "code",
   "execution_count": 39,
   "id": "4e05a346",
   "metadata": {},
   "outputs": [
    {
     "data": {
      "text/html": [
       "<div>\n",
       "<style scoped>\n",
       "    .dataframe tbody tr th:only-of-type {\n",
       "        vertical-align: middle;\n",
       "    }\n",
       "\n",
       "    .dataframe tbody tr th {\n",
       "        vertical-align: top;\n",
       "    }\n",
       "\n",
       "    .dataframe thead th {\n",
       "        text-align: right;\n",
       "    }\n",
       "</style>\n",
       "<table border=\"1\" class=\"dataframe\">\n",
       "  <thead>\n",
       "    <tr style=\"text-align: right;\">\n",
       "      <th></th>\n",
       "      <th>Id</th>\n",
       "      <th>SepalLengthCm</th>\n",
       "      <th>SepalWidthCm</th>\n",
       "      <th>PetalLengthCm</th>\n",
       "      <th>PetalWidthCm</th>\n",
       "      <th>Species</th>\n",
       "    </tr>\n",
       "  </thead>\n",
       "  <tbody>\n",
       "    <tr>\n",
       "      <th>0</th>\n",
       "      <td>1</td>\n",
       "      <td>5.1</td>\n",
       "      <td>3.5</td>\n",
       "      <td>1.4</td>\n",
       "      <td>0.2</td>\n",
       "      <td>Iris-setosa</td>\n",
       "    </tr>\n",
       "    <tr>\n",
       "      <th>1</th>\n",
       "      <td>2</td>\n",
       "      <td>4.9</td>\n",
       "      <td>3.0</td>\n",
       "      <td>1.4</td>\n",
       "      <td>0.2</td>\n",
       "      <td>Iris-setosa</td>\n",
       "    </tr>\n",
       "    <tr>\n",
       "      <th>2</th>\n",
       "      <td>3</td>\n",
       "      <td>4.7</td>\n",
       "      <td>3.2</td>\n",
       "      <td>1.3</td>\n",
       "      <td>0.2</td>\n",
       "      <td>Iris-setosa</td>\n",
       "    </tr>\n",
       "    <tr>\n",
       "      <th>3</th>\n",
       "      <td>4</td>\n",
       "      <td>4.6</td>\n",
       "      <td>3.1</td>\n",
       "      <td>1.5</td>\n",
       "      <td>0.2</td>\n",
       "      <td>Iris-setosa</td>\n",
       "    </tr>\n",
       "    <tr>\n",
       "      <th>4</th>\n",
       "      <td>5</td>\n",
       "      <td>5.0</td>\n",
       "      <td>3.6</td>\n",
       "      <td>1.4</td>\n",
       "      <td>0.2</td>\n",
       "      <td>Iris-setosa</td>\n",
       "    </tr>\n",
       "  </tbody>\n",
       "</table>\n",
       "</div>"
      ],
      "text/plain": [
       "   Id  SepalLengthCm  SepalWidthCm  PetalLengthCm  PetalWidthCm      Species\n",
       "0   1            5.1           3.5            1.4           0.2  Iris-setosa\n",
       "1   2            4.9           3.0            1.4           0.2  Iris-setosa\n",
       "2   3            4.7           3.2            1.3           0.2  Iris-setosa\n",
       "3   4            4.6           3.1            1.5           0.2  Iris-setosa\n",
       "4   5            5.0           3.6            1.4           0.2  Iris-setosa"
      ]
     },
     "execution_count": 39,
     "metadata": {},
     "output_type": "execute_result"
    }
   ],
   "source": [
    "iris = pd.read_csv('iris.csv')\n",
    "iris.head()"
   ]
  },
  {
   "cell_type": "code",
   "execution_count": 40,
   "id": "da3ee457",
   "metadata": {},
   "outputs": [],
   "source": [
    "iris['SepalLengthCm'] = pd.to_numeric(iris['SepalLengthCm'])\n",
    "iris['SepalWidthCm'] = pd.to_numeric(iris['SepalWidthCm'])\n",
    "iris['PetalLengthCm'] = pd.to_numeric(iris['PetalLengthCm'])\n",
    "iris['PetalWidthCm'] = pd.to_numeric(iris['PetalWidthCm'])"
   ]
  },
  {
   "cell_type": "code",
   "execution_count": 41,
   "id": "280ce701",
   "metadata": {},
   "outputs": [],
   "source": [
    "df1 = iris[['SepalLengthCm', 'SepalWidthCm', 'PetalLengthCm', 'PetalWidthCm','Species']]\n",
    "X_data = df1.iloc[:,0:4]\n",
    "y_labels = df1.iloc[:,4].replace({'Iris-setosa':0,'Iris-versicolor':1,'Iris-virginica':2}).copy()"
   ]
  },
  {
   "cell_type": "code",
   "execution_count": 43,
   "id": "e1c1b25b",
   "metadata": {},
   "outputs": [],
   "source": [
    "X_train, X_test, y_train, y_test = train_test_split(X_data, y_labels, test_size = 0.2, random_state = 4)"
   ]
  },
  {
   "cell_type": "code",
   "execution_count": 44,
   "id": "b556bbb2",
   "metadata": {},
   "outputs": [],
   "source": [
    "from sklearn.neighbors import KNeighborsClassifier\n",
    "from sklearn.metrics import confusion_matrix, accuracy_score\n",
    "\n",
    "k_range = range(1,26)\n",
    "scores = {}\n",
    "scores_list = []\n",
    "\n",
    "for k in k_range:\n",
    "    knn = KNeighborsClassifier(n_neighbors=k)\n",
    "    knn.fit(X_train,y_train)\n",
    "    y_pred = knn.predict(X_test)\n",
    "    scores[k] = accuracy_score(y_test,y_pred)\n",
    "    scores_list.append(accuracy_score(y_test,y_pred))"
   ]
  },
  {
   "cell_type": "code",
   "execution_count": 47,
   "id": "70464e7e",
   "metadata": {},
   "outputs": [
    {
     "data": {
      "text/plain": [
       "Text(0, 0.5, 'Testing Accuracy')"
      ]
     },
     "execution_count": 47,
     "metadata": {},
     "output_type": "execute_result"
    },
    {
     "data": {
      "image/png": "[encoded data removed]",
      "text/plain": [
       "<Figure size 432x288 with 1 Axes>"
      ]
     },
     "metadata": {
      "needs_background": "light"
     },
     "output_type": "display_data"
    }
   ],
   "source": [
    "%matplotlib inline\n",
    "plt.plot(k_range, scores_list)\n",
    "plt.xlabel('Value of K of KNN')\n",
    "plt.ylabel('Testing Accuracy')"
   ]
  },
  {
   "cell_type": "markdown",
   "id": "60abae38",
   "metadata": {},
   "source": [
    "## Reference"
   ]
  },
  {
   "cell_type": "markdown",
   "id": "800a5f12",
   "metadata": {},
   "source": [
    "[1]$\\ \\ \\ \\$Zemel, R., Urtasun, R., &amp; Fidler, S. (n.d.). CSC 411: Lecture 05: Nearest Neighbors. https://www.cs.toronto.edu/~urtasun/courses/CSC411_Fall16/05_nn.pdf. \n",
    "\n",
    "[2]$\\ \\ \\ \\$Sanjay.M. (2018, November 2). KNN using scikit-learn. Medium. https://towardsdatascience.com/knn-using-scikit-learn-c6bed765be75. "
   ]
  }
 ],
 "metadata": {
  "kernelspec": {
   "display_name": "Python 3",
   "language": "python",
   "name": "python3"
  },
  "language_info": {
   "codemirror_mode": {
    "name": "ipython",
    "version": 3
   },
   "file_extension": ".py",
   "mimetype": "text/x-python",
   "name": "python",
   "nbconvert_exporter": "python",
   "pygments_lexer": "ipython3",
   "version": "3.7.10"
  }
 },
 "nbformat": 4,
 "nbformat_minor": 5
}
