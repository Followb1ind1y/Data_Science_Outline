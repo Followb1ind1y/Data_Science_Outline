{
 "cells": [
  {
   "cell_type": "markdown",
   "id": "a0534ec5",
   "metadata": {},
   "source": [
    "# <div align=\"right\">Machine Learning\n",
    "### <div align=\"right\"> *Followblindly*"
   ]
  },
  {
   "cell_type": "markdown",
   "id": "bd4128c8",
   "metadata": {},
   "source": [
    "# 04 - LDA and QDA for Classification"
   ]
  },
  {
   "cell_type": "markdown",
   "id": "6c875ed7",
   "metadata": {},
   "source": [
    "Discriminant analysis encompasses methods that can be used for both classification and dimensionality reduction. **Linear discriminant analysis (LDA)** is particularly popular because it is both a classifier and a dimensionality reduction technique. Despite its simplicity, LDA often produces robust, decent, and interpretable classification results. When tackling real-world classification problems, LDA is often the first and benchmarking method before other more complicated and flexible ones are employed. **Quadratic discriminant analysis (QDA)** is a variant of LDA that allows for non-linear separation of data."
   ]
  },
  {
   "cell_type": "markdown",
   "id": "6de06339",
   "metadata": {},
   "source": [
    "## Linear Discriminant Analysis for Classification\n",
    "\n",
    "LDA assumes that all classes are linearly separable and according to this multiple linear discrimination function representing several hyperplanes in the feature space are created to distinguish the classes. If there are two classes then the LDA draws one hyperplane and projects the data onto this hyperplane in such a way as to maximize the separation of the two categories. This hyperplane is created according to the two criteria considered simultaneously:\n",
    "\n",
    "* Maximizing the distance between the means of two classes;\n",
    "* Minimizing the variation between each category.\n",
    "\n",
    "Suppose that $Y \\in \\{1, ..., K\\}$ is assigned a prior $\\hat{\\pi_{k}}$ such that $\\sum_{i=1}^k \\hat{\\pi_{k}} = 1$. According to Bayes’ rule, the posterior probability is\n",
    "\n",
    "$$\n",
    "P(Y=k |X=x)=\\frac{f_{k}(x)\\pi_{k}}{\\sum_{i=1}^{K}f_{i}(x)\\pi_{i}}\n",
    "$$\n"
   ]
  },
  {
   "cell_type": "markdown",
   "id": "81bfc24d",
   "metadata": {},
   "source": [
    "where $f_{k}(x)$ is the density of $X$ conditioned on $k$. The Bayes Classifier can be expessed as:\n",
    "\n",
    "$$\n",
    "h^{*}(x) = argmax_{k}\\{P(Y=k|X=x)\\} = argmax_{k}\\delta_{k}(x)\n",
    "$$"
   ]
  },
  {
   "cell_type": "markdown",
   "id": "a7299d6b",
   "metadata": {},
   "source": [
    "For we assume that the random variable $X$ is a vector $X=(X_1,X_2,...,X_k)$ which is drawn from a *multivariate Gaussian* with class-specific mean vector and a common covariance matrix $\\Sigma \\ (i.e. \\Sigma_{k} = \\Sigma, \\forall k)$. In other words the covariance matrix is common to all K classes: $Cov(X)=\\Sigma$ of shape $d$x$d$.\n",
    "\n",
    "Since $x$ follows a multivariate Gaussian distribution, the probability $P(X=x|Y=k)$ is given by: ($\\mu_k$ is the mean of inputs for category $k$)\n",
    "\n",
    "$$\n",
    "f_k(x)=\\frac{1}{(2\\pi)^{d/2}|\\Sigma|^{1/2}}exp(-\\frac{1}{2}(x-\\mu_k)^{T}\\Sigma_{k}^{-1}(x-\\mu_k))\n",
    "$$"
   ]
  },
  {
   "cell_type": "markdown",
   "id": "0b1036f4",
   "metadata": {},
   "source": [
    "Then we can find the posterior distribution as:\n",
    " \n",
    "$$\n",
    "P(Y=k |X=x)=\\frac{f_{k}(x)\\pi_{k}}{P(X=x)} = C \\cdot f_{k}(x)\\pi_{k}\n",
    "$$"
   ]
  },
  {
   "cell_type": "markdown",
   "id": "8b3ce0f0",
   "metadata": {},
   "source": [
    "Since $P(X=x)$ does not depend on $k$ so we write it as a constant. We will now proceed to expand and simplify the algebra, putting all constant terms into $C,C^{'},C{''}$ etc..\n",
    "\n",
    "$$\n",
    "\\begin{align*} \n",
    "p_{k}(x) = &P(Y=k |X=x)=\\frac{f_{k}(x)\\pi_{k}}{P(X=x)} = C \\cdot f_{k}(x)\\pi_{k} \\\\\n",
    "&=C \\cdot \\pi_{k} \\frac{1}{(2\\pi)^{d/2}|\\Sigma|^{1/2}}exp(-\\frac{1}{2}(x-\\mu_k)^{T}\\Sigma^{-1}(x-\\mu_k)) \\\\\n",
    "&=C^{'} \\cdot \\pi_{k} exp(-\\frac{1}{2}(x-\\mu_k)^{T}\\Sigma^{-1}(x-\\mu_k))\n",
    "\\end{align*} \n",
    "$$"
   ]
  },
  {
   "cell_type": "markdown",
   "id": "5f2a45b1",
   "metadata": {},
   "source": [
    "Take the log of both sides:\n",
    "\n",
    "$$\n",
    "\\begin{align*} \n",
    "logp_{k}(x) &=log(C^{'} \\cdot \\pi_{k} exp(-\\frac{1}{2}(x-\\mu_k)^{T}\\Sigma^{-1}(x-\\mu_k))) \\\\\n",
    "&= logC^{'} + log\\pi_k -\\frac{1}{2}(x-\\mu_k)^{T}\\Sigma^{-1}(x-\\mu_k) \\\\\n",
    "&= logC^{'} + log\\pi_k -\\frac{1}{2}[(x^{T}\\Sigma^{-1}x+\\mu_{k}^{T}\\Sigma^{-1}\\mu_{k}]+x^{T}\\Sigma^{-1}\\mu_{k} \\\\\n",
    "&= C^{''} + log\\pi_k -\\frac{1}{2}\\mu_{k}^{T}\\Sigma^{-1}\\mu_{k}+x^{T}\\Sigma^{-1}\\mu_{k} \\\\\n",
    "\\end{align*} \n",
    "$$"
   ]
  },
  {
   "cell_type": "markdown",
   "id": "a9f16683",
   "metadata": {},
   "source": [
    "And so the objective function, sometimes called the linear discriminant function or linear score function is:\n",
    "\n",
    "$$\n",
    "\\delta_{k} = log\\pi_k -\\frac{1}{2}\\mu_{k}^{T}\\Sigma^{-1}\\mu_{k}+x^{T}\\Sigma^{-1}\\mu_{k} \\\\\n",
    "$$\n",
    "\n",
    "Which means that given an input $x$ we predict the class with the highest value of $\\delta_{k}(x)$."
   ]
  },
  {
   "cell_type": "markdown",
   "id": "50d4a188",
   "metadata": {},
   "source": [
    "To find the Dicision Boundary, we will set $P(Y=k|X=x) = P(Y=l|X=x)$ which is $\\delta_{k}(x) = \\delta_{l}(x)$:\n",
    "\n",
    "$$\n",
    "log\\pi_k -\\frac{1}{2}\\mu_{k}^{T}\\Sigma^{-1}\\mu_{k}+x^{T}\\Sigma^{-1}\\mu_{k} =\n",
    "log\\pi_l -\\frac{1}{2}\\mu_{l}^{T}\\Sigma^{-1}\\mu_{l}+x^{T}\\Sigma^{-1}\\mu_{l} \\\\\n",
    "log\\frac{\\pi_{k}}{\\pi_{l}} -\\underbrace{\\frac{1}{2}(\\mu_{k}-\\mu_{l})^{T}\\Sigma^{-1}(\\mu_{k}-\\mu_{l})}_{Constant}+\\underbrace{x^{T}\\Sigma^{-1}(\\mu_{k}-\\mu_{l})}_{Linear \\ in \\ x} = 0 \\\\\n",
    "\\Rightarrow a^{T}x + b = 0\n",
    "$$\n",
    "\n",
    "Which is a linear function in $x$ - this explains why the decision boundaries are linear - hence the name Linear Discriminant Analysis."
   ]
  },
  {
   "cell_type": "markdown",
   "id": "2b48a584",
   "metadata": {},
   "source": [
    "## Quadratic Discrimination Analysis for Classification\n",
    "\n",
    "LDA assumes that the observations within each class are drawn from a multivariate Gaussian distribution with a class-specific mean vector, but a covariance matrix that is common to all $K$ classes. **Quadratic discriminant analysis** provides an alternative approach by assuming that each class has its **own covariance matrix $\\Sigma_{k}$**.\n",
    "\n",
    "To derive the quadratic score function, we return to the previous derivation, but now $\\Sigma_{k}$ is a function of $k$, so we cannot push it into the constant anymore.\n",
    "\n",
    "$$\n",
    "p_{k}(x) = \\pi_{k}\\frac{1}{(2\\pi)^{d/2}|\\Sigma_{k}|^{1/2}}exp(-\\frac{1}{2}(x-\\mu_k)^{T}\\Sigma_{k}^{-1}(x-\\mu_k)) \\\\\n",
    "$$"
   ]
  },
  {
   "cell_type": "markdown",
   "id": "7b24f909",
   "metadata": {},
   "source": [
    "$$\n",
    "\\begin{align*} \n",
    "logp_{k}(x) &= C +log\\pi_{k} - \\frac{1}{2}log|\\Sigma_{k}|-\\frac{1}{2}(x-\\mu_k)^{T}\\Sigma_{k}^{-1}(x-\\mu_k) \\\\\n",
    "&= C +log\\pi_{k} - \\frac{1}{2}log|\\Sigma_{k}| -\\frac{1}{2}x^{T}\\Sigma_{k}^{-1}x +x^{T}\\Sigma_{k}^{-1}\\mu_{k} -\\frac{1}{2}\\mu_{k}^{T}\\Sigma_{k}^{-1}\\mu_{k}\n",
    "\\end{align*} \n",
    "$$"
   ]
  },
  {
   "cell_type": "markdown",
   "id": "70bc2540",
   "metadata": {},
   "source": [
    "Which is a quadratic function of x. Under this less restrictive assumption, the classifier assigns an observation X=x to the class for which the quadratic score function is the largest:\n",
    "\n",
    "$$\n",
    "\\delta_{k}(x) = log\\pi_k- \\frac{1}{2}log|\\Sigma_{k}| -\\frac{1}{2}(x-\\mu_k)^{T}\\Sigma_{k}^{-1}(x-\\mu_k) \\\\\n",
    "$$"
   ]
  },
  {
   "cell_type": "markdown",
   "id": "302f3c64",
   "metadata": {},
   "source": [
    "To find the Quadratic Dicision Boundary, we will set $P(Y=k|X=x) = P(Y=l|X=x)$ which is $\\delta_{k}(x) = \\delta_{l}(x)$:\n",
    "\n",
    "$$\n",
    "log\\pi_k- \\frac{1}{2}log|\\Sigma_{k}| -\\frac{1}{2}(x-\\mu_k)^{T}\\Sigma_{k}^{-1}(x-\\mu_k) = \n",
    "log\\pi_l- \\frac{1}{2}log|\\Sigma_{l}| -\\frac{1}{2}(x-\\mu_l)^{T}\\Sigma_{l}^{-1}(x-\\mu_l) \\\\\n",
    "\\frac{1}{2}x^{T}\\underbrace{(\\Sigma_{l}-\\Sigma_{k})}_{A}x+\\underbrace{(\\mu_{k}^{T}\\Sigma_{k}^{-1}-\\mu_{l}^{T}\\Sigma_{l}^{-1})}_{b^{T}}x +\\underbrace{\\frac{1}{2}(\\mu_{k}-\\mu_{l})^{T}\\Sigma^{-1}(\\mu_{k}-\\mu_{l}) + log(\\frac{\\pi_{l}}{\\pi_{k}}) + log(\\frac{|\\Sigma_{k}|^{1/2}}{|\\Sigma_{l}|^{1/2}})}_{c} = 0 \\\\\n",
    "\\Rightarrow x^{T}Ax + b^{T}x + c = 0\n",
    "$$"
   ]
  },
  {
   "cell_type": "markdown",
   "id": "5fda25e8",
   "metadata": {},
   "source": [
    " ###  Case 1 : When $\\Sigma_{k} = I$\n",
    "\n",
    "We first concider the case that $\\Sigma_{k} = I, \\forall k$. This is the case where each distribution is spherical, around\n",
    "the mean point. Then we can have:\n",
    "\n",
    "$$\n",
    "\\delta_{k}(x) = - \\frac{1}{2}log|I| + log\\pi_k -\\frac{1}{2}(x-\\mu_k)^{T}I(x-\\mu_k) \\\\\n",
    "$$\n",
    "\n",
    "Where $log(|I|) = log(1) = 0$ and $(x-\\mu_k)^{T}I(x-\\mu_k) = (x-\\mu_k)^{T}(x-\\mu_k)$ is the **Squared Euclidean Distance** between two points $x$ and $\\mu_{k}$.\n",
    "\n",
    "Thus under this condition (i.e. $\\Sigma = I$) , a new point can be classified by **its distance from the center of a class**, adjusted by some prior. Further, for two-class problem with equal prior, the discriminating function would be the perpendicular bisector of the 2-class’s means."
   ]
  },
  {
   "cell_type": "markdown",
   "id": "b8384e56",
   "metadata": {},
   "source": [
    " ###  Case 2 : When $\\Sigma_{k} \\neq I$\n",
    " \n",
    "Since $\\Sigma_{k}$ is a symmetric matrix $\\Sigma_{k} = \\Sigma_{k}^{T}$, by using the **Singular Value Decomposition (SVD)** of $\\Sigma_{k}$, we can get:\n",
    "\n",
    "$$\n",
    "\\Sigma_{k} = U_{k}S_{k}U_{k}^{T} \\\\\n",
    "\\Sigma_{k}^{-1} = (U_{k}S_{k}U_{k}^{T})^{-1} = U_{k}S_{k}^{-1}U_{k}^{T}\\\\\n",
    "$$\n",
    "\n",
    "Then,\n",
    "\n",
    "$$\n",
    "\\begin{align*} \n",
    "(x-\\mu_k)^{T}\\Sigma_{k}^{-1}(x-\\mu_k) &= (x-\\mu_k)^{T}U_{k}S_{k}^{-1}U_{k}^{T}(x-\\mu_k) \\\\\n",
    "&= (U_{k}^{T}x-U_{k}^{T}\\mu_k)^{T}S_{k}^{-1}(U_{k}^{T}x-U_{k}^{T}\\mu_k) \\\\\n",
    "&= (U_{k}^{T}x-U_{k}^{T}\\mu_k)^{T}S_{k}^{-\\frac{1}{2}}S_{k}^{-\\frac{1}{2}}(U_{k}^{T}x-U_{k}^{T}\\mu_k) \\\\\n",
    "&= (S_{k}^{-\\frac{1}{2}}U_{k}^{T}x-S_{k}^{-\\frac{1}{2}}U_{k}^{T}\\mu_k)^{T}I(S_{k}^{-\\frac{1}{2}}U_{k}^{T}x-S_{k}^{-\\frac{1}{2}}U_{k}^{T}\\mu_k) \\\\\n",
    "&= (S_{k}^{-\\frac{1}{2}}U_{k}^{T}x-S_{k}^{-\\frac{1}{2}}U_{k}^{T}\\mu_k)^{T}(S_{k}^{-\\frac{1}{2}}U_{k}^{T}x-S_{k}^{-\\frac{1}{2}}U_{k}^{T}\\mu_k) \\\\\n",
    "\\end{align*} \n",
    "$$\n",
    "\n",
    "Which is also known as the **Mahalanobis distance**.\n",
    "\n",
    "Think of $S_{k}^{-\\frac{1}{2}}U_{k}^{T}$ as a linear transformation that takes points in class $k$ and distributes them spherically around a point, like in Case 1. Thus when we are given a new point, we can apply the modified $\\delta_{k}$ values to calculate $h^{*}(x)$. After applying the singular value decomposition, $\\Sigma_{k}^{-1}$ is considered to be an identity matrix such that:\n",
    "\n",
    "$$\n",
    "\\delta_{k}(x) = - \\frac{1}{2}log|I| + log\\pi_k -\\frac{1}{2}(S_{k}^{-\\frac{1}{2}}U_{k}^{T}x-S_{k}^{-\\frac{1}{2}}U_{k}^{T}\\mu_k)^{T}(S_{k}^{-\\frac{1}{2}}U_{k}^{T}x-S_{k}^{-\\frac{1}{2}}U_{k}^{T}\\mu_k) \\\\\n",
    "$$\n",
    "\n",
    "Where $log(|I|) = log(1) = 0$"
   ]
  },
  {
   "cell_type": "markdown",
   "id": "ba6d399f",
   "metadata": {},
   "source": [
    "The difference between Case 1 and Case 2 (i.e. the difference between using the **Euclidean and Mahalanobis distance**) can be seen in the illustration below:\n",
    "\n",
    "<img src=\"04_images/4_Euclidean_and_Mahalanobis_distance.gif\" width=600px/>"
   ]
  },
  {
   "cell_type": "markdown",
   "id": "66ad8974",
   "metadata": {},
   "source": [
    "## LDA and QDA in practice\n",
    "\n",
    "In practice we don’t know the parameters of Gaussian and will need to estimate them using our training data.\n",
    "\n",
    "$$ \\hat{\\pi_{k}} = \\hat{P}(y=k) = \\frac{n_{k}}{n} $$\n",
    "\n",
    "where $n_{k}$ is the number of class $k$ observations.\n",
    "\n",
    "$$\\hat{\\mu_{k}} = \\frac{1}{n_{k}}\\sum_{i:y_{i}=k}x_{i}$$\n",
    "\n",
    "$$\\hat{\\Sigma_{k}} = \\frac{1}{n_{k}-k}\\sum_{i:y_{i}=k}(x_{i}-\\hat{\\mu_{k}})(x_{i}-\\hat{\\mu_{k}})^{T}$$\n",
    "\n",
    "If we wish to use LDA we must calculate a **common covariance**, so we average all the covariances e.g.\n",
    "\n",
    "$$ \\Sigma = \\frac{\\sum_{r=1}^k(n_{r}\\Sigma_{r})}{\\sum_{r=1}^k n_{r}} $$\n",
    "\n",
    "Where:\n",
    "\n",
    "* $n_{r}$ is the number of data points in class $r$. \n",
    "\n",
    "* $\\Sigma_{r}$ is the covariance of class $r$ and $n$ is the total number of data points.\n",
    "\n",
    "* $k$ is the number of classes."
   ]
  },
  {
   "cell_type": "markdown",
   "id": "fa5a325f",
   "metadata": {},
   "source": [
    "## Implementing Linear Discriminant Analysis from Scikit-learn"
   ]
  },
  {
   "cell_type": "code",
   "execution_count": 1,
   "id": "c5cd103f",
   "metadata": {},
   "outputs": [],
   "source": [
    "import numpy as np\n",
    "import pandas as pd\n",
    "from matplotlib import pyplot as plt\n",
    "import matplotlib.colors as colors\n",
    "from mpl_toolkits.mplot3d import Axes3D\n",
    "from mpl_toolkits import mplot3d\n",
    "from sklearn import linear_model, datasets\n",
    "from sklearn.discriminant_analysis import LinearDiscriminantAnalysis\n",
    "from sklearn.discriminant_analysis import QuadraticDiscriminantAnalysis\n",
    "from sklearn.decomposition import PCA\n",
    "import seaborn as sns"
   ]
  },
  {
   "cell_type": "code",
   "execution_count": 2,
   "id": "72878c5c",
   "metadata": {},
   "outputs": [
    {
     "data": {
      "text/html": [
       "<div>\n",
       "<style scoped>\n",
       "    .dataframe tbody tr th:only-of-type {\n",
       "        vertical-align: middle;\n",
       "    }\n",
       "\n",
       "    .dataframe tbody tr th {\n",
       "        vertical-align: top;\n",
       "    }\n",
       "\n",
       "    .dataframe thead th {\n",
       "        text-align: right;\n",
       "    }\n",
       "</style>\n",
       "<table border=\"1\" class=\"dataframe\">\n",
       "  <thead>\n",
       "    <tr style=\"text-align: right;\">\n",
       "      <th></th>\n",
       "      <th>Id</th>\n",
       "      <th>SepalLengthCm</th>\n",
       "      <th>SepalWidthCm</th>\n",
       "      <th>PetalLengthCm</th>\n",
       "      <th>PetalWidthCm</th>\n",
       "      <th>Species</th>\n",
       "    </tr>\n",
       "  </thead>\n",
       "  <tbody>\n",
       "    <tr>\n",
       "      <th>0</th>\n",
       "      <td>1</td>\n",
       "      <td>5.1</td>\n",
       "      <td>3.5</td>\n",
       "      <td>1.4</td>\n",
       "      <td>0.2</td>\n",
       "      <td>Iris-setosa</td>\n",
       "    </tr>\n",
       "    <tr>\n",
       "      <th>1</th>\n",
       "      <td>2</td>\n",
       "      <td>4.9</td>\n",
       "      <td>3.0</td>\n",
       "      <td>1.4</td>\n",
       "      <td>0.2</td>\n",
       "      <td>Iris-setosa</td>\n",
       "    </tr>\n",
       "    <tr>\n",
       "      <th>2</th>\n",
       "      <td>3</td>\n",
       "      <td>4.7</td>\n",
       "      <td>3.2</td>\n",
       "      <td>1.3</td>\n",
       "      <td>0.2</td>\n",
       "      <td>Iris-setosa</td>\n",
       "    </tr>\n",
       "    <tr>\n",
       "      <th>3</th>\n",
       "      <td>4</td>\n",
       "      <td>4.6</td>\n",
       "      <td>3.1</td>\n",
       "      <td>1.5</td>\n",
       "      <td>0.2</td>\n",
       "      <td>Iris-setosa</td>\n",
       "    </tr>\n",
       "    <tr>\n",
       "      <th>4</th>\n",
       "      <td>5</td>\n",
       "      <td>5.0</td>\n",
       "      <td>3.6</td>\n",
       "      <td>1.4</td>\n",
       "      <td>0.2</td>\n",
       "      <td>Iris-setosa</td>\n",
       "    </tr>\n",
       "  </tbody>\n",
       "</table>\n",
       "</div>"
      ],
      "text/plain": [
       "   Id  SepalLengthCm  SepalWidthCm  PetalLengthCm  PetalWidthCm      Species\n",
       "0   1            5.1           3.5            1.4           0.2  Iris-setosa\n",
       "1   2            4.9           3.0            1.4           0.2  Iris-setosa\n",
       "2   3            4.7           3.2            1.3           0.2  Iris-setosa\n",
       "3   4            4.6           3.1            1.5           0.2  Iris-setosa\n",
       "4   5            5.0           3.6            1.4           0.2  Iris-setosa"
      ]
     },
     "execution_count": 2,
     "metadata": {},
     "output_type": "execute_result"
    }
   ],
   "source": [
    "iris = pd.read_csv('iris.csv')\n",
    "iris.head()"
   ]
  },
  {
   "cell_type": "code",
   "execution_count": 3,
   "id": "b5bfa05f",
   "metadata": {},
   "outputs": [],
   "source": [
    "iris['SepalLengthCm'] = pd.to_numeric(iris['SepalLengthCm'])\n",
    "iris['SepalWidthCm'] = pd.to_numeric(iris['SepalWidthCm'])"
   ]
  },
  {
   "cell_type": "code",
   "execution_count": 4,
   "id": "d7bc6d99",
   "metadata": {},
   "outputs": [
    {
     "data": {
      "text/plain": [
       "<AxesSubplot:xlabel='SepalLengthCm', ylabel='SepalWidthCm'>"
      ]
     },
     "execution_count": 4,
     "metadata": {},
     "output_type": "execute_result"
    },
    {
     "data": {
      "image/png": "[encoded data removed]",
      "text/plain": [
       "<Figure size 432x288 with 1 Axes>"
      ]
     },
     "metadata": {
      "needs_background": "light"
     },
     "output_type": "display_data"
    }
   ],
   "source": [
    "sns.scatterplot(x='SepalLengthCm', y='SepalWidthCm', hue='Species', data=iris)"
   ]
  },
  {
   "cell_type": "code",
   "execution_count": 7,
   "id": "499028f2",
   "metadata": {},
   "outputs": [],
   "source": [
    "df1 = iris[['SepalLengthCm', 'SepalWidthCm','Species']]\n",
    "X_data = df1.iloc[:,0:2]\n",
    "y_labels = df1.iloc[:,2].replace({'Iris-setosa':0,'Iris-versicolor':1,'Iris-virginica':2}).copy()"
   ]
  },
  {
   "cell_type": "code",
   "execution_count": 8,
   "id": "935c1c07",
   "metadata": {},
   "outputs": [
    {
     "data": {
      "text/plain": [
       "LinearDiscriminantAnalysis()"
      ]
     },
     "execution_count": 8,
     "metadata": {},
     "output_type": "execute_result"
    }
   ],
   "source": [
    "lda = LinearDiscriminantAnalysis()\n",
    "lda.fit(X_data,y_labels)"
   ]
  },
  {
   "cell_type": "code",
   "execution_count": 9,
   "id": "985e6732",
   "metadata": {},
   "outputs": [
    {
     "data": {
      "image/png": "[encoded data removed]",
      "text/plain": [
       "<Figure size 535.25x432 with 1 Axes>"
      ]
     },
     "metadata": {
      "needs_background": "light"
     },
     "output_type": "display_data"
    }
   ],
   "source": [
    "# Our 2-dimensional distribution will be over variables X and Y\n",
    "N = 200\n",
    "X = np.linspace(4, 8, N)\n",
    "Y = np.linspace(1.5, 5, N)\n",
    "X, Y = np.meshgrid(X, Y)\n",
    "\n",
    "g = sns.FacetGrid(iris, hue=\"Species\", height=6, palette = 'colorblind') .map(plt.scatter, 'SepalLengthCm', 'SepalWidthCm',)  .add_legend()\n",
    "my_ax = g.ax\n",
    "\n",
    "\n",
    "#Computing the predicted class function for each value on the grid\n",
    "zz = np.array(  [lda.predict( np.array([[xx,yy]])) \n",
    "                     for xx, yy in zip(np.ravel(X), np.ravel(Y)) ] )\n",
    "    \n",
    "#Reshaping the predicted class into the meshgrid shape\n",
    "Z = zz.reshape(X.shape)\n",
    "\n",
    "\n",
    "#Plot the filled and boundary contours\n",
    "my_ax.contourf( X, Y, Z, 2, alpha = .1, colors = ('blue','green','red'))\n",
    "my_ax.contour( X, Y, Z, 2, alpha = 1, colors = ('blue','green','red'))\n",
    "\n",
    "# Addd axis and title\n",
    "my_ax.set_xlabel('X')\n",
    "my_ax.set_ylabel('Y')\n",
    "my_ax.set_title('LDA and boundaries')\n",
    "\n",
    "plt.show()"
   ]
  },
  {
   "cell_type": "code",
   "execution_count": 10,
   "id": "c079d07d",
   "metadata": {},
   "outputs": [
    {
     "data": {
      "text/plain": [
       "0.8"
      ]
     },
     "metadata": {},
     "output_type": "display_data"
    }
   ],
   "source": [
    "#Sklearn accuracy\n",
    "display(lda.score(X_data,y_labels))"
   ]
  },
  {
   "cell_type": "markdown",
   "id": "cf2874f7",
   "metadata": {},
   "source": [
    "## Implementing Quadratic Discriminant Analysis from Scikit-learn"
   ]
  },
  {
   "cell_type": "code",
   "execution_count": 11,
   "id": "1f31f3a3",
   "metadata": {},
   "outputs": [
    {
     "data": {
      "text/plain": [
       "QuadraticDiscriminantAnalysis(store_covariance=True)"
      ]
     },
     "execution_count": 11,
     "metadata": {},
     "output_type": "execute_result"
    }
   ],
   "source": [
    "qda = QuadraticDiscriminantAnalysis(store_covariance=True)\n",
    "qda.fit(X_data,y_labels)"
   ]
  },
  {
   "cell_type": "code",
   "execution_count": 20,
   "id": "cc21ec08",
   "metadata": {},
   "outputs": [
    {
     "data": {
      "image/png": "[encoded data removed]",
      "text/plain": [
       "<Figure size 535.25x432 with 1 Axes>"
      ]
     },
     "metadata": {
      "needs_background": "light"
     },
     "output_type": "display_data"
    }
   ],
   "source": [
    "# Our 2-dimensional distribution will be over variables X and Y\n",
    "N = 200\n",
    "X = np.linspace(4, 8, N)\n",
    "Y = np.linspace(1.5, 5, N)\n",
    "X, Y = np.meshgrid(X, Y)\n",
    "\n",
    "g = sns.FacetGrid(iris, hue=\"Species\", height=6, palette = 'colorblind') .map(plt.scatter, 'SepalLengthCm', 'SepalWidthCm',)  .add_legend()\n",
    "my_ax = g.ax\n",
    "\n",
    "\n",
    "#Computing the predicted class function for each value on the grid\n",
    "zz = np.array(  [qda.predict( np.array([[xx,yy]])) \n",
    "                     for xx, yy in zip(np.ravel(X), np.ravel(Y)) ] )\n",
    "    \n",
    "#Reshaping the predicted class into the meshgrid shape\n",
    "Z = zz.reshape(X.shape)\n",
    "\n",
    "\n",
    "#Plot the filled and boundary contours\n",
    "my_ax.contourf( X, Y, Z, 2, alpha = .1, colors = ('blue','green','red'))\n",
    "my_ax.contour( X, Y, Z, 2, alpha = 1, colors = ('blue','green','red'))\n",
    "\n",
    "# Addd axis and title\n",
    "my_ax.set_xlabel('X')\n",
    "my_ax.set_ylabel('Y')\n",
    "my_ax.set_title('QDA and boundaries')\n",
    "\n",
    "plt.show()"
   ]
  },
  {
   "cell_type": "code",
   "execution_count": 13,
   "id": "079d3faa",
   "metadata": {},
   "outputs": [
    {
     "data": {
      "text/plain": [
       "0.8"
      ]
     },
     "metadata": {},
     "output_type": "display_data"
    }
   ],
   "source": [
    "#Sklearn accuracy\n",
    "display(qda.score(X_data,y_labels))"
   ]
  },
  {
   "cell_type": "markdown",
   "id": "6b8ab346",
   "metadata": {},
   "source": [
    "## Reference"
   ]
  },
  {
   "cell_type": "markdown",
   "id": "a90f9d83",
   "metadata": {},
   "source": [
    "[1] $\\ \\ \\ \\$ Sicotte, X. B. (2018, June 22). Xavier Bourret Sicotte. Linear and Quadratic Discriminant Analysis - Data Blog. https://xavierbourretsicotte.github.io/LDA_QDA.html."
   ]
  }
 ],
 "metadata": {
  "kernelspec": {
   "display_name": "Python 3",
   "language": "python",
   "name": "python3"
  },
  "language_info": {
   "codemirror_mode": {
    "name": "ipython",
    "version": 3
   },
   "file_extension": ".py",
   "mimetype": "text/x-python",
   "name": "python",
   "nbconvert_exporter": "python",
   "pygments_lexer": "ipython3",
   "version": "3.7.10"
  }
 },
 "nbformat": 4,
 "nbformat_minor": 5
}
