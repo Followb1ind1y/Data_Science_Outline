{
 "cells": [
  {
   "cell_type": "markdown",
   "id": "1df1fc0b",
   "metadata": {},
   "source": [
    "# <div align=\"right\">Machine Learning\n",
    "### <div align=\"right\"> *Followblindly*"
   ]
  },
  {
   "cell_type": "markdown",
   "id": "c05b94c6",
   "metadata": {},
   "source": [
    "# 12 - Boosting"
   ]
  },
  {
   "cell_type": "markdown",
   "id": "23dcde52",
   "metadata": {},
   "source": [
    "**Boosting** is an ensemble modeling technique which attempts to build a strong classifier from the number of weak classifiers. It is done by building a model using weak models in series. First, a model is built from the training data. Then the second model is built which tries to correct the errors present in the first model. This procedure is continued and models are added until either the complete training data set is predicted correctly or the maximum number of models are added.\n",
    "\n",
    "Boosting being a sequential process, each subsequent model attempts to correct the errors of the previous model. It is focused on reducing the bias unlike bagging. It makes the boosting algorithms prone to overfitting. To avoid overfitting, parameter tuning plays an important role in boosting algorithms."
   ]
  },
  {
   "cell_type": "markdown",
   "id": "b6822c21",
   "metadata": {},
   "source": [
    "<img src=\"12_images/12_Boosting.PNG\" width=600px/>"
   ]
  },
  {
   "cell_type": "markdown",
   "id": "9e63dd7a",
   "metadata": {},
   "source": [
    "A **Weak Classifier** is one whose error rate is only slightly better than random guessing. Theoretically a weak classifier can be boosted to perform pretty well. To find weak learners, we apply base learning (ML) algorithms with a different distribution. As each time base learning algorithm is applied, it generates a new weak prediction rule. This is an iterative process. After many iterations, the boosting algorithm combines these weak rules into a single strong prediction rule.\n",
    "\n",
    "Boosting combines many weak classifiers to produce one powerful \"committee\". The weak classifiers do not have equal weight. For classification into two categories labeled $\\{-1,1\\}$,\n",
    "\n",
    "$$\n",
    "f(x) = sign[\\sum_{j=1}^{m}\\alpha_{j}h_{j}(x)]\n",
    "$$\n",
    "\n",
    "where $h_{j}(x)$ is a weak learner and $\\alpha_{j}$ are weights."
   ]
  },
  {
   "cell_type": "markdown",
   "id": "37ec61cc",
   "metadata": {},
   "source": [
    "## AdaBoost (for classification)\n",
    "\n",
    "---\n",
    "\n",
    "Adaptive Boosting, or most commonly known **AdaBoost**, is a Boosting algorithm. This algorithm uses the method to correct its predecessor. It pays more attention to under fitted training instances by the previous model. Thus, at every new predictor the focus is more on the complicated cases more than the others.\n",
    "\n",
    "It fits a sequence of weak learners on different weighted training data. It starts by predicting the original data set and gives equal weight to each observation. If prediction is incorrect using the first learner, then it gives higher weight to observation which have been predicted incorrectly. Being an iterative process, it continues to add learner(s) until a limit is reached in the number of models or accuracy."
   ]
  },
  {
   "cell_type": "markdown",
   "id": "49bb0b54",
   "metadata": {},
   "source": [
    "### AdaBoost Algorithm\n",
    "\n",
    "$$\n",
    "\\{(x_{i},y_{i})\\}_{i=1}^{n}, \\ \\ \\ \\ \\ \\ \\ \\ \\ \\ y_{i}=\\{-1,1\\}, \\ \\ \\ \\ \\ \\ \\ \\ \\ \\ f(x) = sign[\\sum_{j=1}^{m}\\alpha_{j}h_{j}(x)]\n",
    "$$\n",
    "\n",
    "1. Initialize weights $w_{i}=\\frac{1}{n}, \\  i = 1,2,..,n$\n",
    "\n",
    "\n",
    "2. For$j=1$ to $m$:\n",
    "    * a) Fit a classifier $h_{j}(x)$ to the training data \n",
    "    * b) Compute $err_{j}=L_{j}=\\frac{\\sum_{i=1}^{n}w_{i}I(y_{i}\\neq h(x_{i}))}{\\sum_{i=1}^{n}w_{i}}$\n",
    "    * c) Compute $\\alpha_{j}=log(\\frac{1-L_{j}}{L_{j}})$\n",
    "    * d) Set $w_{i} := w_{i}exp[\\alpha_{j}I(y_{i}\\neq h(x_{j}))]$\n",
    "    \n",
    "    \n",
    "3. Final classification\n",
    "\n",
    "$$\n",
    "h(x_{i}) =sign[\\sum_{j=1}^{m}\\alpha_{j}h_{j}(x)]\n",
    "$$"
   ]
  },
  {
   "cell_type": "markdown",
   "id": "c322b30b",
   "metadata": {},
   "source": [
    "*  If classified correctly, the weight of an observation remains unchanged.\n",
    "*  If classified incorrectly, the weight is increased by multiplying\n",
    "$exp(\\alpha_{j})$\n",
    "* alpha varies with the degree of misclassification"
   ]
  },
  {
   "cell_type": "markdown",
   "id": "9d77915a",
   "metadata": {},
   "source": [
    "##  Additive Model\n",
    "\n",
    "---\n",
    "\n",
    "Generally, boosting fits an additive model\n",
    "\n",
    "$$\n",
    "f(x)=\\sum_{j=1}^{m}\\beta_{j}\\phi_{j}(x)\n",
    "$$\n",
    "\n",
    "Where $\\phi_{j}(x)$ are basis functions (weak learners). \n",
    "\n",
    "Adaboost is restricted to **2‐class** classification, **boosting is not**. To fit the model a loss function has to be minimized:\n",
    "\n",
    "$$\n",
    "min_{\\beta_{j},\\gamma_{j}}L(y,f(x))=\\sum_{i=1}^{n}L(y_{i},\\sum_{j=1}^{m}\\beta_{j}\\phi_{j}(x_{i},\\gamma_{j}))\n",
    "$$"
   ]
  },
  {
   "cell_type": "markdown",
   "id": "931fd948",
   "metadata": {},
   "source": [
    "Finding optimal coefficients for all $m$ iterations simultaneously is difficult. We therefore simplify the problem. At each iteration, we find the best fit to the “residual” from the previous iteration.\n",
    "\n",
    "* What \"best\" means depends on the loss function\n",
    "* Definition of \"residual\" depends on the loss function\n",
    "\n",
    "Sequential fit: values from earlier iterations are never changed."
   ]
  },
  {
   "cell_type": "markdown",
   "id": "0e51bcc3",
   "metadata": {},
   "source": [
    "###  Forward Stagewise Additive Modeling Algorithm\n",
    "\n",
    "1. Initial $f_{0}(x)$\n",
    "\n",
    "\n",
    "2. For $j=1$ to $m$. Add to the existing model such that the loss function is minimized.\n",
    "    * a) Minimize the loss $\\sum_{i=1}^{n}L[f_{j-1}(x_{i})+\\beta_{j}\\phi_{j}(x_{i},\\gamma_{j})]$\n",
    "    * b) Update the function $f_{j}(x)=f_{j-1}(x)+\\beta_{j}\\phi_{j}(x,\\gamma_{j})$\n",
    "    "
   ]
  },
  {
   "cell_type": "markdown",
   "id": "9acdeb84",
   "metadata": {},
   "source": [
    "One can show that Adaboost is a forward stagewise additive model using an exponential loss function\n",
    "\n",
    "$$\n",
    "Loss(y,h(x)) = exp(-y\\times h(x))\n",
    "$$"
   ]
  },
  {
   "cell_type": "markdown",
   "id": "318960ce",
   "metadata": {},
   "source": [
    "## Gradient Boosting\n",
    "\n",
    "---\n",
    "\n",
    "Gradient Boosting is another very popular Boosting algorithm which works pretty similar to what we’ve seen for AdaBoost. Gradient Boosting works by sequentially adding the previous predictors underfitted predictions to the ensemble, ensuring the errors made previously are corrected.\n",
    "\n",
    "The difference lies in what it does with the underfitted values of its predecessor. Contrary to AdaBoost, which tweaks the instance weights at every interaction, this method tries to fit the new predictor to the residual errors made by the previous predictor."
   ]
  },
  {
   "cell_type": "markdown",
   "id": "84e56456",
   "metadata": {},
   "source": [
    "### Gradient Boosting Algorithm:\n",
    "\n",
    "1. A model is built on a subset of data.\n",
    "2. Using this model, predictions are made on the whole dataset.\n",
    "3. Errors are calculated by comparing the predictions and actual values.\n",
    "4. A new model is created using the errors calculated as target variable. Our objective is to find the best split to minimize the error.\n",
    "5. The predictions made by this new model are combined with the predictions of the previous.\n",
    "6. New errors are calculated using this predicted value and actual value.\n",
    "7. This process is repeated until the error function does not change, or the maximum limit of the number of estimators is reached."
   ]
  },
  {
   "cell_type": "markdown",
   "id": "7439909e",
   "metadata": {},
   "source": [
    "## XGBoost\n",
    "\n",
    "---\n",
    "\n",
    "XG Boost or Extreme Gradient Boosting is an advanced implementation of the Gradient Boosting. This algorithm has high predictive power and is ten times faster than any other gradient boosting techniques. Moreover, it includes a variety of regularization which reduces overfitting and improves overall performance."
   ]
  },
  {
   "cell_type": "markdown",
   "id": "9c01894e",
   "metadata": {},
   "source": [
    "### Advantages of XGBoost\n",
    "\n",
    "* It implements regularization which helps in reducing overfit (Gradient Boosting does not have);\n",
    "* It implements parallel processing which is much faster than Gradient Boosting;\n",
    "* Allows users to define custom optimization objectives and evaluation criteria adding a whole new dimension to the model;\n",
    "* XGBoost has an in-built routine to handle missing values;\n",
    "* XGBoost makes splits up to the max_depth specified and then starts pruning the tree backwards and removes splits beyond which there is no positive gain;\n",
    "* XGBoost allows a user to run a cross-validation at each iteration of the boosting process and thus it is easy to get the exact optimum number of boosting iterations in a single run."
   ]
  },
  {
   "cell_type": "markdown",
   "id": "f0497bed",
   "metadata": {},
   "source": [
    "## Implementing AdaBoost from sklearn\n"
   ]
  },
  {
   "cell_type": "code",
   "execution_count": 2,
   "id": "bb839343",
   "metadata": {},
   "outputs": [],
   "source": [
    "# Load libraries\n",
    "from sklearn import datasets\n",
    "# Import train_test_split function\n",
    "from sklearn.model_selection import train_test_split\n",
    "#Import scikit-learn metrics module for accuracy calculation\n",
    "from sklearn import metrics"
   ]
  },
  {
   "cell_type": "code",
   "execution_count": 3,
   "id": "c6454540",
   "metadata": {},
   "outputs": [],
   "source": [
    "iris = datasets.load_iris()\n",
    "X = iris.data\n",
    "y = iris.target"
   ]
  },
  {
   "cell_type": "code",
   "execution_count": 4,
   "id": "436707e8",
   "metadata": {},
   "outputs": [],
   "source": [
    "# Split dataset into training set and test set\n",
    "X_train, X_test, y_train, y_test = train_test_split(X, y, test_size=0.3) # 70% training and 30% test"
   ]
  },
  {
   "cell_type": "code",
   "execution_count": 8,
   "id": "b4bf08d7",
   "metadata": {},
   "outputs": [
    {
     "data": {
      "text/plain": [
       "0.8666666666666667"
      ]
     },
     "execution_count": 8,
     "metadata": {},
     "output_type": "execute_result"
    }
   ],
   "source": [
    "from sklearn.tree import DecisionTreeClassifier \n",
    "from sklearn import tree\n",
    "\n",
    "DT_clf = DecisionTreeClassifier(random_state=1234)\n",
    "DT_model = DT_clf.fit(X_train, y_train)\n",
    "DT_y_pred = DT_model.predict(X_test)\n",
    "metrics.accuracy_score(y_test, DT_y_pred)"
   ]
  },
  {
   "cell_type": "code",
   "execution_count": 10,
   "id": "f40657ac",
   "metadata": {},
   "outputs": [
    {
     "data": {
      "text/plain": [
       "0.9111111111111111"
      ]
     },
     "execution_count": 10,
     "metadata": {},
     "output_type": "execute_result"
    }
   ],
   "source": [
    "from sklearn.ensemble import AdaBoostClassifier\n",
    "\n",
    "# Create adaboost classifer object\n",
    "Ada = AdaBoostClassifier(n_estimators=50,\n",
    "                         learning_rate=1)\n",
    "# Train Adaboost Classifer\n",
    "Ada_model = Ada.fit(X_train, y_train)\n",
    "\n",
    "#Predict the response for test dataset\n",
    "Ada_y_pred = Ada_model.predict(X_test)\n",
    "\n",
    "metrics.accuracy_score(y_test, Ada_y_pred)"
   ]
  },
  {
   "cell_type": "markdown",
   "id": "6d112279",
   "metadata": {},
   "source": [
    "## Implementing Gradient Boosting from sklearn"
   ]
  },
  {
   "cell_type": "code",
   "execution_count": 12,
   "id": "85e25562",
   "metadata": {},
   "outputs": [
    {
     "data": {
      "text/plain": [
       "0.9111111111111111"
      ]
     },
     "execution_count": 12,
     "metadata": {},
     "output_type": "execute_result"
    }
   ],
   "source": [
    "# for regression\n",
    "from sklearn.ensemble import GradientBoostingRegressor\n",
    "model = GradientBoostingRegressor(n_estimators=3,learning_rate=1)\n",
    "model.fit(X,y)\n",
    "\n",
    "# for classification\n",
    "from sklearn.ensemble import GradientBoostingClassifier\n",
    "Grad = GradientBoostingClassifier()\n",
    "Grad_model = Grad.fit(X_train, y_train)\n",
    "Grad_y_pred = Grad_model.predict(X_test)\n",
    "metrics.accuracy_score(y_test, Grad_y_pred)"
   ]
  },
  {
   "cell_type": "markdown",
   "id": "84a33965",
   "metadata": {},
   "source": [
    "## Reference"
   ]
  },
  {
   "cell_type": "markdown",
   "id": "9ab3a0d3",
   "metadata": {},
   "source": [
    "[1] $\\ \\ \\ \\$ Sarkar, P., S, A., &amp; Shah, P. (2019, October 22). What is Boosting and AdaBoost in Machine Learning? Knowledgehut. https://www.knowledgehut.com/blog/data-science/boosting-and-adaboost-in-machine-learning. "
   ]
  },
  {
   "cell_type": "markdown",
   "id": "99bc4f19",
   "metadata": {},
   "source": [
    "[2] $\\ \\ \\ \\$ Navlani, A. (2018, November 18). AdaBoost Classifier in Python. DataCamp Community. https://www.datacamp.com/community/tutorials/adaboost-classifier-python. "
   ]
  }
 ],
 "metadata": {
  "kernelspec": {
   "display_name": "Python 3",
   "language": "python",
   "name": "python3"
  },
  "language_info": {
   "codemirror_mode": {
    "name": "ipython",
    "version": 3
   },
   "file_extension": ".py",
   "mimetype": "text/x-python",
   "name": "python",
   "nbconvert_exporter": "python",
   "pygments_lexer": "ipython3",
   "version": "3.7.10"
  }
 },
 "nbformat": 4,
 "nbformat_minor": 5
}
