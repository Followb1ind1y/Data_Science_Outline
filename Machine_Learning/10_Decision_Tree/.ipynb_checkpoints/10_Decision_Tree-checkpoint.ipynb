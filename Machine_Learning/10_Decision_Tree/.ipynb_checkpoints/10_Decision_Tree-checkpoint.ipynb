{
 "cells": [
  {
   "cell_type": "markdown",
   "id": "6689a1c4",
   "metadata": {},
   "source": [
    "# <div align=\"right\">Machine Learning\n",
    "### <div align=\"right\"> *Followblindly*"
   ]
  },
  {
   "cell_type": "markdown",
   "id": "24300c4b",
   "metadata": {},
   "source": [
    "# 10 - Decision Trees"
   ]
  },
  {
   "cell_type": "markdown",
   "id": "8454040d",
   "metadata": {},
   "source": [
    "A tree has many analogies in real life, and turns out that it has influenced a wide area of **machine learning**, covering both **classification** and **regression**. In decision analysis, a decision tree can be used to visually and explicitly represent decisions and decision making. As the name goes, it uses a tree-like model of decisions. Though a commonly used tool in data mining for deriving a strategy to reach a particular goal, its also widely used in machine learning."
   ]
  },
  {
   "cell_type": "markdown",
   "id": "28aa6e24",
   "metadata": {},
   "source": [
    "<img src=\"10_images/10_What_is_tree.PNG\" width=450px/>"
   ]
  },
  {
   "cell_type": "markdown",
   "id": "9244a233",
   "metadata": {},
   "source": [
    "**Decision Tree consists of :**\n",
    "\n",
    "1. **Nodes** : Test for the value of a certain attribute.\n",
    "2. **Edges/ Branch** : Correspond to the outcome of a test and connect to the next node or leaf.\n",
    "3. **Leaf nodes** : Terminal nodes that predict the outcome (represent class labels or class distribution)."
   ]
  },
  {
   "cell_type": "markdown",
   "id": "f37898a7",
   "metadata": {},
   "source": [
    "**Applications of Decision trees in real life** :\n",
    "\n",
    "* Biomedical Engineering (decision trees for identifying features to be used in implantable devices).\n",
    "* Financial analysis (Customer Satisfaction with a product or service).\n",
    "* Astronomy (classify galaxies).\n",
    "* System Control.\n",
    "* Manufacturing and Production (Quality control, Semiconductor manufacturing, etc).\n",
    "* Medicines (diagnosis, cardiology, psychiatry).\n",
    "* Physics (Particle detection)."
   ]
  },
  {
   "cell_type": "markdown",
   "id": "ebe27b48",
   "metadata": {},
   "source": [
    "## Classification and Regression Trees (CART)\n",
    "\n",
    "**Classification** and **regression** trees are machine-learning methods for constructing prediction models from data. The models are obtained by recursively partitioning the data space and fitting a simple prediction model within each partition. As a result, the partitioning can be represented graphically as a decision tree. Classification trees are designed for dependent variables that take a finite number of unordered values, with prediction error measured in terms of misclassification cost. Regression trees are for dependent variables that take continuous or ordered discrete values, with prediction error typically measured by the squared difference between the observed and predicted values. "
   ]
  },
  {
   "cell_type": "markdown",
   "id": "2878a1d0",
   "metadata": {},
   "source": [
    "<img src=\"10_images/10_Regression_Classification.PNG\" width=700px/>"
   ]
  },
  {
   "cell_type": "markdown",
   "id": "e5b5aea4",
   "metadata": {},
   "source": [
    "Consider the data would be:\n",
    "\n",
    "$$\n",
    "\\{(x_{i},y_{i})\\}_{i=1}^{n} \\ \\ \\ \\ \\ \\ \\ \\ \\ \\ \\ \\ \\ \\ \\ \\ \n",
    "x = \\begin{bmatrix}\n",
    "x_{1},x_{2},...,x_{n}    \\\\\n",
    "\\end{bmatrix}_{\\ dxn}\\ \\ \\ \\ \\ \\ \\ \\ \\ \\ \\ \\ \\ \\ \\ \\ \n",
    "y = \\begin{bmatrix}\n",
    "y_{1}    \\\\\n",
    "y_{2}    \\\\\n",
    "...      \\\\\n",
    "y_{n}    \\\\\n",
    "\\end{bmatrix}_{\\ nx1}\n",
    "$$\n",
    "\n",
    "Define:\n",
    "* $x_{j:}\\to j'th$ row and all columns. (each row of $x$ matrix is a feature)\n",
    "* $x_{:i}\\to$ one column and all rows. (each column of $x$ matrix is a data sample)"
   ]
  },
  {
   "cell_type": "markdown",
   "id": "f597b7f2",
   "metadata": {},
   "source": [
    "At each split we have two regions.\n",
    "\n",
    "$$\n",
    "R_{1}(j,s) = \\{ x_{:i}|x_{j:}\\leq s \\} \\\\\n",
    "R_{2}(j,s) = \\{ x_{:i}|x_{j:}> s \\} \\\\\n",
    "$$\n",
    "\n",
    "We need to decide about $j$ and $s$. To decide about these parameters we can define an objective function."
   ]
  },
  {
   "cell_type": "markdown",
   "id": "cea039f6",
   "metadata": {},
   "source": [
    "### Regression Case\n",
    "\n",
    "For simplicity, consider the model we want to fit for each region be a constant value. Therefore in region one for example, we want all the target values to be as close as possible to constant $C_{1}$.\n",
    "\n",
    "$$\n",
    "min_{C_{1}}\\sum_{y_{i}\\in R_{1}}(y_{i}-C_{1})^{2}\n",
    "$$\n",
    "\n",
    "Since in each split we have two regions, we can write similar objective for region two. Since in each split we have two regions, we can write similar objective for region two.\n",
    "\n",
    "$$\n",
    "min_{C_{2}}\\sum_{y_{i}\\in R_{2}}(y_{i}-C_{2})^{2}\n",
    "$$\n",
    "\n",
    "Therefore we have:\n",
    "\n",
    "$$\n",
    "min_{C_{1}}\\sum_{y_{i}\\in R_{1}}(y_{i}-C_{1})^{2}+min_{C_{2}}\\sum_{y_{i}\\in R_{2}}(y_{i}-C_{2})^{2}\n",
    "$$\n",
    "\n",
    "Finally we should also decide about $j$ and $s$:\n",
    "\n",
    "$$\n",
    "min_{j,s}[min_{C_{1}}\\sum_{y_{i}\\in R_{1}}(y_{i}-C_{1})^{2}+min_{C_{2}}\\sum_{y_{i}\\in R_{2}}(y_{i}-C_{2})^{2}]\n",
    "$$"
   ]
  },
  {
   "cell_type": "markdown",
   "id": "3e2df5e4",
   "metadata": {},
   "source": [
    "* If $j$ and $s$ are known\n",
    "\n",
    "$$\n",
    "C_{1} = Average\\{x_{:i}|x_{:i}\\in R_{1} \\} \\\\\n",
    "C_{2} = Average\\{x_{:i}|x_{:i}\\in R_{2} \\} \\\\\n",
    "$$"
   ]
  },
  {
   "cell_type": "markdown",
   "id": "d6e24921",
   "metadata": {},
   "source": [
    "* Given $j$, we have only $n$ possible choice for $s$\n",
    "\n",
    "$$\n",
    "x_{j} = \\begin{bmatrix}\n",
    "x_{j1},x_{j2},...,x_{jn}    \\\\\n",
    "\\end{bmatrix}\n",
    "$$\n",
    "\n",
    "One (trivial)solution for this problem can be a brute force search.\n",
    "1. Consider feature $j$ each time\n",
    "2. Test all $n$ possible choices for $s$\n",
    "3. Find $C_{1}$ and $C_{2}$ for considered $s$ and $j$\n",
    "4. Repeat until finding minimum value for objective function"
   ]
  },
  {
   "cell_type": "markdown",
   "id": "7b4b5bd7",
   "metadata": {},
   "source": [
    "Define\n",
    "\n",
    "$$\n",
    "Q_{m}(T)=\\frac{1}{n_{m}}\\sum_{y_{i}\\in R_{m}}(y_{i}-C_{m})^{2}\n",
    "$$\n",
    "\n",
    "Where:\n",
    "* $m$ is a terminal node of the tree.\n",
    "* $R_{m}$ is a region.\n",
    "* $n_{m}$ is the number of points in $R_{m}$.\n",
    "* $C_{m}$ is the constant that we fit in $R_{m}$.\n",
    "* |$T$| is the number of terminal nodes.\n",
    "\n",
    "Therefore the **total error** would be:\n",
    "\n",
    "$$\n",
    "\\sum_{m=1}^{|T|}n_{m}Q_{m}\n",
    "$$"
   ]
  },
  {
   "cell_type": "markdown",
   "id": "3ba7233c",
   "metadata": {},
   "source": [
    "**Stopping criterion**\n",
    "\n",
    "* **Option 1 (bad):** split only if the split reduces the residual sum of squares (RSS) by at least some threshold value\n",
    "    * However, sometimes you have a split with a small improvement followed by one with a large improvement.\n",
    "    * This stopping criterion would miss such splits\n",
    "* **Option 2:** over‐build the tree and \"prune\" the tree later.\n",
    "    * Pruning refers to removing some splits that create terminal leaves\n"
   ]
  },
  {
   "cell_type": "markdown",
   "id": "f179e362",
   "metadata": {},
   "source": [
    "### Tree Pruning\n",
    "\n",
    "After a tree is fully extended, remove one leaf at a time to minimize this criterion:\n",
    "\n",
    "$$\n",
    "\\sum_{m=1}^{|T|}n_{m}Q_{m} + \\alpha|T|\n",
    "$$\n",
    "\n",
    "Where\n",
    "\n",
    "* $\\alpha|T|$ is the penalty for having too many leaves\n",
    "* $\\alpha$ is a tuning parameter and can be chosen via cross validation\n",
    "* Introducing the penalty is also called regularization"
   ]
  },
  {
   "cell_type": "markdown",
   "id": "9a9da1ed",
   "metadata": {},
   "source": [
    "<img src=\"10_images/10_Pruning.PNG\" width=400px/>"
   ]
  },
  {
   "cell_type": "markdown",
   "id": "9ab5e9fd",
   "metadata": {},
   "source": [
    "### Classification Case\n",
    "\n",
    "In regression case, we tried to fit a constant to a region. But in classification case we need to find the regions which contain samples from same class. We can change regression cost with some sort of misclassification cost.\n",
    "\n",
    "* Consider the classes of \n",
    "\n",
    "$$C = \\{1,2,3,...,𝑘\\}$$\n",
    "* Impurity:\n",
    "$$P_{mk}=\\frac{1}{n_{m}}\\sum_{y_{i}\\in R_{m}}I(y_{i}=k)$$\n",
    "* Misclassification:\n",
    "$$\\frac{1}{n_{m}}\\sum_{y_{i}\\in R_{m}}I(y_{i}\\neq k) = 1 - P_{mk}$$\n",
    "* Gini Index:\n",
    "$$\\sum_{i\\neq j}P_{mi}P_{mj}$$\n",
    "* Cross Entropy\n",
    "$$-\\sum_{k=1}^{K}p_{mk}log(P_{mk})$$"
   ]
  },
  {
   "cell_type": "markdown",
   "id": "7c69d08a",
   "metadata": {},
   "source": [
    "<img src=\"10_images/10_Node_Impurity.PNG\" width=500px/>"
   ]
  },
  {
   "cell_type": "markdown",
   "id": "a4c87636",
   "metadata": {},
   "source": [
    "#### Gini Example\n",
    "In the snapshot below, we split the population using two input variables Gender and Class. Now, I want to identify which split is producing more homogeneous sub-nodes using Gini ."
   ]
  },
  {
   "cell_type": "markdown",
   "id": "45f3b3a9",
   "metadata": {},
   "source": [
    "<img src=\"10_images/10_Gini.PNG\" width=800px/>"
   ]
  },
  {
   "cell_type": "markdown",
   "id": "7ecfd6ac",
   "metadata": {},
   "source": [
    "**Split on Gender:**\n",
    "1. Calculate, Gini for sub-node $Female = (0.2)\\times(0.2)+(0.8)\\times(0.8)=0.68$\n",
    "2. Gini for sub-node $Male = (0.65)\\times(0.65)+(0.35)\\times(0.35)=0.55$\n",
    "3. Calculate weighted Gini for Split $Gender = (10/30)\\times0.68+(20/30)\\times0.55 = 0.59$\n",
    "\n",
    "**Similar for Split on Class:**\n",
    "1. Gini for sub-node Class $IX = (0.43)\\times(0.43)+(0.57)\\times(0.57)=0.51$\n",
    "2. Gini for sub-node Class $X = (0.56)\\times(0.56)+(0.44)\\times(0.44)=0.51$\n",
    "3. Calculate weighted Gini for Split $Class = (14/30)\\times0.51+(16/30)\\times0.51 = 0.51$\n",
    "\n",
    "Above, we can see that Gini score for Split on Gender is higher than Split on Class, hence, the node split will take place on Gender."
   ]
  },
  {
   "cell_type": "markdown",
   "id": "bcf2aec1",
   "metadata": {},
   "source": [
    "## Implementing Decision Tree from sklearn"
   ]
  },
  {
   "cell_type": "code",
   "execution_count": 12,
   "id": "236e08e1",
   "metadata": {},
   "outputs": [],
   "source": [
    "import numpy as np\n",
    "import pandas as pd\n",
    "from matplotlib import pyplot as plt\n",
    "import seaborn as sns\n",
    "from sklearn import datasets\n",
    "from sklearn.model_selection import train_test_split"
   ]
  },
  {
   "cell_type": "code",
   "execution_count": 13,
   "id": "ea12f413",
   "metadata": {},
   "outputs": [],
   "source": [
    "iris = datasets.load_iris()\n",
    "X = iris.data\n",
    "y = iris.target"
   ]
  },
  {
   "cell_type": "code",
   "execution_count": 14,
   "id": "fef25429",
   "metadata": {},
   "outputs": [],
   "source": [
    "from sklearn.tree import DecisionTreeClassifier \n",
    "from sklearn import tree\n",
    "clf = DecisionTreeClassifier(random_state=1234)\n",
    "model = clf.fit(X, y)"
   ]
  },
  {
   "cell_type": "code",
   "execution_count": 26,
   "id": "bb094f25",
   "metadata": {},
   "outputs": [
    {
     "data": {
      "text/plain": [
       "'decision_tree_graphivz.png'"
      ]
     },
     "execution_count": 26,
     "metadata": {},
     "output_type": "execute_result"
    }
   ],
   "source": [
    "import graphviz\n",
    "# DOT data\n",
    "dot_data = tree.export_graphviz(clf, out_file=None, \n",
    "                                feature_names=iris.feature_names,  \n",
    "                                class_names=iris.target_names,\n",
    "                                filled=True)\n",
    "\n",
    "# Draw graph\n",
    "graph = graphviz.Source(dot_data, format=\"png\") \n",
    "graph.render(\"decision_tree_graphivz\")"
   ]
  },
  {
   "cell_type": "markdown",
   "id": "d8e0c748",
   "metadata": {},
   "source": [
    "<img src=\"10_images/decision_tree_graphivz.png\" width=800px/>"
   ]
  },
  {
   "cell_type": "code",
   "execution_count": 25,
   "id": "af2b5d0c",
   "metadata": {},
   "outputs": [],
   "source": [
    "from dtreeviz.trees import dtreeviz\n",
    "\n",
    "viz = dtreeviz(clf, X, y,\n",
    "                target_name=\"target\",\n",
    "                feature_names=iris.feature_names,\n",
    "                class_names=list(iris.target_names))\n",
    "\n",
    "viz.save(\"decision_tree.svg\")"
   ]
  },
  {
   "cell_type": "markdown",
   "id": "6f8c05b8",
   "metadata": {},
   "source": [
    "<img src=\"10_images/decision_tree.svg\" width=800px/>"
   ]
  },
  {
   "cell_type": "markdown",
   "id": "b5cf3da7",
   "metadata": {},
   "source": [
    "##  Pros and Cons of Trees\n",
    "\n",
    "### Pros:\n",
    "* Inexpensive to construct.\n",
    "* Extremely fast at classifying unknown records.\n",
    "* Easy to interpret for small-sized trees\n",
    "* Accuracy comparable to other classification techniques for many simple data sets.\n",
    "* Excludes unimportant features.\n",
    "\n",
    "### Cons:\n",
    "* Decision Boundary restricted to being parallel to attribute axes.\n",
    "* Decision tree models are often biased toward splits on features having a large number of levels.\n",
    "* Small changes in the training data can result in large changes to decision logic.\n",
    "* Large trees can be difficult to interpret and the decisions they make may seem counter intuitive."
   ]
  },
  {
   "cell_type": "markdown",
   "id": "c04e73c3",
   "metadata": {},
   "source": [
    "## Reference"
   ]
  },
  {
   "cell_type": "markdown",
   "id": "71d8cb7a",
   "metadata": {},
   "source": [
    "[1] $\\ \\ \\ \\$ Chakure, A. (2020, November 6). Decision Tree Classification. Medium. https://medium.com/swlh/decision-tree-classification-de64fc4d5aac. "
   ]
  },
  {
   "cell_type": "markdown",
   "id": "dd4b34a2",
   "metadata": {},
   "source": [
    "[2] $\\ \\ \\ \\$ Płoński, P. (2020, June 22). Visualize a Decision Tree in 4 Ways with Scikit-Learn and Python. MLJAR Automated Machine Learning. https://mljar.com/blog/visualize-decision-tree/. "
   ]
  }
 ],
 "metadata": {
  "kernelspec": {
   "display_name": "Python 3",
   "language": "python",
   "name": "python3"
  },
  "language_info": {
   "codemirror_mode": {
    "name": "ipython",
    "version": 3
   },
   "file_extension": ".py",
   "mimetype": "text/x-python",
   "name": "python",
   "nbconvert_exporter": "python",
   "pygments_lexer": "ipython3",
   "version": "3.7.10"
  }
 },
 "nbformat": 4,
 "nbformat_minor": 5
}
