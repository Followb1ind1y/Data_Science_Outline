{
 "cells": [
  {
   "attachments": {},
   "cell_type": "markdown",
   "metadata": {},
   "source": [
    "# **01 - What is Machine Learning**"
   ]
  },
  {
   "cell_type": "markdown",
   "metadata": {},
   "source": [
    " > **Arthur Samuel (1959)**. *Machine Learning: The field of study that gives computers the ability to learn without being explicitly learned*.\n",
    " \n",
    " > **Tom Mitchell (1998)**. *Well-posed Learning Problem: a computer program is said to learn from experience E with respect to some task T and some performance measure P, if its performance on T, as measured by P, improves with experience E*."
   ]
  },
  {
   "cell_type": "markdown",
   "metadata": {},
   "source": [
    "<img src=\"01_images/1_Five_Steps.PNG\" width=650px />"
   ]
  },
  {
   "cell_type": "markdown",
   "metadata": {},
   "source": [
    "##  *Feature Selection Algorithms*\n",
    "\n",
    "When building a machine learning model in real-life, it’s almost rare that all the variables in the dataset are useful to build a model. Adding redundant variables reduces the generalization capability of the model and may also reduce the overall accuracy of a classifier. Furthermore adding more and more variables to a model increases the overall complexity of the model. The goal of feature selection in machine learning is to find the best set of features that allows one to build useful models of studied phenomena. The most popular feature selection algorithms are:\n",
    "\n",
    "* **Chi-square Test**\n",
    "* **Fisher’s Score**\n",
    "* **Correlation Coefficient**\n",
    "* Forward Feature Selection\n",
    "* Backward Feature Elimination\n",
    "* **L1 Regularization**"
   ]
  },
  {
   "cell_type": "markdown",
   "metadata": {},
   "source": [
    "## *Representation Algorithms Grouped By Learning Style*\n",
    "\n",
    "There are different ways an algorithm can model a problem based on its interaction with the experience or environment or whatever we want to call the input data. It is popular in machine learning and artificial intelligence textbooks to first consider the learning styles that an algorithm can adopt. \n",
    "\n",
    "This taxonomy or way of organizing machine learning algorithms is useful because it forces you to think about the roles of the input data and the model preparation process and select one that is the most appropriate for your problem in order to get the best result."
   ]
  },
  {
   "cell_type": "markdown",
   "metadata": {},
   "source": [
    "### Supervised Learning Algorithms（监督学习）\n",
    "\n",
    "<img src=\"01_images/1_Supervised_Learning.PNG\" width=600px/>\n",
    "\n",
    "In supervised learning, we are given a data set and **already know what our correct output** should look like, having the idea that there is a relationship between the input and the output.\n",
    "\n",
    "Supervised learning problems are categorized into **\"Regression\"** and **\"Classification\"** problems. In a regression problem, we are trying to predict results within a continuous output, meaning that we are trying to map input variables to some continuous function. In a classification problem, we are instead trying to predict results in a discrete output. In other words, we are trying to map input variables into discrete categories. \n",
    "\n",
    "* **Examples of Supervised Learning:**  Regression, Decision Tree, Random Forest, KNN, Logistic Regression etc."
   ]
  },
  {
   "cell_type": "markdown",
   "metadata": {},
   "source": [
    "### Unsupervised Learning Algorithms （无监督学习）\n",
    "\n",
    "<img src=\"01_images/1_Unsupervised_Learning.PNG\" width=600px/>\n",
    "\n",
    "In unsupervised learning, the data has no labels. Unsupervised learning allows us to approach problems with **little or no idea** what our results should look like. We can derive structure from data where we don't necessarily know the effect of the variables. We can derive this structure by **Clustering** the data based on relationships among the variables in the data. With unsupervised learning there is no feedback based on the prediction results.\n",
    "\n",
    "* **Examples of Unsupervised Learning:**  Apriori algorithm, K-means."
   ]
  },
  {
   "cell_type": "markdown",
   "metadata": {},
   "source": [
    "### Reinforcement Learning Algorithms （强化学习）\n",
    "\n",
    "\n",
    "<img src=\"01_images/1_Reinforcement_Learning.PNG\" width=600px/>\n",
    "\n",
    "Lastly, we have reinforcement learning, the latest frontier of machine learning. A reinforcement algorithm learns by trial and error to achieve a clear objective. It tries out lots of different things and is **rewarded** or **penalized** depending on whether its behaviors help or hinder it from reaching its objective. This is like giving and withholding treats when teaching a dog a new trick. Reinforcement learning is the basis of Google’s AlphaGo, the program that famously beat the best human players in the complex game of Go.\n",
    "\n",
    "* **Example of Reinforcement Learning:** Markov Decision Process"
   ]
  },
  {
   "cell_type": "markdown",
   "metadata": {},
   "source": [
    "## *Representation Algorithms Grouped By Similarity*\n",
    "\n",
    "Algorithms are often grouped by similarity in terms of their function (how they work). For example, tree-based methods, and neural network inspired methods. This is a useful grouping method, but it is not perfect. There are still algorithms that could just as easily fit into multiple categories like Learning Vector Quantization that is both a neural network inspired method and an instance-based method. There are also categories that have the same name that describe the problem and the class of algorithm such as Regression and Clustering."
   ]
  },
  {
   "cell_type": "markdown",
   "metadata": {},
   "source": [
    "### Regression Algorithms（回归算法）\n",
    "\n",
    "Regression is concerned with modeling the relationship between variables that is iteratively refined using a measure of error in the predictions made by the model. Regression methods are a workhorse of statistics and have been co-opted into statistical machine learning. This may be confusing because we can use regression to refer to the class of problem and the class of algorithm. Really, regression is a process.\n",
    "\n",
    "<img src=\"01_images/1_Regression.PNG\" width=135px align='right'/>\n",
    "\n",
    "The most popular regression algorithms are:\n",
    "\n",
    "* Ordinary Least Squares Regression (OLSR)\n",
    "* **Linear Regression**\n",
    "* **Logistic Regression**\n",
    "* Stepwise Regression\n",
    "* Multivariate Adaptive Regression Splines (MARS)\n",
    "* Locally Estimated Scatterplot Smoothing (LOESS)"
   ]
  },
  {
   "cell_type": "markdown",
   "metadata": {},
   "source": [
    "### Instance-based Algorithms（基于核的算法）\n",
    "\n",
    "Instance-based learning model is a decision problem with instances or examples of training data that are deemed important or required to the model.\n",
    "\n",
    "Such methods typically build up a database of example data and compare new data to the database using a similarity measure in order to find the best match and make a prediction. For this reason, instance-based methods are also called **winner-take-all methods** and **memory-based learning**. Focus is put on the representation of the stored instances and similarity measures used between instances.\n",
    "\n",
    "<img src=\"01_images/1_Instance_Base.PNG\" width=135px align='right'/>\n",
    "\n",
    "The most popular instance-based algorithms are:\n",
    "\n",
    "* **K-Nearest Neighbor (KNN)**\n",
    "* Learning Vector Quantization (LVQ)\n",
    "* Self-Organizing Map (SOM)\n",
    "* Locally Weighted Learning (LWL)\n",
    "* **Support Vector Machines (SVM)**"
   ]
  },
  {
   "cell_type": "markdown",
   "metadata": {},
   "source": [
    "### Decision Tree Algorithms（决策树算法）\n",
    "\n",
    "Decision tree methods construct a model of decisions made based on actual values of attributes in the data. Decisions fork in tree structures until a prediction decision is made for a given record. Decision trees are trained on data for classification and regression problems. Decision trees are often fast and accurate and a big favorite in machine learning.\n",
    "\n",
    "<img src=\"01_images/1_Decision_Tree.PNG\" width=135px align='right'/>\n",
    "\n",
    "The most popular regularization algorithms are:\n",
    "\n",
    "* Classification and Regression Tree (CART)\n",
    "* Iterative Dichotomiser 3 (ID3)\n",
    "* C4.5 and C5.0 (different versions of a powerful approach)\n",
    "* Chi-squared Automatic Interaction Detection (CHAID)\n",
    "* Decision Stump\n",
    "* M5\n",
    "* Conditional Decision Trees"
   ]
  },
  {
   "cell_type": "markdown",
   "metadata": {},
   "source": [
    "### Regularization Algorithms（正则化算法）\n",
    "\n",
    "An extension made to another method (typically regression methods) that penalizes models based on their complexity, favoring simpler models that are also better at generalizing. I have listed regularization algorithms separately here because they are popular, powerful and generally simple modifications made to other methods. \n",
    "\n",
    "<img src=\"01_images/1_Regularzation.PNG\" width=135px align='right'/>\n",
    "\n",
    "The most popular regularization algorithms are:\n",
    "\n",
    "* Ridge Regression\n",
    "* Least Absolute Shrinkage and Selection Operator (LASSO)\n",
    "* Elastic Net\n",
    "* Least-Angle Regression (LARS)"
   ]
  },
  {
   "cell_type": "markdown",
   "metadata": {},
   "source": [
    "### Bayesian Algorithms（贝叶斯算法）\n",
    "\n",
    "Bayesian methods are those that explicitly apply Bayes’ Theorem for problems such as classification and regression.\n",
    "\n",
    "\n",
    "<img src=\"01_images/1_Bayesian.PNG\" width=135px align='right'/>\n",
    "\n",
    "The most popular Bayesian algorithms are:\n",
    "\n",
    "* **Naive Bayes**\n",
    "* **Gaussian Naive Bayes**\n",
    "* Multinomial Naive Bayes\n",
    "* Averaged One-Dependence Estimators (AODE)\n",
    "* Bayesian Belief Network (BBN)\n",
    "* Bayesian Network (BN)"
   ]
  },
  {
   "cell_type": "markdown",
   "metadata": {},
   "source": [
    "### Clustering Algorithms（聚类算法）\n",
    "\n",
    "Clustering, like regression, describes the class of problem and the class of methods. Clustering methods are typically organized by the modeling approaches such as centroid-based and hierarchal. All methods are concerned with using the inherent structures in the data to best organize the data into groups of maximum commonality.\n",
    "\n",
    "<img src=\"01_images/1_Clustering.PNG\" width=135px align='right'/>\n",
    "\n",
    "The most popular clustering algorithms are:\n",
    "\n",
    "* **K-Means**\n",
    "* K-Medians\n",
    "* Expectation Maximisation (EM)\n",
    "* **Hierarchical Clustering**"
   ]
  },
  {
   "cell_type": "markdown",
   "metadata": {},
   "source": [
    "### Association Rule Learning Algorithms（关联规则学习算法）\n",
    "\n",
    "Association rule learning methods extract rules that best explain observed relationships between variables in data. These rules can discover important and commercially useful associations in large multidimensional datasets that can be exploited by an organization.\n",
    "\n",
    "<img src=\"01_images/1_Association_Rule.PNG\" width=135px align='right'/>\n",
    "\n",
    "The most popular association rule learning algorithms are:\n",
    "\n",
    "* Apriori algorithm\n",
    "* Eclat algorithm"
   ]
  },
  {
   "cell_type": "markdown",
   "metadata": {},
   "source": [
    "### Dimensionality Reduction Algorithms（降维算法）\n",
    "\n",
    "Like clustering methods, dimensionality reduction seek and exploit the inherent structure in the data, but in this case in an unsupervised manner or order to summarize or describe data using less information. This can be useful to visualize dimensional data or to simplify data which can then be used in a supervised learning method. Many of these methods can be adapted for use in classification and regression.\n",
    "\n",
    "<img src=\"01_images/1_Dimensionality_Reduction.PNG\" width=135px align='right'/>\n",
    "\n",
    "The most popular dimensionality reduction algorithms are:\n",
    "\n",
    "* **Principal Component Analysis (PCA)**\n",
    "* Principal Component Regression (PCR)\n",
    "* Partial Least Squares Regression (PLSR)\n",
    "* Sammon Mapping\n",
    "* Multidimensional Scaling (MDS)\n",
    "* Projection Pursuit\n",
    "* **Linear Discriminant Analysis (LDA)**\n",
    "* Mixture Discriminant Analysis (MDA)\n",
    "* **Quadratic Discriminant Analysis (QDA)**\n",
    "* **Flexible Discriminant Analysis (FDA)**"
   ]
  },
  {
   "cell_type": "markdown",
   "metadata": {},
   "source": [
    "### Artificial Neural Network Algorithms（人工神经网络算法）\n",
    "\n",
    "Artificial Neural Networks are models that are inspired by the structure and/or function of biological neural networks. They are a class of pattern matching that are commonly used for regression and classification problems but are really an enormous subfield comprised of hundreds of algorithms and variations for all manner of problem types.\n",
    "\n",
    "Note that Deep Learning have been separated out from neural networks because of the massive growth and popularity in the field. Here we are concerned with the more classical methods.\n",
    "\n",
    "<img src=\"01_images/1_Artificial_Neural_Network.PNG\" width=135px align='right'/>\n",
    "\n",
    "The most popular artificial neural network algorithms are:\n",
    "\n",
    "* **Perceptron**\n",
    "* Multilayer Perceptrons (MLP)\n",
    "* **Back-Propagation**\n",
    "* Stochastic Gradient Descent\n",
    "* Hopfield Network\n",
    "* **Radial Basis Function Network (RBFN)**"
   ]
  },
  {
   "cell_type": "markdown",
   "metadata": {},
   "source": [
    "### Deep Learning Algorithms（深度学习算法）\n",
    "\n",
    "Deep Learning methods are a modern update to Artificial Neural Networks that exploit abundant cheap computation. They are concerned with building much larger and more complex neural networks and, as commented on above, many methods are concerned with very large datasets of labelled analog data, such as image, text. audio, and video.\n",
    "\n",
    "<img src=\"01_images/1_Deep_Learning.PNG\" width=135px align='right'/>\n",
    "\n",
    "The most popular deep learning algorithms are:\n",
    "\n",
    "* **Convolutional Neural Network (CNN)**\n",
    "* **Recurrent Neural Networks (RNNs)**\n",
    "* Long Short-Term Memory Networks (LSTMs)\n",
    "* Stacked Auto-Encoders\n",
    "* Deep Boltzmann Machine (DBM)\n",
    "* Deep Belief Networks (DBN)"
   ]
  },
  {
   "cell_type": "markdown",
   "metadata": {},
   "source": [
    "### Ensemble Algorithms（集成算法）\n",
    "\n",
    "Ensemble methods are models composed of multiple weaker models that are independently trained and whose predictions are combined in some way to make the overall prediction. Much effort is put into what types of weak learners to combine and the ways in which to combine them. This is a very powerful class of techniques and as such is very popular.\n",
    "\n",
    "<img src=\"01_images/1_Ensemble.PNG\" width=135px align='right'/>\n",
    "\n",
    "The most popular ensemble algorithms are:\n",
    "\n",
    "* **Boosting**\n",
    "* Bootstrapped Aggregation (Bagging)\n",
    "* **AdaBoost**\n",
    "* Weighted Average (Blending)\n",
    "* Stacked Generalization (Stacking)\n",
    "* Gradient Boosting Machines (GBM)\n",
    "* Gradient Boosted Regression Trees (GBRT)\n",
    "* **Random Forest**"
   ]
  },
  {
   "cell_type": "markdown",
   "metadata": {},
   "source": [
    "### Other Machine Learning Algorithms（其他机器学习算法）\n",
    "\n",
    "Algorithms from specialty subfields of machine learning, such as:\n",
    "\n",
    "* Computational intelligence (evolutionary algorithms, etc.)\n",
    "* Computer Vision (CV)\n",
    "* Natural Language Processing (NLP)\n",
    "* Recommender Systems\n",
    "* Reinforcement Learning\n",
    "* Graphical Models\n",
    "* And more…"
   ]
  },
  {
   "cell_type": "markdown",
   "metadata": {},
   "source": [
    "## *Performance Measures*\n",
    "\n",
    "Evaluating the machine learning algorithm is an essential part of any project. Most of the times we use classification accuracy to measure the performance of our model, however it is not enough to truly judge our model. The metrics that you choose to evaluate your machine learning model is very important. Choice of metrics influences how the performance of machine learning algorithms is measured and compared. The most popular evaluation performance measures are:\n",
    "\n",
    "* Classification Accuracy\n",
    "* Logarithmic Loss\n",
    "* Confusion Matrix \n",
    "* Area under Curve\n",
    "* F1 Score\n",
    "* Mean Absolute Error\n",
    "* Mean Squared Error"
   ]
  },
  {
   "cell_type": "markdown",
   "metadata": {},
   "source": [
    "## *Optimization Algorithms*\n",
    "\n",
    "Optimization is the problem of finding a set of inputs to an objective function that results in a maximum or minimum function evaluation. The most common type of optimization problems encountered in machine learning are continuous function optimization, where the input arguments to the function are real-valued numeric values, e.g. floating point values. The output from the function is also a real-valued evaluation of the input values. The most popular optimization algorithms are:\n",
    "\n",
    "* Greedy Search\n",
    "* Beam Search\n",
    "* Gradient decent\n",
    "* Conjugate gradient \n",
    "* Momentum\n",
    "* Adagrad\n",
    "* RMSProp\n",
    "* Adam"
   ]
  },
  {
   "cell_type": "markdown",
   "metadata": {},
   "source": [
    "## References"
   ]
  },
  {
   "cell_type": "markdown",
   "metadata": {},
   "source": [
    "[1] $\\ \\ \\ \\$ Brownlee, J. (2020, August 14). A Tour of Machine Learning Algorithms. Machine Learning Mastery. https://machinelearningmastery.com/a-tour-of-machine-learning-algorithms/. "
   ]
  },
  {
   "cell_type": "markdown",
   "metadata": {},
   "source": [
    "[2] $\\ \\ \\ \\$ Contact Centric. (2021, March 26). Machine Learning: A Quick Introduction and Five Core Steps. Centric Consulting. https://centricconsulting.com/blog/machine-learning-a-quick-introduction-and-five-core-steps/. "
   ]
  },
  {
   "cell_type": "markdown",
   "metadata": {},
   "source": [
    "[3] $\\ \\ \\ \\$ Brownlee, J. (2020, August 20). How to Choose a Feature Selection Method For Machine Learning. Machine Learning Mastery. https://machinelearningmastery.com/feature-selection-with-real-and-categorical-data/."
   ]
  }
 ],
 "metadata": {
  "kernelspec": {
   "display_name": "Python 3",
   "language": "python",
   "name": "python3"
  },
  "language_info": {
   "codemirror_mode": {
    "name": "ipython",
    "version": 3
   },
   "file_extension": ".py",
   "mimetype": "text/x-python",
   "name": "python",
   "nbconvert_exporter": "python",
   "pygments_lexer": "ipython3",
   "version": "3.8.2 (default, Dec 21 2020, 15:06:04) \n[Clang 12.0.0 (clang-1200.0.32.29)]"
  },
  "vscode": {
   "interpreter": {
    "hash": "31f2aee4e71d21fbe5cf8b01ff0e069b9275f58929596ceb00d14d90e3e16cd6"
   }
  }
 },
 "nbformat": 4,
 "nbformat_minor": 2
}
