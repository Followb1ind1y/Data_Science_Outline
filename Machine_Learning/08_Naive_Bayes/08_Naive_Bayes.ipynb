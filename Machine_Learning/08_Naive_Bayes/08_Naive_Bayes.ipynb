{
 "cells": [
  {
   "cell_type": "markdown",
   "id": "a8adb37b",
   "metadata": {},
   "source": [
    "# <div align=\"right\">Machine Learning\n",
    "### <div align=\"right\"> *Followblindly*"
   ]
  },
  {
   "cell_type": "markdown",
   "id": "c20f8bc6",
   "metadata": {},
   "source": [
    "# 08 - Naive Bayes"
   ]
  },
  {
   "cell_type": "markdown",
   "id": "b0277066",
   "metadata": {},
   "source": [
    "**Naive Bayes classifiers** are linear classifiers that are known for being simple yet very efficient. The probabilistic model of naive Bayes classifiers is based on **Bayes' theorem**, and the adjective naive comes from the assumption that the features in a dataset are mutually independent. In practice, the independence assumption is often violated, but naive Bayes classifiers still tend to perform very well under this unrealistic assumption. Especially for small sample sizes, naive Bayes classifiers can outperform the more powerful alternatives.\n",
    "\n",
    "Being relatively robust, easy to implement, fast, and accurate, naive Bayes classifiers are used in many different fields. Some examples include the diagnosis of diseases and making decisions about treatment processes, the classification of RNA sequences in taxonomic studies, and spam filtering in e-mail clients.\n",
    "\n",
    "However, **strong violations of the independence assumptions** and **non-linear classification problems** can lead to very poor performances of naive Bayes classifiers. We have to keep in mind that the type of data and the type problem to be solved dictate which classification model we want to choose. In practice, it is always recommended to compare different classification models on the particular dataset and consider the prediction performances as well as computational efficiency."
   ]
  },
  {
   "cell_type": "markdown",
   "id": "9e1b9669",
   "metadata": {},
   "source": [
    "From Bayes Rule, we have:\n",
    "\n",
    "$$\n",
    "P(Y=k|X=x) = \\frac{p(X=x|Y=k)P(Y=k)}{P(X=x)} = \\frac{\\pi_{k}f_{k}(x)}{\\sum_{l=1}^{K}\\pi_{l}f_{l}(x)}\n",
    "$$\n",
    "\n",
    "* Where density is $f_{k}(X) = P(X=x|Y=k)$ and prior probability of class $k$ is $\\pi_{k} = P(Y=k)$."
   ]
  },
  {
   "cell_type": "markdown",
   "id": "e1066812",
   "metadata": {},
   "source": [
    "Conditional on class $k$, assume the variables $x_{j}$ are independent:\n",
    "\n",
    "$$\n",
    "f_{k}(x)= \\prod_{j=1}^{p}f_{kj}(x_{j})\n",
    "$$\n",
    "\n",
    "Where p is the number of $x$‐variables.\n",
    "\n",
    "* Independence assumption: Conditional on the outcome, there is no multicollinearity\n",
    "* This assumption is almost always wrong; but extremely convenient.\n",
    "* This method is also called \"Idiot's Bayes\""
   ]
  },
  {
   "cell_type": "markdown",
   "id": "0cd6e0d1",
   "metadata": {},
   "source": [
    "Plugging the density into Bayes rule, we obtain:\n",
    "\n",
    "$$\n",
    "P(Y=k|X=x) = \\frac{\\pi_{k}f_{k}(x)}{\\sum_{l=1}^{K}\\pi_{l}f_{l}(x)}=\\frac{\\pi_{k}\\prod_{j=1}^{p}f_{kj}(x_{j})}{\\sum_{l=1}^{K}\\pi_{l}\\prod_{j=1}^{p}f_{lj}(x_{j})}\n",
    "$$"
   ]
  },
  {
   "cell_type": "markdown",
   "id": "52fed6b5",
   "metadata": {},
   "source": [
    "The denominator does not depend on class $k$. It is a constant. To find the class that maximizes the posterior probability, we can ignore the denominator:\n",
    "\n",
    "$$\n",
    "P(Y=k|X=x) \\propto \\pi_{k}\\prod_{j=1}^{p}f_{kj}(x_{j})\n",
    "$$\n",
    "\n",
    "* where $j=1,...,p$ indexes x‐variables\n",
    "\n",
    "Predict the class $k$ that maximizes the posterior probability(Decision rule):\n",
    "\n",
    "$$\n",
    "h(x) = argmax_{k}(P(Y=k)\\prod_{j=1}^{p}P(X_{j}=x_{j}|Y=k) = argmax_{k}(\\pi_{k}\\prod_{j=1}^{p}f_{kj}(x_{j}))\n",
    "$$\n",
    "\n",
    "When there are many $x$‐variables, multiplying many small probabilities may result in an \"underflow\". Numerically, all posterior probabilities are 0. It is unclear which 0 is \"largest\". We can take the log to avoid this problem. Because it is a monotone function, taking the log does not change which class $k$ gives the maximum posterior probability:\n",
    "\n",
    "$$\n",
    "h(x) = argmax_{k}(log(\\pi_{k}) + \\sum_{j=1}^{p}log[f_{kj}(x_{j})])\n",
    "$$"
   ]
  },
  {
   "cell_type": "markdown",
   "id": "58d1cbcc",
   "metadata": {},
   "source": [
    "Typically, estimate the prior probability as the fraction of time the class occurs in the training data:\n",
    "\n",
    "$$\n",
    "\\pi_{k} = P(Y=k) = \\frac{n_{k}}{n}\n",
    "$$\n",
    "\n",
    "Estimate the probability as:\n",
    "\n",
    "$$\n",
    "f_{kj}(x_{j}) = P(X_{j}=x_{j}|Y=k) = \\frac{n_{kj}}{n_{k}}\n",
    "$$\n",
    "\n",
    "   * where $n_{k}$ is the number of obs in class $k$\n",
    "   * Where $n_{kj}$ is the number of obs in class $k$ taking the value $x_{j}$"
   ]
  },
  {
   "cell_type": "markdown",
   "id": "74e1e5fe",
   "metadata": {},
   "source": [
    "### LaPlace Smoothing\n",
    "For a given $x$‐variable, **LaPlace smoothing** adds one observation to each $x$‐category\n",
    "\n",
    "$$\n",
    "f_{kj}(x_{j}) = P(X_{j}=x_{j}|Y=k) = \\frac{n_{kj}+1}{n_{k}+d_{j}}\n",
    "$$\n",
    "\n",
    "* where $d_{j}$ is the number of categories of the corresponding $x$‐variable"
   ]
  },
  {
   "cell_type": "markdown",
   "id": "5d186116",
   "metadata": {},
   "source": [
    " ### Smoothing in general\n",
    " \n",
    "* The probability estimates “shrink” away from the extremes\n",
    "* Instead of adding just one observation, we can add an arbitrary number of observations, $L$, that controls the amount of shrinking:\n",
    "\n",
    "$$\n",
    "f_{kj}(x_{j}) = P(X_{j}=x_{j}|Y=k) = \\frac{n_{kj}+L}{n_{k}+L*d_{j}}\n",
    "$$\n",
    "\n",
    "* In the limit, for very large L,\n",
    "\n",
    "$$\n",
    "P(X_{j}=x_{j}|Y=k) \\to \\frac{L}{L*d_{j}} = \\frac{1}{d_{j}}\n",
    "$$"
   ]
  },
  {
   "cell_type": "markdown",
   "id": "e98ee34d",
   "metadata": {},
   "source": [
    "<img src=\"08_images/8_LaPlace.PNG\" width=800px/>"
   ]
  },
  {
   "cell_type": "markdown",
   "id": "7d28c8f1",
   "metadata": {},
   "source": [
    "## Gaussian Naive Bayes"
   ]
  },
  {
   "cell_type": "markdown",
   "id": "d4a3b52c",
   "metadata": {},
   "source": [
    "Gaussian Naive Bayes classifier assumes that the likelihoods are Gaussian:\n",
    "\n",
    "$$\n",
    "f_{kj}(x_{j}) = P(X_{j}=x_{j}|Y=k) =\\frac{1}{\\sqrt{2\\pi\\sigma_{jk}^{2}}}exp[\\frac{-(x_{j}-\\mu_{jk})^{2}}{2\\sigma_{jk}}]\n",
    "$$\n",
    "\n",
    "* Gaussian Naive Bayes is not as common as the case where all x‐ variables are categorical.\n",
    "* Maximum likelihood estimate of parameters are:\n",
    "\n",
    "$$\n",
    "\\begin{align*}\n",
    "\\mu_{jk} &= \\frac{\\sum_{n=1}^{N}I[Y^{(n)}=k]\\cdot x_{j}^{(n)}}{\\sum_{n=1}^{N}I[Y^{(n)}=k]} \\\\\n",
    "\\sigma_{jk} &= \\frac{\\sum_{n=1}^{N}I[Y^{(n)}=k]\\cdot (x_{j}^{(n)}-\\mu_{jk})^{2}}{\\sum_{n=1}^{N}I[Y^{(n)}=k]} \\\\\n",
    "\\end{align*}\n",
    "$$"
   ]
  },
  {
   "cell_type": "markdown",
   "id": "2f031e4d",
   "metadata": {},
   "source": [
    "Let's consider a simple example using the Iris data set:\n",
    "\n",
    "* There are 3 class labels: Setosa, Versicolor, Virginica which we label as $y\\in\\{0,1,2\\}$\n",
    "* There are two explanatory variables (features): $X_{1}$: sepal length and $X_{2}$: sepal width.\n",
    "\n",
    "For each feature, we calculate the estimated class mean, class variance and prior probability\n",
    "* **Mean:** $\\mu_{x_{1}|Y=0}$, $\\mu_{x_{1}|Y=1}$, $\\mu_{x_{1}|Y=2}$ and $\\mu_{x_{2}|Y=0}$, $\\mu_{x_{2}|Y=1}$, $\\mu_{x_{2}|Y=2}$\n",
    "* **Variance:** $\\sigma_{x_{1}|Y=0}^{2}$, $\\sigma_{x_{1}|Y=1}^{2}$, $\\sigma_{x_{1}|Y=2}^{2}$ and $\\sigma_{x_{2}|Y=0}^{2}$, $\\sigma_{x_{2}|Y=1}^{2}$, $\\sigma_{x_{2}|Y=2}^{2}$\n",
    "* **Prior:** $P(Y=0)$, $P(Y=1)$, $P(Y=2)$"
   ]
  },
  {
   "cell_type": "markdown",
   "id": "ee7afee4",
   "metadata": {},
   "source": [
    "For any point $(x1,x2)$ we compute the Gaussian Naive Bayes objective function (i.e. the one we are trying to maximize) for each class :\n",
    "\n",
    "$$\n",
    "\\begin{align*}\n",
    "h(x) &= argmax_{k}[P(Y=k)\\prod_{j=1}^{2}P(X_{j}=x_{j}|Y=k)] \\\\\n",
    "&= argmax_{k}[P(X_{1}=x_{1}|Y=k)P(k)\\cdot P(X_{2}=x_{2}|Y=k)P(k)] \\\\\n",
    "&= argmax_{k}[\\phi(x_{1}|\\mu_{x_{1}|k},\\sigma_{x_{1}|k}^{2})P(k)\\cdot \\phi(x_{2}|\\mu_{x_{2}|k},\\sigma_{x_{2}|k}^{2})P(k)] \\\\\n",
    "\\end{align*}\n",
    "$$\n",
    "\n",
    "* where $\\phi(x_{1}|\\mu_{x_{1}|k},\\sigma_{x_{1}|k}^{2})$ is the PDF of a Gaussian univariate distribution with parameters $\\mu_{x_{1}|k}$, $\\sigma_{x_{1}|k}^{2}$. Repeat this calculation for each class, and then predict the class which has the highest value."
   ]
  },
  {
   "cell_type": "markdown",
   "id": "e1cbd572",
   "metadata": {},
   "source": [
    "## Implementing Naive Bayes from sklearn"
   ]
  },
  {
   "cell_type": "code",
   "execution_count": 1,
   "id": "d5760b30",
   "metadata": {},
   "outputs": [],
   "source": [
    "import numpy as np\n",
    "import pandas as pd\n",
    "from matplotlib import pyplot as plt\n",
    "import seaborn as sns"
   ]
  },
  {
   "cell_type": "code",
   "execution_count": 2,
   "id": "782750d6",
   "metadata": {},
   "outputs": [
    {
     "data": {
      "text/html": [
       "<div>\n",
       "<style scoped>\n",
       "    .dataframe tbody tr th:only-of-type {\n",
       "        vertical-align: middle;\n",
       "    }\n",
       "\n",
       "    .dataframe tbody tr th {\n",
       "        vertical-align: top;\n",
       "    }\n",
       "\n",
       "    .dataframe thead th {\n",
       "        text-align: right;\n",
       "    }\n",
       "</style>\n",
       "<table border=\"1\" class=\"dataframe\">\n",
       "  <thead>\n",
       "    <tr style=\"text-align: right;\">\n",
       "      <th></th>\n",
       "      <th>Id</th>\n",
       "      <th>SepalLengthCm</th>\n",
       "      <th>SepalWidthCm</th>\n",
       "      <th>PetalLengthCm</th>\n",
       "      <th>PetalWidthCm</th>\n",
       "      <th>Species</th>\n",
       "    </tr>\n",
       "  </thead>\n",
       "  <tbody>\n",
       "    <tr>\n",
       "      <th>0</th>\n",
       "      <td>1</td>\n",
       "      <td>5.1</td>\n",
       "      <td>3.5</td>\n",
       "      <td>1.4</td>\n",
       "      <td>0.2</td>\n",
       "      <td>Iris-setosa</td>\n",
       "    </tr>\n",
       "    <tr>\n",
       "      <th>1</th>\n",
       "      <td>2</td>\n",
       "      <td>4.9</td>\n",
       "      <td>3.0</td>\n",
       "      <td>1.4</td>\n",
       "      <td>0.2</td>\n",
       "      <td>Iris-setosa</td>\n",
       "    </tr>\n",
       "    <tr>\n",
       "      <th>2</th>\n",
       "      <td>3</td>\n",
       "      <td>4.7</td>\n",
       "      <td>3.2</td>\n",
       "      <td>1.3</td>\n",
       "      <td>0.2</td>\n",
       "      <td>Iris-setosa</td>\n",
       "    </tr>\n",
       "    <tr>\n",
       "      <th>3</th>\n",
       "      <td>4</td>\n",
       "      <td>4.6</td>\n",
       "      <td>3.1</td>\n",
       "      <td>1.5</td>\n",
       "      <td>0.2</td>\n",
       "      <td>Iris-setosa</td>\n",
       "    </tr>\n",
       "    <tr>\n",
       "      <th>4</th>\n",
       "      <td>5</td>\n",
       "      <td>5.0</td>\n",
       "      <td>3.6</td>\n",
       "      <td>1.4</td>\n",
       "      <td>0.2</td>\n",
       "      <td>Iris-setosa</td>\n",
       "    </tr>\n",
       "  </tbody>\n",
       "</table>\n",
       "</div>"
      ],
      "text/plain": [
       "   Id  SepalLengthCm  SepalWidthCm  PetalLengthCm  PetalWidthCm      Species\n",
       "0   1            5.1           3.5            1.4           0.2  Iris-setosa\n",
       "1   2            4.9           3.0            1.4           0.2  Iris-setosa\n",
       "2   3            4.7           3.2            1.3           0.2  Iris-setosa\n",
       "3   4            4.6           3.1            1.5           0.2  Iris-setosa\n",
       "4   5            5.0           3.6            1.4           0.2  Iris-setosa"
      ]
     },
     "execution_count": 2,
     "metadata": {},
     "output_type": "execute_result"
    }
   ],
   "source": [
    "iris = pd.read_csv('iris.csv')\n",
    "iris.head()"
   ]
  },
  {
   "cell_type": "code",
   "execution_count": 3,
   "id": "2fda3c50",
   "metadata": {},
   "outputs": [],
   "source": [
    "iris['SepalLengthCm'] = pd.to_numeric(iris['SepalLengthCm'])\n",
    "iris['SepalWidthCm'] = pd.to_numeric(iris['SepalWidthCm'])\n",
    "iris['PetalLengthCm'] = pd.to_numeric(iris['PetalLengthCm'])\n",
    "iris['PetalWidthCm'] = pd.to_numeric(iris['PetalWidthCm'])"
   ]
  },
  {
   "cell_type": "code",
   "execution_count": 4,
   "id": "6b01ecff",
   "metadata": {},
   "outputs": [
    {
     "data": {
      "text/plain": [
       "<AxesSubplot:xlabel='SepalLengthCm', ylabel='SepalWidthCm'>"
      ]
     },
     "execution_count": 4,
     "metadata": {},
     "output_type": "execute_result"
    },
    {
     "data": {
      "image/png": "[encoded data removed]",
      "text/plain": [
       "<Figure size 432x288 with 1 Axes>"
      ]
     },
     "metadata": {
      "needs_background": "light"
     },
     "output_type": "display_data"
    }
   ],
   "source": [
    "sns.scatterplot(x='SepalLengthCm', y='SepalWidthCm', hue='Species', data=iris)"
   ]
  },
  {
   "cell_type": "code",
   "execution_count": 5,
   "id": "7eee84d3",
   "metadata": {},
   "outputs": [],
   "source": [
    "df1 = iris[['SepalLengthCm', 'SepalWidthCm','Species']]\n",
    "X_data = df1.iloc[:,0:2]\n",
    "y_labels = df1.iloc[:,2].replace({'Iris-setosa':0,'Iris-versicolor':1,'Iris-virginica':2}).copy()"
   ]
  },
  {
   "cell_type": "code",
   "execution_count": 7,
   "id": "ccab7117",
   "metadata": {},
   "outputs": [
    {
     "data": {
      "text/plain": [
       "GaussianNB()"
      ]
     },
     "execution_count": 7,
     "metadata": {},
     "output_type": "execute_result"
    }
   ],
   "source": [
    "from sklearn.naive_bayes import GaussianNB\n",
    "\n",
    "#Fit model\n",
    "model_sk = GaussianNB(priors = None)\n",
    "model_sk.fit(X_data,y_labels)"
   ]
  },
  {
   "cell_type": "code",
   "execution_count": 11,
   "id": "99e83d37",
   "metadata": {},
   "outputs": [
    {
     "name": "stderr",
     "output_type": "stream",
     "text": [
      "/Users/followblindly/anaconda3/lib/python3.7/site-packages/seaborn/axisgrid.py:316: UserWarning: The `size` parameter has been renamed to `height`; please update your code.\n",
      "  warnings.warn(msg, UserWarning)\n"
     ]
    },
    {
     "data": {
      "image/png": "[encoded data removed]",
      "text/plain": [
       "<Figure size 535.25x432 with 1 Axes>"
      ]
     },
     "metadata": {
      "needs_background": "light"
     },
     "output_type": "display_data"
    }
   ],
   "source": [
    "# Our 2-dimensional classifier will be over variables X and Y\n",
    "N = 100\n",
    "X = np.linspace(4, 8, N)\n",
    "Y = np.linspace(1.5, 5, N)\n",
    "X, Y = np.meshgrid(X, Y)\n",
    "\n",
    "#fig = plt.figure(figsize = (10,10))\n",
    "#ax = fig.gca()\n",
    "color_list = ['Blues','Greens','Reds']\n",
    "\n",
    "g = sns.FacetGrid(iris, hue=\"Species\", size=6, palette = 'colorblind') .map(plt.scatter, 'SepalLengthCm', 'SepalWidthCm',)  .add_legend()\n",
    "my_ax = g.ax\n",
    "\n",
    "\n",
    "#Computing the predicted class function for each value on the grid\n",
    "zz = np.array(  [model_sk.predict( [[xx,yy]])[0] for xx, yy in zip(np.ravel(X), np.ravel(Y)) ] )\n",
    "\n",
    "\n",
    "#Reshaping the predicted class into the meshgrid shape\n",
    "Z = zz.reshape(X.shape)\n",
    "\n",
    "\n",
    "#Plot the filled and boundary contours\n",
    "my_ax.contourf( X, Y, Z, 2, alpha = .1, colors = ('blue','green','red'))\n",
    "my_ax.contour( X, Y, Z, 2, alpha = 1, colors = ('blue','green','red'))\n",
    "\n",
    "# Addd axis and title\n",
    "my_ax.set_xlabel('Sepal length')\n",
    "my_ax.set_ylabel('Sepal width')\n",
    "my_ax.set_title('Gaussian Naive Bayes decision boundaries')\n",
    "\n",
    "plt.show()"
   ]
  },
  {
   "cell_type": "markdown",
   "id": "02bc9eb2",
   "metadata": {},
   "source": [
    "## Reference"
   ]
  },
  {
   "cell_type": "markdown",
   "id": "4e3ea305",
   "metadata": {},
   "source": [
    "[1]$\\ \\ \\ \\$Sicotte, X. B. (2018, June 22). Xavier Bourret Sicotte. Gaussian Naive Bayes Classifier: Iris data set - Data Blog. https://xavierbourretsicotte.github.io/Naive_Bayes_Classifier.html. "
   ]
  }
 ],
 "metadata": {
  "kernelspec": {
   "display_name": "Python 3",
   "language": "python",
   "name": "python3"
  },
  "language_info": {
   "codemirror_mode": {
    "name": "ipython",
    "version": 3
   },
   "file_extension": ".py",
   "mimetype": "text/x-python",
   "name": "python",
   "nbconvert_exporter": "python",
   "pygments_lexer": "ipython3",
   "version": "3.7.10"
  }
 },
 "nbformat": 4,
 "nbformat_minor": 5
}
