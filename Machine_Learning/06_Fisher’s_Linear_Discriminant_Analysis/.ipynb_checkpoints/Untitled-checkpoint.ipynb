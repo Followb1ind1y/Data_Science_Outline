{
 "cells": [
  {
   "cell_type": "markdown",
   "id": "13116cbb",
   "metadata": {},
   "source": [
    "# <div align=\"right\">Machine Learning\n",
    "### <div align=\"right\"> *Followblindly*"
   ]
  },
  {
   "cell_type": "markdown",
   "id": "f0d716ce",
   "metadata": {},
   "source": [
    "# 6 - Fisher’s Linear Discriminant Analysis"
   ]
  },
  {
   "cell_type": "code",
   "execution_count": null,
   "id": "a71581de",
   "metadata": {},
   "outputs": [],
   "source": []
  }
 ],
 "metadata": {
  "kernelspec": {
   "display_name": "Python 3",
   "language": "python",
   "name": "python3"
  },
  "language_info": {
   "codemirror_mode": {
    "name": "ipython",
    "version": 3
   },
   "file_extension": ".py",
   "mimetype": "text/x-python",
   "name": "python",
   "nbconvert_exporter": "python",
   "pygments_lexer": "ipython3",
   "version": "3.7.10"
  }
 },
 "nbformat": 4,
 "nbformat_minor": 5
}
