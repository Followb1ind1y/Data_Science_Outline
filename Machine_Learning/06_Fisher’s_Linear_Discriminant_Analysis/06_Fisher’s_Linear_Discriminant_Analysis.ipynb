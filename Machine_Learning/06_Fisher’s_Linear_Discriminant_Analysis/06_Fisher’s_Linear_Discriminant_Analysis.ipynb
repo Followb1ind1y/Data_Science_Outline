{
 "cells": [
  {
   "attachments": {},
   "cell_type": "markdown",
   "id": "f0d716ce",
   "metadata": {},
   "source": [
    "# **06 - Fisher’s Linear Discriminant Analysis**"
   ]
  },
  {
   "cell_type": "markdown",
   "id": "00caf2cc",
   "metadata": {},
   "source": [
    "**Fisher's Linear Discriminant Analysis (FDA)** is most commonly used as dimensionality reduction technique in the pre-processing step for pattern-classification and machine learning applications. The goal is to project a dataset onto a lower-dimensional space with good class-separability in order avoid overfitting (\"curse of dimensionality\") and also reduce computational costs. The general FDA approach is very similar to a Principal Component Analysis, but in addition to finding the component axes that maximize the variance of our data (PCA), we are additionally interested in the axes that maximize the separation between multiple classes."
   ]
  },
  {
   "cell_type": "markdown",
   "id": "461afca0",
   "metadata": {},
   "source": [
    "Assume we have only 2 classes. The idea behind Fisher’s Linear Discriminant Analysis is to reduce the dimensionality of the data to one dimension. That is, to take d-dimensional $x\\in \\mathbf{R}^{d}$ and map it to one dimension by finding $w^{T}x$ where:\n",
    "\n",
    "$$z = w^{T}x= \n",
    "\\begin{bmatrix}\n",
    "w_{1} ... w_{d}   \\\\\n",
    "\\end{bmatrix}\n",
    "\\begin{bmatrix}\n",
    "x_{1}    \\\\\n",
    "...      \\\\\n",
    "x_{d}    \\\\\n",
    "\\end{bmatrix} = \\sum_{i=1}^{d}w_{i}x_{i}\n",
    "$$\n",
    "\n",
    "The one-dimensional $z$ is then used for classification."
   ]
  },
  {
   "cell_type": "markdown",
   "id": "7eb98054",
   "metadata": {},
   "source": [
    "**Goal:** To find a direction such that projected data $w^{T}x$ are well separated.\n",
    "\n",
    "Consider the two-class problem:\n",
    "\n",
    "$$\n",
    "\\mu_{0}=\\frac{1}{n_{0}}\\sum_{i:y_{i}=0}x_{i} \\ \\ \\ \\ \\ \\ \\ \\ \\ \\ \\ \\ \\mu_{1}=\\frac{1}{n_{1}}\\sum_{i:y_{i}=0}x_{i}\n",
    "$$\n",
    "\n",
    "We want to:\n",
    "\n",
    "1. **Maximize the distance between projected class means.**\n",
    "\n",
    "2. **Minimize the within class variance.**"
   ]
  },
  {
   "cell_type": "markdown",
   "id": "d1dbe383",
   "metadata": {},
   "source": [
    "The distance between projected class means is:\n",
    "\n",
    "$$\n",
    "\\begin{align*}\n",
    "(w^{T}\\mu_{0} - w^{T}\\mu_{1})^{2} &= (w^{T}\\mu_{0} - w^{T}\\mu_{1})^{T}(w^{T}\\mu_{0} - w^{T}\\mu_{1}) \\\\\n",
    "&= (\\mu_{0}-\\mu_{1})^{T}ww^{T}(\\mu_{0}-\\mu_{1}) \\\\\n",
    "&=w^{T}(\\mu_{0}-\\mu_{1})(\\mu_{0}-\\mu_{1})^{T}w \\\\\n",
    "&= w^{T}S_{B}w\n",
    "\\end{align*}\n",
    "$$\n",
    "where $S_{B}$ is the between-class variance (known)."
   ]
  },
  {
   "cell_type": "markdown",
   "id": "9339e2c7",
   "metadata": {},
   "source": [
    "Minimizing the within-class variance is equivalent to minimizing the sum of all individual within-class variances.\n",
    "Thus the within class variance is:\n",
    "\n",
    "$$\n",
    "\\begin{align*}\n",
    "w^{T}\\Sigma_{0}w+w^{T}\\Sigma_{1}w &= w^{T}(\\Sigma_{0}+\\Sigma_{1})w \\\\\n",
    "&= w^{T}S_{W}w\n",
    "\\end{align*}\n",
    "$$\n",
    "\n",
    "where $S_{W}$ is the within-class covariance (known)."
   ]
  },
  {
   "cell_type": "markdown",
   "id": "a444f71f",
   "metadata": {},
   "source": [
    "To maximize the distance between projected class means and minimize the within-class variance, we can maximize the ratio:\n",
    "\n",
    "$$\n",
    "max_{w} \\ \\frac{w^{T}S_{B}w}{w^{T}S_{W}w}\n",
    "$$\n",
    "\n",
    "Note that the numerator is unbounded since we can make any arbitary $w^{T}$. But since we are only interested in direction, length is not important. Therefore we can fix the length of $w$ (i.e. unit length) and find the direction. This is equivalent to finding:\n",
    "\n",
    "$$\n",
    "max_{w} \\ w^{T}S_{B}w \\\\\n",
    "Subject \\ \\ to \\ \\ w^{T}S_{W}w = 1\n",
    "$$"
   ]
  },
  {
   "cell_type": "markdown",
   "id": "75b9f5b8",
   "metadata": {},
   "source": [
    "To turn this constraint optimization problem into a non-constranst optimization problem, we apply **Lagrange multipliers:**\n",
    "\n",
    "$$\n",
    "L(w,\\lambda) = w^{T}S_{B}w - \\lambda(w^{T}S_{W}w-1)\n",
    "$$\n",
    "Differentiating with respect to $w$ we get:\n",
    "$$\n",
    "\\frac{\\partial L}{\\partial w} = 2S_{B} w - \\lambda2S_{W} w = 0 \\\\\n",
    "S_{B} w = \\lambda S_{W}w\n",
    "$$"
   ]
  },
  {
   "cell_type": "markdown",
   "id": "8c7178e6",
   "metadata": {},
   "source": [
    "This is a generalized eigenvector problem that is equivalent to (if $S_{W}$ is not singular):\n",
    "\n",
    "$$\n",
    "S_{W}^{-1}S_{B}w = \\lambda w\n",
    "$$\n",
    "\n",
    "where $\\lambda$ and $w$ are the eigenvalues and eigenvectors of $S_{W}^{-1}S_{B}$respectively. $w$ is the eigenvector corresponding to the largest eigenvalue of $S_{W}^{-1}S_{B}$."
   ]
  },
  {
   "cell_type": "markdown",
   "id": "1e29701f",
   "metadata": {},
   "source": [
    "In fact, for two-classes problems, there exists a **simpler solution**. Recall that $S_{B}w = (\\mu_{0}-\\mu_{1})(\\mu_{0}-\\mu_{1})^{T}w$ where $(\\mu_{0}-\\mu_{1})^{T}w$ is a scalar. Therefore $S_{B}w\\propto(\\mu_{0}-\\mu_{1})$. That is, $S_{B}w$ is on the same direction as $(\\mu_{0}-\\mu_{1})$. Since $S_{W}^{-1}S_{B}w = \\lambda w$, we get:\n",
    "\n",
    "$$\n",
    "S_{w}^{-1}(\\mu_{0}-\\mu_{1}) \\propto w\n",
    "$$\n",
    "\n",
    "which gives us the direction."
   ]
  },
  {
   "cell_type": "markdown",
   "id": "a4d4a512",
   "metadata": {},
   "source": [
    "## Fisher’s Linear Discriminant Analysis For Multiple Classes\n",
    "\n",
    "We have defined $\\varepsilon(w)=\\frac{w^{T}S_{B}w}{w^{T}S_{W}w}$ that needs to be maximized. $w$ is the largest eigen vectors of $S_{W}^{-1}S_{B}$. For two classes, $w \\propto S_{w}^{-1}(\\mu_{0}-\\mu_{1})$. For $k$-class problem, Fisher Discriminant Analysis involves $(k - 1)$ discriminant functions. Make $W_{dx(K-1)}$ where each column describes a discriminant. So now, we have to update the two notions we have defined for a $2$-class problem, $S_{B}$ and $S_{W}$ .\n",
    "\n",
    "$$\n",
    "S_{w}=\\sum_{i=1}^{K}\\Sigma_{i}\n",
    "$$\n",
    "\n",
    "$S_{B}$ generalization to multiple classes in not obvious. We will define the total variance $S_{T}$ as the sum of the within class variance and between classes variance.\n",
    "\n",
    "$$\n",
    "S_{T} = S_{B}+S_{W}\n",
    "$$\n",
    "\n",
    "Where $S_{T}=\\frac{1}{n}\\sum_{i=1}^{n}(x_{i}-\\mu)(x_{i}-\\mu)^{T}$ and $\\mu=\\frac{1}{n}\\sum_{i=1}^{n}x_{i}$. So,\n",
    "\n",
    "$$\n",
    "S_{B} = S_{T}-S_{W}\n",
    "$$\n",
    "\n",
    "It can be shown that $W$ is the first $(k - 1)$ eigen vectors of $S_{W}^{-1}S_{B}$."
   ]
  },
  {
   "cell_type": "markdown",
   "id": "0c003ac5",
   "metadata": {},
   "source": [
    "## Implementing FDA from scratch"
   ]
  },
  {
   "cell_type": "code",
   "execution_count": 23,
   "id": "61d747ba",
   "metadata": {},
   "outputs": [],
   "source": [
    "import numpy as np\n",
    "import pandas as pd\n",
    "from matplotlib import pyplot as plt\n",
    "import seaborn as sns"
   ]
  },
  {
   "cell_type": "code",
   "execution_count": 24,
   "id": "f79c0c06",
   "metadata": {},
   "outputs": [
    {
     "data": {
      "text/html": [
       "<div>\n",
       "<style scoped>\n",
       "    .dataframe tbody tr th:only-of-type {\n",
       "        vertical-align: middle;\n",
       "    }\n",
       "\n",
       "    .dataframe tbody tr th {\n",
       "        vertical-align: top;\n",
       "    }\n",
       "\n",
       "    .dataframe thead th {\n",
       "        text-align: right;\n",
       "    }\n",
       "</style>\n",
       "<table border=\"1\" class=\"dataframe\">\n",
       "  <thead>\n",
       "    <tr style=\"text-align: right;\">\n",
       "      <th></th>\n",
       "      <th>Id</th>\n",
       "      <th>SepalLengthCm</th>\n",
       "      <th>SepalWidthCm</th>\n",
       "      <th>PetalLengthCm</th>\n",
       "      <th>PetalWidthCm</th>\n",
       "      <th>Species</th>\n",
       "    </tr>\n",
       "  </thead>\n",
       "  <tbody>\n",
       "    <tr>\n",
       "      <th>0</th>\n",
       "      <td>1</td>\n",
       "      <td>5.1</td>\n",
       "      <td>3.5</td>\n",
       "      <td>1.4</td>\n",
       "      <td>0.2</td>\n",
       "      <td>Iris-setosa</td>\n",
       "    </tr>\n",
       "    <tr>\n",
       "      <th>1</th>\n",
       "      <td>2</td>\n",
       "      <td>4.9</td>\n",
       "      <td>3.0</td>\n",
       "      <td>1.4</td>\n",
       "      <td>0.2</td>\n",
       "      <td>Iris-setosa</td>\n",
       "    </tr>\n",
       "    <tr>\n",
       "      <th>2</th>\n",
       "      <td>3</td>\n",
       "      <td>4.7</td>\n",
       "      <td>3.2</td>\n",
       "      <td>1.3</td>\n",
       "      <td>0.2</td>\n",
       "      <td>Iris-setosa</td>\n",
       "    </tr>\n",
       "    <tr>\n",
       "      <th>3</th>\n",
       "      <td>4</td>\n",
       "      <td>4.6</td>\n",
       "      <td>3.1</td>\n",
       "      <td>1.5</td>\n",
       "      <td>0.2</td>\n",
       "      <td>Iris-setosa</td>\n",
       "    </tr>\n",
       "    <tr>\n",
       "      <th>4</th>\n",
       "      <td>5</td>\n",
       "      <td>5.0</td>\n",
       "      <td>3.6</td>\n",
       "      <td>1.4</td>\n",
       "      <td>0.2</td>\n",
       "      <td>Iris-setosa</td>\n",
       "    </tr>\n",
       "  </tbody>\n",
       "</table>\n",
       "</div>"
      ],
      "text/plain": [
       "   Id  SepalLengthCm  SepalWidthCm  PetalLengthCm  PetalWidthCm      Species\n",
       "0   1            5.1           3.5            1.4           0.2  Iris-setosa\n",
       "1   2            4.9           3.0            1.4           0.2  Iris-setosa\n",
       "2   3            4.7           3.2            1.3           0.2  Iris-setosa\n",
       "3   4            4.6           3.1            1.5           0.2  Iris-setosa\n",
       "4   5            5.0           3.6            1.4           0.2  Iris-setosa"
      ]
     },
     "execution_count": 24,
     "metadata": {},
     "output_type": "execute_result"
    }
   ],
   "source": [
    "iris = pd.read_csv('iris.csv')\n",
    "iris.head()"
   ]
  },
  {
   "cell_type": "code",
   "execution_count": 37,
   "id": "51aa51c4",
   "metadata": {},
   "outputs": [],
   "source": [
    "from sklearn.preprocessing import LabelEncoder\n",
    "\n",
    "X = iris[['SepalLengthCm', 'SepalWidthCm','PetalLengthCm', 'PetalWidthCm']].values\n",
    "y = iris['Species'].values\n",
    "\n",
    "enc = LabelEncoder()\n",
    "label_encoder = enc.fit(y)\n",
    "y = label_encoder.transform(y) + 1\n",
    "\n",
    "label_dict = {1:'Iris-setosa',2:'Iris-versicolor',3:'Iris-virginica'}"
   ]
  },
  {
   "cell_type": "markdown",
   "id": "895e9ac7",
   "metadata": {},
   "source": [
    "$$\n",
    "X = \n",
    "\\begin{bmatrix}\n",
    "x_{1_{SLCm}} \\ \\ \\ \\ \\ \\ x_{1_{SWCm}} \\ \\ \\ \\ \\ \\  x_{1_{PLCm}} \\ \\ \\ \\ \\ \\  x_{1_{PWCm}} \\ \\   \\\\\n",
    "x_{2_{SLCm}} \\ \\ \\ \\ \\ \\ x_{2_{SWCm}} \\ \\ \\ \\ \\ \\  x_{2_{PLCm}} \\ \\ \\ \\ \\ \\  x_{2_{PWCm}} \\ \\   \\\\\n",
    "... \\\\\n",
    "x_{150_{SLCm}} \\ \\ x_{150_{SWCm}} \\ \\  x_{150_{PLCm}} \\ \\  x_{150_{PWCm}} \\ \\   \\\\\n",
    "\\end{bmatrix}_{150x4}, \\\n",
    "Y =\n",
    "\\begin{bmatrix}\n",
    "\\omega_{Species} \\\\\n",
    "... \\\\\n",
    "\\omega_{Species} \\\\\n",
    "\\end{bmatrix}_{150x1}\n",
    "$$"
   ]
  },
  {
   "cell_type": "markdown",
   "id": "a26e482d",
   "metadata": {},
   "source": [
    "### 1. Computing the d-dimensional mean vectors\n",
    "\n",
    "We will start off with a simple computation of the mean vectors $m_{i}, (i=1,2,3)$ of the 3 different classes:\n",
    "\n",
    "$$\n",
    "m_{i} = \n",
    "\\begin{bmatrix}\n",
    "\\mu_{\\omega_{i}}(SLCm)    \\\\\n",
    "\\mu_{\\omega_{i}}(SWCm)    \\\\\n",
    "\\mu_{\\omega_{i}}(PLCm)    \\\\\n",
    "\\mu_{\\omega_{i}}(PWCm)    \\\\\n",
    "\\end{bmatrix},\n",
    "\\ with \\ \\ i=1,2,3\n",
    "$$"
   ]
  },
  {
   "cell_type": "code",
   "execution_count": 38,
   "id": "1fbb1071",
   "metadata": {},
   "outputs": [
    {
     "name": "stdout",
     "output_type": "stream",
     "text": [
      "Mean Vector class 1: [5.006 3.418 1.464 0.244]\n",
      "\n",
      "Mean Vector class 2: [5.936 2.77  4.26  1.326]\n",
      "\n",
      "Mean Vector class 3: [6.588 2.974 5.552 2.026]\n",
      "\n"
     ]
    }
   ],
   "source": [
    "np.set_printoptions(precision=4)\n",
    "\n",
    "mean_vectors = []\n",
    "for cl in range(1,4):\n",
    "    mean_vectors.append(np.mean(X[y==cl], axis=0))\n",
    "    print('Mean Vector class %s: %s\\n' %(cl, mean_vectors[cl-1]))"
   ]
  },
  {
   "cell_type": "markdown",
   "id": "a9c9ea69",
   "metadata": {},
   "source": [
    "### 2. Within-class scatter matrix $S_{W}$\n",
    "\n",
    "The within-class scatter matrix $S_{W}$ is computed by the following equation:\n",
    "\n",
    "$$\n",
    "S_{w}=\\sum_{i=1}^{K}\\Sigma_{i}\n",
    "$$\n",
    "\n",
    "Where $\\Sigma_{i} = \\sum_{i=1}^{n}(x-\\mu){i})(x-\\mu_{i})^{T}$ (scatter matrix for every class) and $\\mu_{i}=\\frac{1}{n_{i}}\\sum_{i=1}^{n_{i}}x_{k}$ is the mean vector."
   ]
  },
  {
   "cell_type": "code",
   "execution_count": 39,
   "id": "dc1c46ce",
   "metadata": {},
   "outputs": [
    {
     "name": "stdout",
     "output_type": "stream",
     "text": [
      "within-class Scatter Matrix:\n",
      " [[38.9562 13.683  24.614   5.6556]\n",
      " [13.683  17.035   8.12    4.9132]\n",
      " [24.614   8.12   27.22    6.2536]\n",
      " [ 5.6556  4.9132  6.2536  6.1756]]\n"
     ]
    }
   ],
   "source": [
    "S_W = np.zeros((4,4))\n",
    "for cl,mv in zip(range(1,4), mean_vectors):\n",
    "    class_sc_mat = np.zeros((4,4))                  # scatter matrix for every class\n",
    "    for row in X[y == cl]:\n",
    "        row, mv = row.reshape(4,1), mv.reshape(4,1) # make column vectors\n",
    "        class_sc_mat += (row-mv).dot((row-mv).T)\n",
    "    S_W += class_sc_mat                             # sum class scatter matrices\n",
    "print('within-class Scatter Matrix:\\n', S_W)"
   ]
  },
  {
   "cell_type": "markdown",
   "id": "3b7531f6",
   "metadata": {},
   "source": [
    "### 3. Between-class scatter matrix $S_{B}$\n",
    "\n",
    "The between-class scatter matrix $S_{B}$ is computed by the following equation:\n",
    "\n",
    "$$\n",
    "S_{B} = \\sum_{i=1}^{n}N_{i}(\\mu-\\mu_{i})(\\mu-\\mu_{i})^{T}\n",
    "$$\n",
    "\n",
    "where $\\mu$ is the overall mean, and $\\mu_{i}$ and $N_{i}$ are the sample mean and sizes of the respective classes."
   ]
  },
  {
   "cell_type": "code",
   "execution_count": 40,
   "id": "5a300182",
   "metadata": {},
   "outputs": [
    {
     "name": "stdout",
     "output_type": "stream",
     "text": [
      "between-class Scatter Matrix:\n",
      " [[ 63.2121 -19.534  165.1647  71.3631]\n",
      " [-19.534   10.9776 -56.0552 -22.4924]\n",
      " [165.1647 -56.0552 436.6437 186.9081]\n",
      " [ 71.3631 -22.4924 186.9081  80.6041]]\n"
     ]
    }
   ],
   "source": [
    "overall_mean = np.mean(X, axis=0)\n",
    "\n",
    "S_B = np.zeros((4,4))\n",
    "for i,mean_vec in enumerate(mean_vectors):  \n",
    "    n = X[y==i+1,:].shape[0]\n",
    "    mean_vec = mean_vec.reshape(4,1) # make column vector\n",
    "    overall_mean = overall_mean.reshape(4,1) # make column vector\n",
    "    S_B += n * (mean_vec - overall_mean).dot((mean_vec - overall_mean).T)\n",
    "\n",
    "print('between-class Scatter Matrix:\\n', S_B)"
   ]
  },
  {
   "cell_type": "markdown",
   "id": "8cf3d382",
   "metadata": {},
   "source": [
    "### 4. Solving the generalized eigenvalue problem for the matrix $S_{W}^{-1}S_{B}$"
   ]
  },
  {
   "cell_type": "code",
   "execution_count": 41,
   "id": "27da0ef3",
   "metadata": {},
   "outputs": [],
   "source": [
    "eig_vals, eig_vecs = np.linalg.eig(np.linalg.inv(S_W).dot(S_B))\n",
    "\n",
    "for i in range(len(eig_vals)):\n",
    "    eigvec_sc = eig_vecs[:,i].reshape(4,1)  "
   ]
  },
  {
   "cell_type": "markdown",
   "id": "f1b7cae7",
   "metadata": {},
   "source": [
    "### 5. Sorting the eigenvectors by decreasing eigenvalues"
   ]
  },
  {
   "cell_type": "code",
   "execution_count": 42,
   "id": "ed480138",
   "metadata": {},
   "outputs": [
    {
     "name": "stdout",
     "output_type": "stream",
     "text": [
      "Eigenvalues in decreasing order:\n",
      "\n",
      "32.27195779972981\n",
      "0.27756686384003953\n",
      "1.1483362279322388e-14\n",
      "3.422458920849769e-15\n"
     ]
    }
   ],
   "source": [
    "# Make a list of (eigenvalue, eigenvector) tuples\n",
    "eig_pairs = [(np.abs(eig_vals[i]), eig_vecs[:,i]) for i in range(len(eig_vals))]\n",
    "\n",
    "# Sort the (eigenvalue, eigenvector) tuples from high to low\n",
    "eig_pairs = sorted(eig_pairs, key=lambda k: k[0], reverse=True)\n",
    "\n",
    "# Visually confirm that the list is correctly sorted by decreasing eigenvalues\n",
    "\n",
    "print('Eigenvalues in decreasing order:\\n')\n",
    "for i in eig_pairs:\n",
    "    print(i[0])"
   ]
  },
  {
   "cell_type": "markdown",
   "id": "533ae4d7",
   "metadata": {},
   "source": [
    "### 6. Choosing k eigenvectors with the largest eigenvalues\n",
    "\n",
    "After sorting the eigenpairs by decreasing eigenvalues, it is now time to construct our $d$×$k$-dimensional eigenvector matrix $W$ (here 4×2: based on the 2 most informative eigenpairs) and thereby reducing the initial 4-dimensional feature space into a 2-dimensional feature subspace."
   ]
  },
  {
   "cell_type": "code",
   "execution_count": 43,
   "id": "a2b318d2",
   "metadata": {},
   "outputs": [
    {
     "name": "stdout",
     "output_type": "stream",
     "text": [
      "Matrix W:\n",
      " [[-0.2049 -0.009 ]\n",
      " [-0.3871 -0.589 ]\n",
      " [ 0.5465  0.2543]\n",
      " [ 0.7138 -0.767 ]]\n"
     ]
    }
   ],
   "source": [
    "W = np.hstack((eig_pairs[0][1].reshape(4,1), eig_pairs[1][1].reshape(4,1)))\n",
    "print('Matrix W:\\n', W.real)"
   ]
  },
  {
   "cell_type": "markdown",
   "id": "58b0d183",
   "metadata": {},
   "source": [
    "### 7. Transforming the samples onto the new subspace\n",
    "\n",
    "We use the 4×2-dimensional matrix $W$ that we just computed to transform our samples onto the new subspace via the equation: \n",
    "\n",
    "$$\n",
    "Y=X \\times W\n",
    "$$"
   ]
  },
  {
   "cell_type": "code",
   "execution_count": 44,
   "id": "b41b6142",
   "metadata": {},
   "outputs": [],
   "source": [
    "X_lda = X.dot(W)\n",
    "assert X_lda.shape == (150,2), \"The matrix is not 150x2 dimensional.\""
   ]
  },
  {
   "cell_type": "code",
   "execution_count": 56,
   "id": "ffefb077",
   "metadata": {},
   "outputs": [],
   "source": [
    "from matplotlib import pyplot as plt\n",
    "\n",
    "def plot_step_lda():\n",
    "\n",
    "    ax = plt.subplot(111)\n",
    "    for label,marker,color in zip(\n",
    "        range(1,4),('^', 's', 'o'),('blue', 'red', 'green')):\n",
    "\n",
    "        plt.scatter(x=X_lda[:,0].real[y == label],\n",
    "                y=X_lda[:,1].real[y == label],\n",
    "                marker=marker,\n",
    "                color=color,\n",
    "                alpha=0.5,\n",
    "                label=label_dict[label]\n",
    "                )\n",
    "\n",
    "    plt.xlabel('LD1')\n",
    "    plt.ylabel('LD2')\n",
    "\n",
    "    leg = plt.legend(loc='upper right', fancybox=True)\n",
    "    leg.get_frame().set_alpha(0.5)\n",
    "    plt.title('LDA: Iris projection onto the first 2 linear discriminants')\n",
    "\n",
    "    # hide axis ticks\n",
    "    plt.tick_params(axis=\"both\", which=\"both\", bottom=\"off\", top=\"off\",  \n",
    "            labelbottom=\"on\", left=\"off\", right=\"off\", labelleft=\"on\")\n",
    "\n",
    "    # remove axis spines\n",
    "    ax.spines[\"top\"].set_visible(False)  \n",
    "    ax.spines[\"right\"].set_visible(False)\n",
    "    ax.spines[\"bottom\"].set_visible(False)\n",
    "    ax.spines[\"left\"].set_visible(False)    \n",
    "\n",
    "    plt.grid()\n",
    "    plt.tight_layout\n",
    "    plt.show()"
   ]
  },
  {
   "cell_type": "code",
   "execution_count": 57,
   "id": "ed840c6d",
   "metadata": {},
   "outputs": [
    {
     "data": {
      "image/png": "[encoded data removed]",
      "text/plain": [
       "<Figure size 432x288 with 1 Axes>"
      ]
     },
     "metadata": {
      "needs_background": "light"
     },
     "output_type": "display_data"
    }
   ],
   "source": [
    "plot_step_lda()"
   ]
  },
  {
   "cell_type": "markdown",
   "id": "bcda476a",
   "metadata": {},
   "source": [
    "## Implementing FDA from sklearn"
   ]
  },
  {
   "cell_type": "code",
   "execution_count": 46,
   "id": "62efc873",
   "metadata": {},
   "outputs": [],
   "source": [
    "from sklearn.discriminant_analysis import LinearDiscriminantAnalysis as LDA\n",
    "\n",
    "# LDA\n",
    "sklearn_lda = LDA(n_components=2)\n",
    "X_lda_sklearn = sklearn_lda.fit_transform(X, y)"
   ]
  },
  {
   "cell_type": "code",
   "execution_count": 54,
   "id": "24b60f54",
   "metadata": {},
   "outputs": [],
   "source": [
    "def plot_scikit_lda(X, title):\n",
    "\n",
    "    ax = plt.subplot(111)\n",
    "    for label,marker,color in zip(\n",
    "        range(1,4),('^', 's', 'o'),('blue', 'red', 'green')):\n",
    "\n",
    "        plt.scatter(x=X[:,0][y == label],\n",
    "                    y=X[:,1][y == label] * -1, # flip the figure\n",
    "                    marker=marker,\n",
    "                    color=color,\n",
    "                    alpha=0.5,\n",
    "                    label=label_dict[label])\n",
    "\n",
    "    plt.xlabel('LD1')\n",
    "    plt.ylabel('LD2')\n",
    "\n",
    "    leg = plt.legend(loc='upper right', fancybox=True)\n",
    "    leg.get_frame().set_alpha(0.5)\n",
    "    plt.title(title)\n",
    "\n",
    "    # hide axis ticks\n",
    "    plt.tick_params(axis=\"both\", which=\"both\", bottom=\"off\", top=\"off\",  \n",
    "            labelbottom=\"on\", left=\"off\", right=\"off\", labelleft=\"on\")\n",
    "\n",
    "    # remove axis spines\n",
    "    ax.spines[\"top\"].set_visible(False)  \n",
    "    ax.spines[\"right\"].set_visible(False)\n",
    "    ax.spines[\"bottom\"].set_visible(False)\n",
    "    ax.spines[\"left\"].set_visible(False)    \n",
    "\n",
    "    plt.grid()\n",
    "    plt.tight_layout\n",
    "    plt.show()"
   ]
  },
  {
   "cell_type": "code",
   "execution_count": 55,
   "id": "1a87fd27",
   "metadata": {},
   "outputs": [
    {
     "data": {
      "image/png": "[encoded data removed]",
      "text/plain": [
       "<Figure size 432x288 with 1 Axes>"
      ]
     },
     "metadata": {
      "needs_background": "light"
     },
     "output_type": "display_data"
    }
   ],
   "source": [
    "plot_scikit_lda(X_lda_sklearn, title='Default LDA via scikit-learn')"
   ]
  },
  {
   "cell_type": "markdown",
   "id": "a3319164",
   "metadata": {},
   "source": [
    "## PCA vs. LDA\n",
    "\n",
    "Both Linear Discriminant Analysis (LDA) and Principal Component Analysis (PCA) are linear transformation techniques that are commonly used for dimensionality reduction. PCA can be described as an “unsupervised” algorithm, since it “ignores” class labels and its goal is to find the directions (the so-called principal components) that maximize the variance in a dataset. In contrast to PCA, LDA is “supervised” and computes the directions (“linear discriminants”) that will represent the axes that that maximize the separation between multiple classes.\n",
    "\n",
    "Although it might sound intuitive that LDA is superior to PCA for a multi-class classification task where the class labels are known, this might not always the case.\n",
    "\n",
    "<img src=\"06_images/6_PCA_vs_LDA.PNG\" width=800px/>"
   ]
  },
  {
   "cell_type": "code",
   "execution_count": 64,
   "id": "5bfdb6c4",
   "metadata": {},
   "outputs": [],
   "source": [
    "from sklearn.decomposition import PCA as sklearnPCA\n",
    "\n",
    "sklearn_pca = sklearnPCA(n_components=2)\n",
    "X_pca = sklearn_pca.fit_transform(X)\n",
    "\n",
    "def plot_pca():\n",
    "\n",
    "    ax = plt.subplot(111)\n",
    "\n",
    "    for label,marker,color in zip(\n",
    "        range(1,4),('^', 's', 'o'),('blue', 'red', 'green')):\n",
    "\n",
    "        plt.scatter(x=X_pca[:,0][y == label],\n",
    "                y=X_pca[:,1][y == label],\n",
    "                marker=marker,\n",
    "                color=color,\n",
    "                alpha=0.5,\n",
    "                label=label_dict[label]\n",
    "                )\n",
    "\n",
    "    plt.xlabel('PC1')\n",
    "    plt.ylabel('PC2')\n",
    "\n",
    "    leg = plt.legend(loc='upper right', fancybox=True)\n",
    "    leg.get_frame().set_alpha(0.5)\n",
    "    plt.title('PCA: Iris projection onto the first 2 principal components')\n",
    "\n",
    "    # hide axis ticks\n",
    "    plt.tick_params(axis=\"both\", which=\"both\", bottom=\"off\", top=\"off\",  \n",
    "            labelbottom=\"on\", left=\"off\", right=\"off\", labelleft=\"on\")\n",
    "\n",
    "    # remove axis spines\n",
    "    ax.spines[\"top\"].set_visible(False)  \n",
    "    ax.spines[\"right\"].set_visible(False)\n",
    "    ax.spines[\"bottom\"].set_visible(False)\n",
    "    ax.spines[\"left\"].set_visible(False)    \n",
    "\n",
    "    plt.tight_layout\n",
    "    plt.grid()\n",
    "\n",
    "    plt.show()"
   ]
  },
  {
   "cell_type": "code",
   "execution_count": 65,
   "id": "3949ade2",
   "metadata": {},
   "outputs": [
    {
     "data": {
      "image/png": "[encoded data removed]",
      "text/plain": [
       "<Figure size 432x288 with 1 Axes>"
      ]
     },
     "metadata": {
      "needs_background": "light"
     },
     "output_type": "display_data"
    },
    {
     "data": {
      "image/png": "[encoded data removed]",
      "text/plain": [
       "<Figure size 432x288 with 1 Axes>"
      ]
     },
     "metadata": {
      "needs_background": "light"
     },
     "output_type": "display_data"
    }
   ],
   "source": [
    "plot_pca()\n",
    "plot_scikit_lda(X_lda_sklearn, title='Default LDA via scikit-learn')"
   ]
  },
  {
   "cell_type": "markdown",
   "id": "1af4207e",
   "metadata": {},
   "source": [
    "## Reference"
   ]
  },
  {
   "cell_type": "markdown",
   "id": "438c69f2",
   "metadata": {},
   "source": [
    "[1]$\\ \\ \\ \\$Raschka, S. (2014, August 3). Linear Discriminant Analysis. Dr. Sebastian Raschka. https://sebastianraschka.com/Articles/2014_python_lda.html. "
   ]
  }
 ],
 "metadata": {
  "kernelspec": {
   "display_name": "Python 3",
   "language": "python",
   "name": "python3"
  },
  "language_info": {
   "codemirror_mode": {
    "name": "ipython",
    "version": 3
   },
   "file_extension": ".py",
   "mimetype": "text/x-python",
   "name": "python",
   "nbconvert_exporter": "python",
   "pygments_lexer": "ipython3",
   "version": "3.7.10"
  }
 },
 "nbformat": 4,
 "nbformat_minor": 5
}
