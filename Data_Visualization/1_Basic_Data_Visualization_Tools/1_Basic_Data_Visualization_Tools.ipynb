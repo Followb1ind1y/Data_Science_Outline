{
  "cells": [
    {
      "cell_type": "markdown",
      "metadata": {
        "id": "6eyDWeCNCdKh"
      },
      "source": [
        "# <div align=\"right\">Data Visualization \n",
        "### <div align=\"right\"> *Followblindly*"
      ]
    },
    {
      "cell_type": "markdown",
      "metadata": {
        "id": "1z6pXIHZCdKj"
      },
      "source": [
        "# 1 - Basic Data Visualization Tools"
      ]
    },
    {
      "cell_type": "markdown",
      "metadata": {
        "id": "wZeq1mXPCdKj"
      },
      "source": [
        "## Importing Datasets"
      ]
    },
    {
      "cell_type": "code",
      "execution_count": null,
      "metadata": {
        "id": "HW9-hoInCdKk",
        "outputId": "246ed4dc-397c-4aa0-e2e1-f32f631e445e"
      },
      "outputs": [],
      "source": [
        "import pandas as pd\n",
        "iris = pd.read_csv('iris.csv')\n",
        "iris.head()"
      ]
    },
    {
      "cell_type": "code",
      "execution_count": null,
      "metadata": {
        "id": "em8xf04OCdKl"
      },
      "outputs": [],
      "source": [
        "iris['SepalLengthCm'] = pd.to_numeric(iris['SepalLengthCm'])\n",
        "iris['SepalWidthCm'] = pd.to_numeric(iris['SepalWidthCm'])"
      ]
    },
    {
      "cell_type": "code",
      "execution_count": null,
      "metadata": {
        "id": "tnmbRIIyCdKl",
        "outputId": "f13acd7f-619b-456e-ebf7-23f8a01edd96"
      },
      "outputs": [],
      "source": [
        "iris.describe()"
      ]
    },
    {
      "cell_type": "code",
      "execution_count": null,
      "metadata": {
        "id": "PDqkBuZJCdKl",
        "outputId": "490706df-a969-426d-a78d-383382d26213"
      },
      "outputs": [],
      "source": [
        "iris.info()"
      ]
    },
    {
      "cell_type": "code",
      "execution_count": null,
      "metadata": {
        "id": "PSL8MR1QCdKm",
        "outputId": "046437fb-6d43-413b-fe3d-f832438a77ba"
      },
      "outputs": [],
      "source": [
        "wine_reviews = pd.read_csv('winemag-data-130k-v2.csv', index_col=0)\n",
        "wine_reviews.head() #View first 5 data rows"
      ]
    },
    {
      "cell_type": "code",
      "execution_count": null,
      "metadata": {
        "id": "Kt57RGDkCdKm",
        "outputId": "f806c849-4176-47c5-b9bb-641c48399324"
      },
      "outputs": [],
      "source": [
        "wine_reviews.describe()"
      ]
    },
    {
      "cell_type": "code",
      "execution_count": null,
      "metadata": {
        "id": "fD8ngWs-CdKm",
        "outputId": "69fad5b4-1eef-4f55-80eb-8ec6942d777a"
      },
      "outputs": [],
      "source": [
        "wine_reviews.info()"
      ]
    },
    {
      "cell_type": "markdown",
      "metadata": {
        "id": "irFzOkdaCdKm"
      },
      "source": [
        "## Pandas Profiling\n",
        "\n",
        "Pandas profiling is a library that generates interactive reports with our data, we can see the distribution of the data, the types of data, possible problems it might have. It is very easy to use, with only 3 lines we can generate a report that we can send to anyone and that can be used even if you do not know programming."
      ]
    },
    {
      "cell_type": "code",
      "execution_count": null,
      "metadata": {
        "colab": {
          "referenced_widgets": [
            "874f1e05601e43709a32bf657560b585",
            "bcf67900812840dda2628b438c151bfd",
            "3021ca1a5adf4d9fb68868eb39d035cc",
            "3f2d7b1f574048c3ad87ccbe89a05859"
          ]
        },
        "id": "--KcsOQlCdKn",
        "outputId": "bb018772-920c-4559-9f68-10891308274a"
      },
      "outputs": [],
      "source": [
        "from pandas_profiling import ProfileReport\n",
        "prof = ProfileReport(iris)\n",
        "prof.to_file(output_file='report.html')"
      ]
    },
    {
      "cell_type": "markdown",
      "metadata": {
        "id": "L5UbStMnCdKn"
      },
      "source": [
        "## Matplotlib  Visualization\n",
        "\n",
        "Matplotlib is the most basic library for visualizing data graphically. It includes many of the graphs that we can think of. Just because it is basic does not mean that it is not powerful, many of the other data visualization libraries we are going to talk about are based on it. Matplotlib’s charts are made up of two main components, the axes (the lines that delimit the area of the chart) and the figure (where we draw the axes, titles and things that come out of the area of the axes)."
      ]
    },
    {
      "cell_type": "code",
      "execution_count": null,
      "metadata": {
        "id": "lWlMtjxyCdKo"
      },
      "outputs": [],
      "source": [
        "import matplotlib.pyplot as plt"
      ]
    },
    {
      "cell_type": "markdown",
      "metadata": {
        "id": "Pb6LLKSICdKo"
      },
      "source": [
        "### Scatter Plot\n",
        "To create a scatter plot in Matplotlib we can use the **scatter** method. We will also create a figure and an axis using **plt.subplots** so we can give our plot a title and labels."
      ]
    },
    {
      "cell_type": "code",
      "execution_count": null,
      "metadata": {
        "id": "jeZOjhi-CdKo",
        "outputId": "04ac990e-bdd0-42f3-fb13-1f7cc43eb9e6"
      },
      "outputs": [],
      "source": [
        "# create a figure and axis\n",
        "fig, ax = plt.subplots()\n",
        "\n",
        "# scatter the sepal_length against the sepal_width\n",
        "ax.scatter(iris['SepalLengthCm'], iris['SepalWidthCm'])\n",
        "# set a title and labels\n",
        "ax.set_title('Iris Dataset')\n",
        "ax.set_xlabel('SepalLengthCm')\n",
        "ax.set_ylabel('SepalWidthCm')"
      ]
    },
    {
      "cell_type": "code",
      "execution_count": null,
      "metadata": {
        "id": "N7a8ml4zCdKo",
        "outputId": "fead795b-f22f-42b1-e93d-469f3880e810"
      },
      "outputs": [],
      "source": [
        "# create color dictionary\n",
        "colors = {'Iris-setosa':'r', 'Iris-versicolor':'g', 'Iris-virginica':'b'}\n",
        "# create a figure and axis\n",
        "fig, ax = plt.subplots()\n",
        "# plot each data-point\n",
        "for i in range(len(iris['SepalLengthCm'])):\n",
        "    ax.scatter(iris['SepalLengthCm'][i], iris['SepalWidthCm'][i],color=colors[iris['Species'][i]])\n",
        "# set a title and labels\n",
        "ax.set_title('Iris Dataset')\n",
        "ax.set_xlabel('SepalLengthCm')\n",
        "ax.set_ylabel('SepalWidthCm')"
      ]
    },
    {
      "cell_type": "markdown",
      "metadata": {
        "id": "jgZDKS6nCdKp"
      },
      "source": [
        "### Line Chart\n",
        "In Matplotlib we can create a line chart by calling the **plot** method. We can also plot multiple columns in one graph, by looping through the columns we want and plotting each column on the same axis."
      ]
    },
    {
      "cell_type": "code",
      "execution_count": null,
      "metadata": {
        "id": "HBZkZmCfCdKp",
        "outputId": "abfbfbeb-3e3e-41c6-db3f-ce4e671152cb"
      },
      "outputs": [],
      "source": [
        "# get columns to plot\n",
        "columns = iris.columns.drop(['Species','Id'])\n",
        "# create x data\n",
        "x_data = range(0, iris.shape[0])\n",
        "# create figure and axis\n",
        "fig, ax = plt.subplots()\n",
        "# plot each column\n",
        "for column in columns:\n",
        "    ax.plot(x_data, iris[column], label=column)\n",
        "# set title and legend\n",
        "ax.set_title('Iris Dataset')\n",
        "ax.legend()"
      ]
    },
    {
      "cell_type": "markdown",
      "metadata": {
        "id": "ry-o3qXwCdKp"
      },
      "source": [
        "### Histogram\n",
        "\n",
        "In Matplotlib we can create a Histogram using the **hist** method. If we pass it categorical data like the points column from the wine-review dataset it will automatically calculate how often each class occurs."
      ]
    },
    {
      "cell_type": "code",
      "execution_count": null,
      "metadata": {
        "id": "ngXA0ou3CdKq",
        "outputId": "f948a020-b354-4255-d414-9b754a870d06"
      },
      "outputs": [],
      "source": [
        "# create figure and axis\n",
        "fig, ax = plt.subplots()\n",
        "# plot histogram\n",
        "ax.hist(wine_reviews['points'])\n",
        "# set title and labels\n",
        "ax.set_title('Wine Review Scores')\n",
        "ax.set_xlabel('Points')\n",
        "ax.set_ylabel('Frequency')"
      ]
    },
    {
      "cell_type": "markdown",
      "metadata": {
        "id": "6kvP9ugKCdKq"
      },
      "source": [
        "### Bar Chart\n",
        "\n",
        "A bar chart can be created using the **bar** method. The bar-chart isn’t automatically calculating the frequency of a category so we are going to use pandas **value_counts** function to do this. The bar-chart is useful for categorical data that doesn’t have a lot of different categories (less than 30) because else it can get quite messy."
      ]
    },
    {
      "cell_type": "code",
      "execution_count": null,
      "metadata": {
        "id": "NIjqBGdCCdKr",
        "outputId": "e7c140f8-2c4c-4fb0-da5e-5c6a1b3d7718"
      },
      "outputs": [],
      "source": [
        "# create a figure and axis \n",
        "fig, ax = plt.subplots() \n",
        "# count the occurrence of each class \n",
        "data = wine_reviews['points'].value_counts() \n",
        "# get x and y data \n",
        "points = data.index \n",
        "frequency = data.values \n",
        "# create bar chart \n",
        "ax.bar(points, frequency) \n",
        "# set title and labels \n",
        "ax.set_title('Wine Review Scores') \n",
        "ax.set_xlabel('Points') \n",
        "ax.set_ylabel('Frequency')"
      ]
    },
    {
      "cell_type": "markdown",
      "metadata": {
        "id": "9HqGjT3nCdKr"
      },
      "source": [
        "## Pandas Visualization\n",
        "\n",
        "Pandas is an open source high-performance, easy-to-use library providing data structures, such as dataframes, and data analysis tools like the visualization tools we will use. Pandas Visualization makes it really easy to create plots out of a pandas dataframe and series. It also has a higher level API than Matplotlib and therefore we need less code for the same results."
      ]
    },
    {
      "cell_type": "code",
      "execution_count": null,
      "metadata": {
        "id": "Ek6uiTJqCdKr"
      },
      "outputs": [],
      "source": [
        "import pandas as pd"
      ]
    },
    {
      "cell_type": "markdown",
      "metadata": {
        "id": "EiNUu-1kCdKr"
      },
      "source": [
        "### Scatter Plot\n",
        "\n",
        "To create a scatter plot in Pandas we can call **\\<dataset>.plot.scatter()** and pass it two arguments, the name of the x-column as well as the name of the y-column. Optionally we can also pass it a title."
      ]
    },
    {
      "cell_type": "code",
      "execution_count": null,
      "metadata": {
        "id": "aTgCWnfsCdKs",
        "outputId": "27859807-662b-43f6-ad36-1151475ce09e"
      },
      "outputs": [],
      "source": [
        "iris.plot.scatter(x='SepalLengthCm', y='SepalWidthCm', title='Iris Dataset')"
      ]
    },
    {
      "cell_type": "markdown",
      "metadata": {
        "id": "o-iUG-FCCdKs"
      },
      "source": [
        "### Line Chart\n",
        "\n",
        "To create a line-chart in Pandas we can call **\\<dataframe>.plot.line()**. Whilst in Matplotlib we needed to loop-through each column we wanted to plot, in Pandas we don’t need to do this because it automatically plots all available numeric columns (at least if we don’t specify a specific column/s)."
      ]
    },
    {
      "cell_type": "code",
      "execution_count": null,
      "metadata": {
        "id": "9aEh4uaBCdKs",
        "outputId": "602abdf9-13da-4f96-ff6b-c0a163d4013b"
      },
      "outputs": [],
      "source": [
        "iris.drop(['Species','Id'], axis=1).plot.line(title='Iris Dataset')"
      ]
    },
    {
      "cell_type": "markdown",
      "metadata": {
        "id": "bdB6SAPPCdKs"
      },
      "source": [
        "### Histogram\n",
        "\n",
        "In Pandas, we can create a Histogram with the **plot.hist** method. There aren’t any required arguments but we can optionally pass some like the bin size."
      ]
    },
    {
      "cell_type": "code",
      "execution_count": null,
      "metadata": {
        "id": "hK58NljQCdKs",
        "outputId": "6b574b80-5429-4315-e6d5-c55e5a6a713f"
      },
      "outputs": [],
      "source": [
        "wine_reviews['points'].plot.hist()"
      ]
    },
    {
      "cell_type": "code",
      "execution_count": null,
      "metadata": {
        "id": "u5H_KzqKCdKt",
        "outputId": "d4fdc95c-8af9-424a-ba03-e82b9ea7028b"
      },
      "outputs": [],
      "source": [
        "iris.drop(['Species','Id'], axis=1).plot.hist(subplots=True, layout=(2,2), figsize=(10, 10), bins=20)"
      ]
    },
    {
      "cell_type": "markdown",
      "metadata": {
        "id": "cHAH9W9zCdKt"
      },
      "source": [
        "### Bar Chart\n",
        "\n",
        "To plot a bar-chart we can use the **plot.bar()** method, but before we can call this we need to get our data. For this we will first count the occurrences using the **value_count()** method and then sort the occurrences from smallest to largest using the **sort_index()** method."
      ]
    },
    {
      "cell_type": "code",
      "execution_count": null,
      "metadata": {
        "id": "zPPf1n2LCdKt",
        "outputId": "6ae6a425-761a-4814-a9d2-4b5aac95161a"
      },
      "outputs": [],
      "source": [
        "wine_reviews['points'].value_counts().sort_index().plot.bar()"
      ]
    },
    {
      "cell_type": "code",
      "execution_count": null,
      "metadata": {
        "id": "fFgciSMECdKt",
        "outputId": "5fb4632a-d868-40ea-b1db-aa3e6d41c5ed"
      },
      "outputs": [],
      "source": [
        "wine_reviews['points'].value_counts().sort_index().plot.barh()"
      ]
    },
    {
      "cell_type": "code",
      "execution_count": null,
      "metadata": {
        "id": "Hj6SvxCTCdKt",
        "outputId": "1f0ed936-f76d-4d26-848f-183dc8e9b29f"
      },
      "outputs": [],
      "source": [
        "wine_reviews.groupby(\"country\").price.mean().sort_values(ascending=False)[:5].plot.bar()"
      ]
    },
    {
      "cell_type": "markdown",
      "metadata": {
        "id": "7IV0WjUtCdKt"
      },
      "source": [
        "## Seaborn Visualization\n",
        "\n",
        "Seaborn is a Python data visualization library based on Matplotlib. It provides a high-level interface for creating attractive graphs. Seaborn has a lot to offer. You can create graphs in one line that would take you multiple tens of lines in Matplotlib. Its standard designs are awesome and it also has a nice interface for working with pandas dataframes."
      ]
    },
    {
      "cell_type": "code",
      "execution_count": null,
      "metadata": {
        "id": "Au8fni3QCdKt"
      },
      "outputs": [],
      "source": [
        "import seaborn as sns"
      ]
    },
    {
      "cell_type": "markdown",
      "metadata": {
        "id": "79m8BnsKCdKu"
      },
      "source": [
        "### Scatter Plot\n",
        "\n",
        "We can use the **.scatterplot** method for creating a scatterplot, and just as in Pandas we need to pass it the column names of the x and y data, but now we also need to pass the data as an additional argument because we aren’t calling the function on the data directly as we did in Pandas."
      ]
    },
    {
      "cell_type": "code",
      "execution_count": null,
      "metadata": {
        "id": "vf-ukYRGCdKu",
        "outputId": "19d5715d-c677-44e6-9d3a-8c8a14eff84b"
      },
      "outputs": [],
      "source": [
        "sns.scatterplot(x='SepalLengthCm', y='SepalWidthCm', data=iris)"
      ]
    },
    {
      "cell_type": "code",
      "execution_count": null,
      "metadata": {
        "id": "bYg5EYSfCdKu",
        "outputId": "5561815f-8775-4928-c963-5c4f2479887a"
      },
      "outputs": [],
      "source": [
        "sns.scatterplot(x='SepalLengthCm', y='SepalWidthCm', hue='Species', data=iris)"
      ]
    },
    {
      "cell_type": "markdown",
      "metadata": {
        "id": "PHu_xGaYCdKu"
      },
      "source": [
        "### Line Chart\n",
        "\n",
        "To create a line-chart the **sns.lineplot** method can be used. The only required argument is the data, which in our case are the four numeric columns from the Iris dataset. We could also use the **sns.kdeplot** method which rounds of the edges of the curves and therefore is cleaner if you have a lot of outliers in your dataset."
      ]
    },
    {
      "cell_type": "code",
      "execution_count": null,
      "metadata": {
        "id": "xHenNHRgCdKu",
        "outputId": "26b55c76-60e8-4629-c2de-ddb6f9126fc1"
      },
      "outputs": [],
      "source": [
        "sns.lineplot(data=iris.drop(['Species','Id'], axis=1))"
      ]
    },
    {
      "cell_type": "markdown",
      "metadata": {
        "id": "eR3V4JPUCdKv"
      },
      "source": [
        "### Histogram\n",
        "\n",
        "To create a histogram in Seaborn we use the **sns.distplot** method. We need to pass it the column we want to plot and it will calculate the occurrences itself. We can also pass it the number of bins, and if we want to plot a gaussian kernel density estimate inside the graph."
      ]
    },
    {
      "cell_type": "code",
      "execution_count": null,
      "metadata": {
        "id": "rS3OAONTCdKv",
        "outputId": "ee9ad5b9-4f5d-477d-af0c-97d90ba34d66"
      },
      "outputs": [],
      "source": [
        "sns.distplot(wine_reviews['points'], bins=10, kde=False)"
      ]
    },
    {
      "cell_type": "code",
      "execution_count": null,
      "metadata": {
        "id": "SntM0kNMCdKv",
        "outputId": "f622b7ca-b42b-46a5-dfe9-df9f885e0296"
      },
      "outputs": [],
      "source": [
        "sns.distplot(wine_reviews['points'], bins=10, kde=True)"
      ]
    },
    {
      "cell_type": "markdown",
      "metadata": {
        "id": "ssQ7hCbbCdKv"
      },
      "source": [
        "### Bar Chart\n",
        "\n",
        "In Seaborn a bar-chart can be created using the **sns.countplot** method and passing it the data."
      ]
    },
    {
      "cell_type": "code",
      "execution_count": null,
      "metadata": {
        "id": "gxLv_eh-CdKv",
        "outputId": "3407d1f8-3d7f-4ecf-e781-995bb1732aad"
      },
      "outputs": [],
      "source": [
        "sns.countplot(wine_reviews['points'])"
      ]
    },
    {
      "cell_type": "markdown",
      "metadata": {
        "id": "1bKD_n7JCdKv"
      },
      "source": [
        "### Box Plot\n",
        "\n",
        "A Box Plot is a graphical method of displaying the five-number summary. We can create box plots using seaborns **sns.boxplot** method and passing it the data as well as the x and y column name."
      ]
    },
    {
      "cell_type": "code",
      "execution_count": null,
      "metadata": {
        "id": "ft-oCKVkCdKv",
        "outputId": "9160ca35-7109-4e93-9b35-88e5d572cf09"
      },
      "outputs": [],
      "source": [
        "df = wine_reviews[(wine_reviews['points']>=95) & (wine_reviews['price']<1000)]\n",
        "sns.boxplot('points', 'price', data=df)"
      ]
    },
    {
      "cell_type": "markdown",
      "metadata": {
        "id": "Detffw1sCdKw"
      },
      "source": [
        "### Heatmap\n",
        "\n",
        "A Heatmap is a graphical representation of data where the individual values contained in a matrix are represented as colors. Heatmaps are perfect for exploring the correlation of features in a dataset. To get the correlation of the features inside a dataset we can call **\\<dataset>.corr()*, which is a Pandas dataframe method. This will give us the correlation matrix."
      ]
    },
    {
      "cell_type": "code",
      "execution_count": null,
      "metadata": {
        "id": "Ahj6PZGwCdKw",
        "outputId": "da07f007-100c-4b0d-fa1c-bb4f2d5261d3"
      },
      "outputs": [],
      "source": [
        "sns.heatmap(iris.drop(['Species','Id'], axis=1).corr(), annot=True)"
      ]
    },
    {
      "cell_type": "markdown",
      "metadata": {
        "id": "C73TlaA7CdKw"
      },
      "source": [
        "### Faceting\n",
        "\n",
        "Faceting is the act of breaking data variables up across multiple subplots and combining those subplots into a single figure. Faceting is really helpful if you want to quickly explore your dataset. To use one kind of faceting in Seaborn we can use the **FacetGrid**. First of all, we need to define the **FacetGrid** and pass it our data as well as a row or column, which will be used to split the data. Then we need to call the **map** function on our **FacetGrid** object and define the plot type we want to use, as well as the column we want to graph."
      ]
    },
    {
      "cell_type": "code",
      "execution_count": null,
      "metadata": {
        "id": "5Yx88kXyCdKw",
        "outputId": "d1c812f4-cd2e-4b94-dd2a-6be789ec0cf6"
      },
      "outputs": [],
      "source": [
        "g = sns.FacetGrid(iris, col='Species')\n",
        "g = g.map(sns.kdeplot, 'SepalLengthCm')"
      ]
    },
    {
      "cell_type": "markdown",
      "metadata": {
        "id": "q6-_Q_o1CdKw"
      },
      "source": [
        "### Pairplot"
      ]
    },
    {
      "cell_type": "code",
      "execution_count": null,
      "metadata": {
        "id": "L9TQPDmWCdKw",
        "outputId": "f6717e45-cfec-4376-bfaf-7719a05cd25a"
      },
      "outputs": [],
      "source": [
        "sns.pairplot(iris.drop(['Species','Id'], axis=1))"
      ]
    },
    {
      "cell_type": "markdown",
      "metadata": {
        "id": "b1tHRtnZCdKx"
      },
      "source": [
        "### Reference"
      ]
    },
    {
      "attachments": {},
      "cell_type": "markdown",
      "metadata": {
        "id": "yWf3IhUwCdKx"
      },
      "source": [
        "[1] Tanner, G. (2019, March 6). Introduction to Data Visualization in Python. Medium. https://towardsdatascience.com/introduction-to-data-visualization-in-python-89a54c97fbed."
      ]
    },
    {
      "cell_type": "code",
      "execution_count": null,
      "metadata": {
        "colab": {
          "base_uri": "https://localhost:8080/"
        },
        "id": "Ngh6y4LtCtGx",
        "outputId": "d2d595a1-3f2a-4b88-c485-90634ab18071"
      },
      "outputs": [],
      "source": [
        "%%shell\n",
        "jupyter nbconvert --to html /content/1_Basic_Data_Visualization_Tools.ipynb"
      ]
    }
  ],
  "metadata": {
    "colab": {
      "provenance": []
    },
    "kernelspec": {
      "display_name": "Python 3",
      "language": "python",
      "name": "python3"
    },
    "language_info": {
      "codemirror_mode": {
        "name": "ipython",
        "version": 3
      },
      "file_extension": ".py",
      "mimetype": "text/x-python",
      "name": "python",
      "nbconvert_exporter": "python",
      "pygments_lexer": "ipython3",
      "version": "3.8.2 (default, Dec 21 2020, 15:06:04) \n[Clang 12.0.0 (clang-1200.0.32.29)]"
    },
    "vscode": {
      "interpreter": {
        "hash": "31f2aee4e71d21fbe5cf8b01ff0e069b9275f58929596ceb00d14d90e3e16cd6"
      }
    }
  },
  "nbformat": 4,
  "nbformat_minor": 0
}
