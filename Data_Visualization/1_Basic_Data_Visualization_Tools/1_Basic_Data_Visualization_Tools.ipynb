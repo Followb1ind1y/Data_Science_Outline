{
  "cells": [
    {
      "cell_type": "markdown",
      "metadata": {
        "id": "6eyDWeCNCdKh"
      },
      "source": [
        "# Data Visualization \n",
        "### *Followblindly*"
      ]
    },
    {
      "cell_type": "markdown",
      "metadata": {
        "id": "1z6pXIHZCdKj"
      },
      "source": [
        "# 1 - Basic Data Visualization Tools"
      ]
    },
    {
      "cell_type": "markdown",
      "metadata": {
        "id": "wZeq1mXPCdKj"
      },
      "source": [
        "## Importing Datasets"
      ]
    },
    {
      "cell_type": "code",
      "execution_count": null,
      "metadata": {
        "id": "HW9-hoInCdKk"
      },
      "outputs": [],
      "source": [
        "import pandas as pd\n",
        "iris = pd.read_csv('/content/Iris.csv')\n",
        "iris.head()"
      ]
    },
    {
      "cell_type": "code",
      "execution_count": 7,
      "metadata": {
        "id": "em8xf04OCdKl"
      },
      "outputs": [],
      "source": [
        "iris['SepalLengthCm'] = pd.to_numeric(iris['SepalLengthCm'])\n",
        "iris['SepalWidthCm'] = pd.to_numeric(iris['SepalWidthCm'])"
      ]
    },
    {
      "cell_type": "code",
      "execution_count": null,
      "metadata": {
        "id": "tnmbRIIyCdKl"
      },
      "outputs": [],
      "source": [
        "iris.describe()"
      ]
    },
    {
      "cell_type": "code",
      "execution_count": null,
      "metadata": {
        "id": "PDqkBuZJCdKl"
      },
      "outputs": [],
      "source": [
        "iris.info()"
      ]
    },
    {
      "cell_type": "code",
      "execution_count": null,
      "metadata": {
        "id": "PSL8MR1QCdKm"
      },
      "outputs": [],
      "source": [
        "wine_reviews = pd.read_csv('winemag-data-130k-v2.csv', index_col=0)\n",
        "wine_reviews.head() #View first 5 data rows"
      ]
    },
    {
      "cell_type": "code",
      "execution_count": null,
      "metadata": {
        "id": "Kt57RGDkCdKm"
      },
      "outputs": [],
      "source": [
        "wine_reviews.describe()"
      ]
    },
    {
      "cell_type": "code",
      "execution_count": null,
      "metadata": {
        "id": "fD8ngWs-CdKm"
      },
      "outputs": [],
      "source": [
        "wine_reviews.info()"
      ]
    },
    {
      "cell_type": "markdown",
      "metadata": {
        "id": "L5UbStMnCdKn"
      },
      "source": [
        "## Matplotlib  Visualization\n",
        "\n",
        "Matplotlib is the most basic library for visualizing data graphically. It includes many of the graphs that we can think of. Just because it is basic does not mean that it is not powerful, many of the other data visualization libraries we are going to talk about are based on it. Matplotlib’s charts are made up of two main components, the axes (the lines that delimit the area of the chart) and the figure (where we draw the axes, titles and things that come out of the area of the axes)."
      ]
    },
    {
      "cell_type": "code",
      "execution_count": 13,
      "metadata": {
        "id": "lWlMtjxyCdKo"
      },
      "outputs": [],
      "source": [
        "import matplotlib.pyplot as plt"
      ]
    },
    {
      "cell_type": "markdown",
      "metadata": {
        "id": "Pb6LLKSICdKo"
      },
      "source": [
        "### Scatter Plot\n",
        "To create a scatter plot in Matplotlib we can use the **scatter** method. We will also create a figure and an axis using **plt.subplots** so we can give our plot a title and labels."
      ]
    },
    {
      "cell_type": "code",
      "execution_count": null,
      "metadata": {
        "id": "jeZOjhi-CdKo"
      },
      "outputs": [],
      "source": [
        "# create a figure and axis\n",
        "fig, ax = plt.subplots()\n",
        "\n",
        "# scatter the sepal_length against the sepal_width\n",
        "ax.scatter(iris['SepalLengthCm'], iris['SepalWidthCm'])\n",
        "# set a title and labels\n",
        "ax.set_title('Iris Dataset')\n",
        "ax.set_xlabel('SepalLengthCm')\n",
        "ax.set_ylabel('SepalWidthCm')"
      ]
    },
    {
      "cell_type": "code",
      "execution_count": null,
      "metadata": {
        "id": "N7a8ml4zCdKo"
      },
      "outputs": [],
      "source": [
        "# create color dictionary\n",
        "colors = {'Iris-setosa':'r', 'Iris-versicolor':'g', 'Iris-virginica':'b'}\n",
        "# create a figure and axis\n",
        "fig, ax = plt.subplots()\n",
        "# plot each data-point\n",
        "for i in range(len(iris['SepalLengthCm'])):\n",
        "    ax.scatter(iris['SepalLengthCm'][i], iris['SepalWidthCm'][i],color=colors[iris['Species'][i]])\n",
        "# set a title and labels\n",
        "ax.set_title('Iris Dataset')\n",
        "ax.set_xlabel('SepalLengthCm')\n",
        "ax.set_ylabel('SepalWidthCm')"
      ]
    },
    {
      "cell_type": "markdown",
      "metadata": {
        "id": "jgZDKS6nCdKp"
      },
      "source": [
        "### Line Chart\n",
        "In Matplotlib we can create a line chart by calling the **plot** method. We can also plot multiple columns in one graph, by looping through the columns we want and plotting each column on the same axis."
      ]
    },
    {
      "cell_type": "code",
      "execution_count": null,
      "metadata": {
        "id": "HBZkZmCfCdKp"
      },
      "outputs": [],
      "source": [
        "# get columns to plot\n",
        "columns = iris.columns.drop(['Species','Id'])\n",
        "# create x data\n",
        "x_data = range(0, iris.shape[0])\n",
        "# create figure and axis\n",
        "fig, ax = plt.subplots()\n",
        "# plot each column\n",
        "for column in columns:\n",
        "    ax.plot(x_data, iris[column], label=column)\n",
        "# set title and legend\n",
        "ax.set_title('Iris Dataset')\n",
        "ax.legend()"
      ]
    },
    {
      "cell_type": "markdown",
      "metadata": {
        "id": "ry-o3qXwCdKp"
      },
      "source": [
        "### Histogram\n",
        "\n",
        "In Matplotlib we can create a Histogram using the **hist** method. If we pass it categorical data like the points column from the wine-review dataset it will automatically calculate how often each class occurs."
      ]
    },
    {
      "cell_type": "code",
      "execution_count": null,
      "metadata": {
        "id": "ngXA0ou3CdKq"
      },
      "outputs": [],
      "source": [
        "# create figure and axis\n",
        "fig, ax = plt.subplots()\n",
        "# plot histogram\n",
        "ax.hist(wine_reviews['points'])\n",
        "# set title and labels\n",
        "ax.set_title('Wine Review Scores')\n",
        "ax.set_xlabel('Points')\n",
        "ax.set_ylabel('Frequency')"
      ]
    },
    {
      "cell_type": "markdown",
      "metadata": {
        "id": "6kvP9ugKCdKq"
      },
      "source": [
        "### Bar Chart\n",
        "\n",
        "A bar chart can be created using the **bar** method. The bar-chart isn’t automatically calculating the frequency of a category so we are going to use pandas **value_counts** function to do this. The bar-chart is useful for categorical data that doesn’t have a lot of different categories (less than 30) because else it can get quite messy."
      ]
    },
    {
      "cell_type": "code",
      "execution_count": null,
      "metadata": {
        "id": "NIjqBGdCCdKr"
      },
      "outputs": [],
      "source": [
        "# create a figure and axis \n",
        "fig, ax = plt.subplots() \n",
        "# count the occurrence of each class \n",
        "data = wine_reviews['points'].value_counts() \n",
        "# get x and y data \n",
        "points = data.index \n",
        "frequency = data.values \n",
        "# create bar chart \n",
        "ax.bar(points, frequency) \n",
        "# set title and labels \n",
        "ax.set_title('Wine Review Scores') \n",
        "ax.set_xlabel('Points') \n",
        "ax.set_ylabel('Frequency')"
      ]
    },
    {
      "cell_type": "markdown",
      "metadata": {
        "id": "9HqGjT3nCdKr"
      },
      "source": [
        "## Pandas Visualization\n",
        "\n",
        "Pandas is an open source high-performance, easy-to-use library providing data structures, such as dataframes, and data analysis tools like the visualization tools we will use. Pandas Visualization makes it really easy to create plots out of a pandas dataframe and series. It also has a higher level API than Matplotlib and therefore we need less code for the same results."
      ]
    },
    {
      "cell_type": "code",
      "execution_count": 19,
      "metadata": {
        "id": "Ek6uiTJqCdKr"
      },
      "outputs": [],
      "source": [
        "import pandas as pd"
      ]
    },
    {
      "cell_type": "markdown",
      "metadata": {
        "id": "EiNUu-1kCdKr"
      },
      "source": [
        "### Scatter Plot\n",
        "\n",
        "To create a scatter plot in Pandas we can call **\\<dataset>.plot.scatter()** and pass it two arguments, the name of the x-column as well as the name of the y-column. Optionally we can also pass it a title."
      ]
    },
    {
      "cell_type": "code",
      "execution_count": null,
      "metadata": {
        "id": "aTgCWnfsCdKs"
      },
      "outputs": [],
      "source": [
        "iris.plot.scatter(x='SepalLengthCm', y='SepalWidthCm', title='Iris Dataset')"
      ]
    },
    {
      "cell_type": "markdown",
      "metadata": {
        "id": "o-iUG-FCCdKs"
      },
      "source": [
        "### Line Chart\n",
        "\n",
        "To create a line-chart in Pandas we can call **\\<dataframe>.plot.line()**. Whilst in Matplotlib we needed to loop-through each column we wanted to plot, in Pandas we don’t need to do this because it automatically plots all available numeric columns (at least if we don’t specify a specific column/s)."
      ]
    },
    {
      "cell_type": "code",
      "execution_count": null,
      "metadata": {
        "id": "9aEh4uaBCdKs"
      },
      "outputs": [],
      "source": [
        "iris.drop(['Species','Id'], axis=1).plot.line(title='Iris Dataset')"
      ]
    },
    {
      "cell_type": "markdown",
      "metadata": {
        "id": "bdB6SAPPCdKs"
      },
      "source": [
        "### Histogram\n",
        "\n",
        "In Pandas, we can create a Histogram with the **plot.hist** method. There aren’t any required arguments but we can optionally pass some like the bin size."
      ]
    },
    {
      "cell_type": "code",
      "execution_count": null,
      "metadata": {
        "id": "hK58NljQCdKs"
      },
      "outputs": [],
      "source": [
        "wine_reviews['points'].plot.hist()"
      ]
    },
    {
      "cell_type": "code",
      "execution_count": null,
      "metadata": {
        "id": "u5H_KzqKCdKt"
      },
      "outputs": [],
      "source": [
        "iris.drop(['Species','Id'], axis=1).plot.hist(subplots=True, layout=(2,2), figsize=(10, 10), bins=20)"
      ]
    },
    {
      "cell_type": "markdown",
      "metadata": {
        "id": "cHAH9W9zCdKt"
      },
      "source": [
        "### Bar Chart\n",
        "\n",
        "To plot a bar-chart we can use the **plot.bar()** method, but before we can call this we need to get our data. For this we will first count the occurrences using the **value_count()** method and then sort the occurrences from smallest to largest using the **sort_index()** method."
      ]
    },
    {
      "cell_type": "code",
      "execution_count": null,
      "metadata": {
        "id": "zPPf1n2LCdKt"
      },
      "outputs": [],
      "source": [
        "wine_reviews['points'].value_counts().sort_index().plot.bar()"
      ]
    },
    {
      "cell_type": "code",
      "execution_count": null,
      "metadata": {
        "id": "fFgciSMECdKt"
      },
      "outputs": [],
      "source": [
        "wine_reviews['points'].value_counts().sort_index().plot.barh()"
      ]
    },
    {
      "cell_type": "code",
      "execution_count": null,
      "metadata": {
        "id": "Hj6SvxCTCdKt"
      },
      "outputs": [],
      "source": [
        "wine_reviews.groupby(\"country\").price.mean().sort_values(ascending=False)[:5].plot.bar()"
      ]
    },
    {
      "cell_type": "markdown",
      "metadata": {
        "id": "7IV0WjUtCdKt"
      },
      "source": [
        "## Seaborn Visualization\n",
        "\n",
        "Seaborn is a Python data visualization library based on Matplotlib. It provides a high-level interface for creating attractive graphs. Seaborn has a lot to offer. You can create graphs in one line that would take you multiple tens of lines in Matplotlib. Its standard designs are awesome and it also has a nice interface for working with pandas dataframes."
      ]
    },
    {
      "cell_type": "code",
      "execution_count": 27,
      "metadata": {
        "id": "Au8fni3QCdKt"
      },
      "outputs": [],
      "source": [
        "import seaborn as sns"
      ]
    },
    {
      "cell_type": "markdown",
      "metadata": {
        "id": "79m8BnsKCdKu"
      },
      "source": [
        "### Scatter Plot\n",
        "\n",
        "We can use the **.scatterplot** method for creating a scatterplot, and just as in Pandas we need to pass it the column names of the x and y data, but now we also need to pass the data as an additional argument because we aren’t calling the function on the data directly as we did in Pandas."
      ]
    },
    {
      "cell_type": "code",
      "execution_count": null,
      "metadata": {
        "id": "vf-ukYRGCdKu"
      },
      "outputs": [],
      "source": [
        "sns.scatterplot(x='SepalLengthCm', y='SepalWidthCm', data=iris)"
      ]
    },
    {
      "cell_type": "code",
      "execution_count": null,
      "metadata": {
        "id": "bYg5EYSfCdKu"
      },
      "outputs": [],
      "source": [
        "sns.scatterplot(x='SepalLengthCm', y='SepalWidthCm', hue='Species', data=iris)"
      ]
    },
    {
      "cell_type": "markdown",
      "metadata": {
        "id": "PHu_xGaYCdKu"
      },
      "source": [
        "### Line Chart\n",
        "\n",
        "To create a line-chart the **sns.lineplot** method can be used. The only required argument is the data, which in our case are the four numeric columns from the Iris dataset. We could also use the **sns.kdeplot** method which rounds of the edges of the curves and therefore is cleaner if you have a lot of outliers in your dataset."
      ]
    },
    {
      "cell_type": "code",
      "execution_count": null,
      "metadata": {
        "id": "xHenNHRgCdKu"
      },
      "outputs": [],
      "source": [
        "sns.lineplot(data=iris.drop(['Species','Id'], axis=1))"
      ]
    },
    {
      "cell_type": "markdown",
      "metadata": {
        "id": "eR3V4JPUCdKv"
      },
      "source": [
        "### Histogram\n",
        "\n",
        "To create a histogram in Seaborn we use the **sns.distplot** method. We need to pass it the column we want to plot and it will calculate the occurrences itself. We can also pass it the number of bins, and if we want to plot a gaussian kernel density estimate inside the graph."
      ]
    },
    {
      "cell_type": "code",
      "execution_count": null,
      "metadata": {
        "id": "rS3OAONTCdKv"
      },
      "outputs": [],
      "source": [
        "sns.distplot(wine_reviews['points'], bins=10, kde=False)"
      ]
    },
    {
      "cell_type": "code",
      "execution_count": null,
      "metadata": {
        "id": "SntM0kNMCdKv"
      },
      "outputs": [],
      "source": [
        "sns.distplot(wine_reviews['points'], bins=10, kde=True)"
      ]
    },
    {
      "cell_type": "markdown",
      "metadata": {
        "id": "ssQ7hCbbCdKv"
      },
      "source": [
        "### Bar Chart\n",
        "\n",
        "In Seaborn a bar-chart can be created using the **sns.countplot** method and passing it the data."
      ]
    },
    {
      "cell_type": "code",
      "execution_count": null,
      "metadata": {
        "id": "gxLv_eh-CdKv"
      },
      "outputs": [],
      "source": [
        "sns.countplot(wine_reviews['points'])"
      ]
    },
    {
      "cell_type": "markdown",
      "metadata": {
        "id": "1bKD_n7JCdKv"
      },
      "source": [
        "### Box Plot\n",
        "\n",
        "A Box Plot is a graphical method of displaying the five-number summary. We can create box plots using seaborns **sns.boxplot** method and passing it the data as well as the x and y column name."
      ]
    },
    {
      "cell_type": "code",
      "execution_count": null,
      "metadata": {
        "id": "ft-oCKVkCdKv"
      },
      "outputs": [],
      "source": [
        "df = wine_reviews[(wine_reviews['points']>=95) & (wine_reviews['price']<1000)]\n",
        "sns.boxplot('points', 'price', data=df)"
      ]
    },
    {
      "cell_type": "markdown",
      "metadata": {
        "id": "Detffw1sCdKw"
      },
      "source": [
        "### Heatmap\n",
        "\n",
        "A Heatmap is a graphical representation of data where the individual values contained in a matrix are represented as colors. Heatmaps are perfect for exploring the correlation of features in a dataset. To get the correlation of the features inside a dataset we can call **\\<dataset>.corr()*, which is a Pandas dataframe method. This will give us the correlation matrix."
      ]
    },
    {
      "cell_type": "code",
      "execution_count": null,
      "metadata": {
        "id": "Ahj6PZGwCdKw"
      },
      "outputs": [],
      "source": [
        "sns.heatmap(iris.drop(['Species','Id'], axis=1).corr(), annot=True)"
      ]
    },
    {
      "cell_type": "markdown",
      "metadata": {
        "id": "C73TlaA7CdKw"
      },
      "source": [
        "### Faceting\n",
        "\n",
        "Faceting is the act of breaking data variables up across multiple subplots and combining those subplots into a single figure. Faceting is really helpful if you want to quickly explore your dataset. To use one kind of faceting in Seaborn we can use the **FacetGrid**. First of all, we need to define the **FacetGrid** and pass it our data as well as a row or column, which will be used to split the data. Then we need to call the **map** function on our **FacetGrid** object and define the plot type we want to use, as well as the column we want to graph."
      ]
    },
    {
      "cell_type": "code",
      "execution_count": null,
      "metadata": {
        "id": "5Yx88kXyCdKw"
      },
      "outputs": [],
      "source": [
        "g = sns.FacetGrid(iris, col='Species')\n",
        "g = g.map(sns.kdeplot, 'SepalLengthCm')"
      ]
    },
    {
      "cell_type": "markdown",
      "metadata": {
        "id": "q6-_Q_o1CdKw"
      },
      "source": [
        "### Pairplot"
      ]
    },
    {
      "cell_type": "code",
      "execution_count": null,
      "metadata": {
        "id": "L9TQPDmWCdKw"
      },
      "outputs": [],
      "source": [
        "sns.pairplot(iris.drop(['Species','Id'], axis=1))"
      ]
    },
    {
      "cell_type": "markdown",
      "metadata": {
        "id": "b1tHRtnZCdKx"
      },
      "source": [
        "### Reference"
      ]
    },
    {
      "cell_type": "markdown",
      "metadata": {
        "id": "yWf3IhUwCdKx"
      },
      "source": [
        "[1] Tanner, G. (2019, March 6). Introduction to Data Visualization in Python. Medium. https://towardsdatascience.com/introduction-to-data-visualization-in-python-89a54c97fbed."
      ]
    },
    {
      "cell_type": "code",
      "source": [
        "%%shell\n",
        "jupyter nbconvert --to html /content/1_Basic_Data_Visualization_Tools.ipynb"
      ],
      "metadata": {
        "id": "Ngh6y4LtCtGx"
      },
      "execution_count": null,
      "outputs": []
    }
  ],
  "metadata": {
    "kernelspec": {
      "display_name": "Python 3",
      "language": "python",
      "name": "python3"
    },
    "language_info": {
      "codemirror_mode": {
        "name": "ipython",
        "version": 3
      },
      "file_extension": ".py",
      "mimetype": "text/x-python",
      "name": "python",
      "nbconvert_exporter": "python",
      "pygments_lexer": "ipython3",
      "version": "3.7.10"
    },
    "colab": {
      "provenance": []
    }
  },
  "nbformat": 4,
  "nbformat_minor": 0
}